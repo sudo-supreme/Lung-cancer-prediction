{
  "nbformat": 4,
  "nbformat_minor": 0,
  "metadata": {
    "colab": {
      "provenance": [],
      "collapsed_sections": [
        "b6swyaXOrv8U",
        "hoUa1rwwtcu2",
        "1CC8zn-w41l4",
        "E4OgpEQC_66E",
        "H5mF4cQZDMyB",
        "7Ml4Fk18B81v",
        "q0WhozVACOck"
      ]
    },
    "kernelspec": {
      "name": "python3",
      "display_name": "Python 3"
    },
    "language_info": {
      "name": "python"
    },
    "gpuClass": "standard"
  },
  "cells": [
    {
      "cell_type": "markdown",
      "source": [
        "# <center>Data Mining Project </center>\n",
        "## <center> Lung Cancer Prediction </center>\n",
        "#### <center> Srilekha Malraju(msrilekh@iu.edu), Rohith Venkata Reddy(rohi@iu.edu) </center>"
      ],
      "metadata": {
        "id": "QkcdbpTr3wAt"
      }
    },
    {
      "cell_type": "markdown",
      "source": [
        "#### Importing required libraries"
      ],
      "metadata": {
        "id": "vwT3TSkCQBCO"
      }
    },
    {
      "cell_type": "code",
      "execution_count": null,
      "metadata": {
        "id": "JbXCbfdjM1SZ"
      },
      "outputs": [],
      "source": [
        "import numpy as np\n",
        "import pandas as pd\n",
        "import matplotlib.pyplot as plt\n",
        "import seaborn as sns\n",
        "from sklearn.preprocessing import LabelEncoder"
      ]
    },
    {
      "cell_type": "markdown",
      "source": [
        "#### Reading data"
      ],
      "metadata": {
        "id": "KS7HdvZUQHnI"
      }
    },
    {
      "cell_type": "code",
      "source": [
        "df = pd.read_csv('cancer patient data sets.csv')\n",
        "df.head()"
      ],
      "metadata": {
        "colab": {
          "base_uri": "https://localhost:8080/",
          "height": 348
        },
        "id": "rWPpNllzQQcL",
        "outputId": "e448ba09-5378-4f86-8983-ded8915c1cd0"
      },
      "execution_count": null,
      "outputs": [
        {
          "output_type": "execute_result",
          "data": {
            "text/plain": [
              "   index Patient Id  Age  Gender  Air Pollution  Alcohol use  Dust Allergy  \\\n",
              "0      0         P1   33       1              2            4             5   \n",
              "1      1        P10   17       1              3            1             5   \n",
              "2      2       P100   35       1              4            5             6   \n",
              "3      3      P1000   37       1              7            7             7   \n",
              "4      4       P101   46       1              6            8             7   \n",
              "\n",
              "   OccuPational Hazards  Genetic Risk  chronic Lung Disease  ...  Fatigue  \\\n",
              "0                     4             3                     2  ...        3   \n",
              "1                     3             4                     2  ...        1   \n",
              "2                     5             5                     4  ...        8   \n",
              "3                     7             6                     7  ...        4   \n",
              "4                     7             7                     6  ...        3   \n",
              "\n",
              "   Weight Loss  Shortness of Breath  Wheezing  Swallowing Difficulty  \\\n",
              "0            4                    2         2                      3   \n",
              "1            3                    7         8                      6   \n",
              "2            7                    9         2                      1   \n",
              "3            2                    3         1                      4   \n",
              "4            2                    4         1                      4   \n",
              "\n",
              "   Clubbing of Finger Nails  Frequent Cold  Dry Cough  Snoring   Level  \n",
              "0                         1              2          3        4     Low  \n",
              "1                         2              1          7        2  Medium  \n",
              "2                         4              6          7        2    High  \n",
              "3                         5              6          7        5    High  \n",
              "4                         2              4          2        3    High  \n",
              "\n",
              "[5 rows x 26 columns]"
            ],
            "text/html": [
              "\n",
              "  <div id=\"df-877fcc4d-f901-4c9f-98df-6bbd11170fac\">\n",
              "    <div class=\"colab-df-container\">\n",
              "      <div>\n",
              "<style scoped>\n",
              "    .dataframe tbody tr th:only-of-type {\n",
              "        vertical-align: middle;\n",
              "    }\n",
              "\n",
              "    .dataframe tbody tr th {\n",
              "        vertical-align: top;\n",
              "    }\n",
              "\n",
              "    .dataframe thead th {\n",
              "        text-align: right;\n",
              "    }\n",
              "</style>\n",
              "<table border=\"1\" class=\"dataframe\">\n",
              "  <thead>\n",
              "    <tr style=\"text-align: right;\">\n",
              "      <th></th>\n",
              "      <th>index</th>\n",
              "      <th>Patient Id</th>\n",
              "      <th>Age</th>\n",
              "      <th>Gender</th>\n",
              "      <th>Air Pollution</th>\n",
              "      <th>Alcohol use</th>\n",
              "      <th>Dust Allergy</th>\n",
              "      <th>OccuPational Hazards</th>\n",
              "      <th>Genetic Risk</th>\n",
              "      <th>chronic Lung Disease</th>\n",
              "      <th>...</th>\n",
              "      <th>Fatigue</th>\n",
              "      <th>Weight Loss</th>\n",
              "      <th>Shortness of Breath</th>\n",
              "      <th>Wheezing</th>\n",
              "      <th>Swallowing Difficulty</th>\n",
              "      <th>Clubbing of Finger Nails</th>\n",
              "      <th>Frequent Cold</th>\n",
              "      <th>Dry Cough</th>\n",
              "      <th>Snoring</th>\n",
              "      <th>Level</th>\n",
              "    </tr>\n",
              "  </thead>\n",
              "  <tbody>\n",
              "    <tr>\n",
              "      <th>0</th>\n",
              "      <td>0</td>\n",
              "      <td>P1</td>\n",
              "      <td>33</td>\n",
              "      <td>1</td>\n",
              "      <td>2</td>\n",
              "      <td>4</td>\n",
              "      <td>5</td>\n",
              "      <td>4</td>\n",
              "      <td>3</td>\n",
              "      <td>2</td>\n",
              "      <td>...</td>\n",
              "      <td>3</td>\n",
              "      <td>4</td>\n",
              "      <td>2</td>\n",
              "      <td>2</td>\n",
              "      <td>3</td>\n",
              "      <td>1</td>\n",
              "      <td>2</td>\n",
              "      <td>3</td>\n",
              "      <td>4</td>\n",
              "      <td>Low</td>\n",
              "    </tr>\n",
              "    <tr>\n",
              "      <th>1</th>\n",
              "      <td>1</td>\n",
              "      <td>P10</td>\n",
              "      <td>17</td>\n",
              "      <td>1</td>\n",
              "      <td>3</td>\n",
              "      <td>1</td>\n",
              "      <td>5</td>\n",
              "      <td>3</td>\n",
              "      <td>4</td>\n",
              "      <td>2</td>\n",
              "      <td>...</td>\n",
              "      <td>1</td>\n",
              "      <td>3</td>\n",
              "      <td>7</td>\n",
              "      <td>8</td>\n",
              "      <td>6</td>\n",
              "      <td>2</td>\n",
              "      <td>1</td>\n",
              "      <td>7</td>\n",
              "      <td>2</td>\n",
              "      <td>Medium</td>\n",
              "    </tr>\n",
              "    <tr>\n",
              "      <th>2</th>\n",
              "      <td>2</td>\n",
              "      <td>P100</td>\n",
              "      <td>35</td>\n",
              "      <td>1</td>\n",
              "      <td>4</td>\n",
              "      <td>5</td>\n",
              "      <td>6</td>\n",
              "      <td>5</td>\n",
              "      <td>5</td>\n",
              "      <td>4</td>\n",
              "      <td>...</td>\n",
              "      <td>8</td>\n",
              "      <td>7</td>\n",
              "      <td>9</td>\n",
              "      <td>2</td>\n",
              "      <td>1</td>\n",
              "      <td>4</td>\n",
              "      <td>6</td>\n",
              "      <td>7</td>\n",
              "      <td>2</td>\n",
              "      <td>High</td>\n",
              "    </tr>\n",
              "    <tr>\n",
              "      <th>3</th>\n",
              "      <td>3</td>\n",
              "      <td>P1000</td>\n",
              "      <td>37</td>\n",
              "      <td>1</td>\n",
              "      <td>7</td>\n",
              "      <td>7</td>\n",
              "      <td>7</td>\n",
              "      <td>7</td>\n",
              "      <td>6</td>\n",
              "      <td>7</td>\n",
              "      <td>...</td>\n",
              "      <td>4</td>\n",
              "      <td>2</td>\n",
              "      <td>3</td>\n",
              "      <td>1</td>\n",
              "      <td>4</td>\n",
              "      <td>5</td>\n",
              "      <td>6</td>\n",
              "      <td>7</td>\n",
              "      <td>5</td>\n",
              "      <td>High</td>\n",
              "    </tr>\n",
              "    <tr>\n",
              "      <th>4</th>\n",
              "      <td>4</td>\n",
              "      <td>P101</td>\n",
              "      <td>46</td>\n",
              "      <td>1</td>\n",
              "      <td>6</td>\n",
              "      <td>8</td>\n",
              "      <td>7</td>\n",
              "      <td>7</td>\n",
              "      <td>7</td>\n",
              "      <td>6</td>\n",
              "      <td>...</td>\n",
              "      <td>3</td>\n",
              "      <td>2</td>\n",
              "      <td>4</td>\n",
              "      <td>1</td>\n",
              "      <td>4</td>\n",
              "      <td>2</td>\n",
              "      <td>4</td>\n",
              "      <td>2</td>\n",
              "      <td>3</td>\n",
              "      <td>High</td>\n",
              "    </tr>\n",
              "  </tbody>\n",
              "</table>\n",
              "<p>5 rows × 26 columns</p>\n",
              "</div>\n",
              "      <button class=\"colab-df-convert\" onclick=\"convertToInteractive('df-877fcc4d-f901-4c9f-98df-6bbd11170fac')\"\n",
              "              title=\"Convert this dataframe to an interactive table.\"\n",
              "              style=\"display:none;\">\n",
              "        \n",
              "  <svg xmlns=\"http://www.w3.org/2000/svg\" height=\"24px\"viewBox=\"0 0 24 24\"\n",
              "       width=\"24px\">\n",
              "    <path d=\"M0 0h24v24H0V0z\" fill=\"none\"/>\n",
              "    <path d=\"M18.56 5.44l.94 2.06.94-2.06 2.06-.94-2.06-.94-.94-2.06-.94 2.06-2.06.94zm-11 1L8.5 8.5l.94-2.06 2.06-.94-2.06-.94L8.5 2.5l-.94 2.06-2.06.94zm10 10l.94 2.06.94-2.06 2.06-.94-2.06-.94-.94-2.06-.94 2.06-2.06.94z\"/><path d=\"M17.41 7.96l-1.37-1.37c-.4-.4-.92-.59-1.43-.59-.52 0-1.04.2-1.43.59L10.3 9.45l-7.72 7.72c-.78.78-.78 2.05 0 2.83L4 21.41c.39.39.9.59 1.41.59.51 0 1.02-.2 1.41-.59l7.78-7.78 2.81-2.81c.8-.78.8-2.07 0-2.86zM5.41 20L4 18.59l7.72-7.72 1.47 1.35L5.41 20z\"/>\n",
              "  </svg>\n",
              "      </button>\n",
              "      \n",
              "  <style>\n",
              "    .colab-df-container {\n",
              "      display:flex;\n",
              "      flex-wrap:wrap;\n",
              "      gap: 12px;\n",
              "    }\n",
              "\n",
              "    .colab-df-convert {\n",
              "      background-color: #E8F0FE;\n",
              "      border: none;\n",
              "      border-radius: 50%;\n",
              "      cursor: pointer;\n",
              "      display: none;\n",
              "      fill: #1967D2;\n",
              "      height: 32px;\n",
              "      padding: 0 0 0 0;\n",
              "      width: 32px;\n",
              "    }\n",
              "\n",
              "    .colab-df-convert:hover {\n",
              "      background-color: #E2EBFA;\n",
              "      box-shadow: 0px 1px 2px rgba(60, 64, 67, 0.3), 0px 1px 3px 1px rgba(60, 64, 67, 0.15);\n",
              "      fill: #174EA6;\n",
              "    }\n",
              "\n",
              "    [theme=dark] .colab-df-convert {\n",
              "      background-color: #3B4455;\n",
              "      fill: #D2E3FC;\n",
              "    }\n",
              "\n",
              "    [theme=dark] .colab-df-convert:hover {\n",
              "      background-color: #434B5C;\n",
              "      box-shadow: 0px 1px 3px 1px rgba(0, 0, 0, 0.15);\n",
              "      filter: drop-shadow(0px 1px 2px rgba(0, 0, 0, 0.3));\n",
              "      fill: #FFFFFF;\n",
              "    }\n",
              "  </style>\n",
              "\n",
              "      <script>\n",
              "        const buttonEl =\n",
              "          document.querySelector('#df-877fcc4d-f901-4c9f-98df-6bbd11170fac button.colab-df-convert');\n",
              "        buttonEl.style.display =\n",
              "          google.colab.kernel.accessAllowed ? 'block' : 'none';\n",
              "\n",
              "        async function convertToInteractive(key) {\n",
              "          const element = document.querySelector('#df-877fcc4d-f901-4c9f-98df-6bbd11170fac');\n",
              "          const dataTable =\n",
              "            await google.colab.kernel.invokeFunction('convertToInteractive',\n",
              "                                                     [key], {});\n",
              "          if (!dataTable) return;\n",
              "\n",
              "          const docLinkHtml = 'Like what you see? Visit the ' +\n",
              "            '<a target=\"_blank\" href=https://colab.research.google.com/notebooks/data_table.ipynb>data table notebook</a>'\n",
              "            + ' to learn more about interactive tables.';\n",
              "          element.innerHTML = '';\n",
              "          dataTable['output_type'] = 'display_data';\n",
              "          await google.colab.output.renderOutput(dataTable, element);\n",
              "          const docLink = document.createElement('div');\n",
              "          docLink.innerHTML = docLinkHtml;\n",
              "          element.appendChild(docLink);\n",
              "        }\n",
              "      </script>\n",
              "    </div>\n",
              "  </div>\n",
              "  "
            ]
          },
          "metadata": {},
          "execution_count": 2
        }
      ]
    },
    {
      "cell_type": "markdown",
      "source": [
        "### Performing Exploratory Data Analysis"
      ],
      "metadata": {
        "id": "XC-_2qQU1Oql"
      }
    },
    {
      "cell_type": "markdown",
      "source": [
        "#### Checking for unique values count of Patient ID"
      ],
      "metadata": {
        "id": "8wEBTju4p566"
      }
    },
    {
      "cell_type": "code",
      "source": [
        "df['Patient Id'].nunique()"
      ],
      "metadata": {
        "colab": {
          "base_uri": "https://localhost:8080/"
        },
        "id": "9F6AchI1QX6F",
        "outputId": "555345df-756f-4937-c2e9-21a6c3692302"
      },
      "execution_count": null,
      "outputs": [
        {
          "output_type": "execute_result",
          "data": {
            "text/plain": [
              "1000"
            ]
          },
          "metadata": {},
          "execution_count": 3
        }
      ]
    },
    {
      "cell_type": "markdown",
      "source": [
        "#### Checking for info of the dataset"
      ],
      "metadata": {
        "id": "L3mGcbMip-T-"
      }
    },
    {
      "cell_type": "code",
      "source": [
        "df.info()"
      ],
      "metadata": {
        "colab": {
          "base_uri": "https://localhost:8080/"
        },
        "id": "E6tvTGufQb0t",
        "outputId": "daf4b2a9-7ec5-40cf-8d45-fbec7292424b"
      },
      "execution_count": null,
      "outputs": [
        {
          "output_type": "stream",
          "name": "stdout",
          "text": [
            "<class 'pandas.core.frame.DataFrame'>\n",
            "RangeIndex: 1000 entries, 0 to 999\n",
            "Data columns (total 26 columns):\n",
            " #   Column                    Non-Null Count  Dtype \n",
            "---  ------                    --------------  ----- \n",
            " 0   index                     1000 non-null   int64 \n",
            " 1   Patient Id                1000 non-null   object\n",
            " 2   Age                       1000 non-null   int64 \n",
            " 3   Gender                    1000 non-null   int64 \n",
            " 4   Air Pollution             1000 non-null   int64 \n",
            " 5   Alcohol use               1000 non-null   int64 \n",
            " 6   Dust Allergy              1000 non-null   int64 \n",
            " 7   OccuPational Hazards      1000 non-null   int64 \n",
            " 8   Genetic Risk              1000 non-null   int64 \n",
            " 9   chronic Lung Disease      1000 non-null   int64 \n",
            " 10  Balanced Diet             1000 non-null   int64 \n",
            " 11  Obesity                   1000 non-null   int64 \n",
            " 12  Smoking                   1000 non-null   int64 \n",
            " 13  Passive Smoker            1000 non-null   int64 \n",
            " 14  Chest Pain                1000 non-null   int64 \n",
            " 15  Coughing of Blood         1000 non-null   int64 \n",
            " 16  Fatigue                   1000 non-null   int64 \n",
            " 17  Weight Loss               1000 non-null   int64 \n",
            " 18  Shortness of Breath       1000 non-null   int64 \n",
            " 19  Wheezing                  1000 non-null   int64 \n",
            " 20  Swallowing Difficulty     1000 non-null   int64 \n",
            " 21  Clubbing of Finger Nails  1000 non-null   int64 \n",
            " 22  Frequent Cold             1000 non-null   int64 \n",
            " 23  Dry Cough                 1000 non-null   int64 \n",
            " 24  Snoring                   1000 non-null   int64 \n",
            " 25  Level                     1000 non-null   object\n",
            "dtypes: int64(24), object(2)\n",
            "memory usage: 203.2+ KB\n"
          ]
        }
      ]
    },
    {
      "cell_type": "markdown",
      "source": [
        "#### Describing the dataset"
      ],
      "metadata": {
        "id": "9_ZmuwFYqCPK"
      }
    },
    {
      "cell_type": "code",
      "source": [
        "df.describe()"
      ],
      "metadata": {
        "colab": {
          "base_uri": "https://localhost:8080/",
          "height": 424
        },
        "id": "UMebwILrQVTb",
        "outputId": "ef69a620-c564-42a6-847c-3bb3a663fd33"
      },
      "execution_count": null,
      "outputs": [
        {
          "output_type": "execute_result",
          "data": {
            "text/plain": [
              "             index          Age       Gender  Air Pollution  Alcohol use  \\\n",
              "count  1000.000000  1000.000000  1000.000000      1000.0000  1000.000000   \n",
              "mean    499.500000    37.174000     1.402000         3.8400     4.563000   \n",
              "std     288.819436    12.005493     0.490547         2.0304     2.620477   \n",
              "min       0.000000    14.000000     1.000000         1.0000     1.000000   \n",
              "25%     249.750000    27.750000     1.000000         2.0000     2.000000   \n",
              "50%     499.500000    36.000000     1.000000         3.0000     5.000000   \n",
              "75%     749.250000    45.000000     2.000000         6.0000     7.000000   \n",
              "max     999.000000    73.000000     2.000000         8.0000     8.000000   \n",
              "\n",
              "       Dust Allergy  OccuPational Hazards  Genetic Risk  chronic Lung Disease  \\\n",
              "count   1000.000000           1000.000000   1000.000000           1000.000000   \n",
              "mean       5.165000              4.840000      4.580000              4.380000   \n",
              "std        1.980833              2.107805      2.126999              1.848518   \n",
              "min        1.000000              1.000000      1.000000              1.000000   \n",
              "25%        4.000000              3.000000      2.000000              3.000000   \n",
              "50%        6.000000              5.000000      5.000000              4.000000   \n",
              "75%        7.000000              7.000000      7.000000              6.000000   \n",
              "max        8.000000              8.000000      7.000000              7.000000   \n",
              "\n",
              "       Balanced Diet  ...  Coughing of Blood      Fatigue  Weight Loss  \\\n",
              "count    1000.000000  ...        1000.000000  1000.000000  1000.000000   \n",
              "mean        4.491000  ...           4.859000     3.856000     3.855000   \n",
              "std         2.135528  ...           2.427965     2.244616     2.206546   \n",
              "min         1.000000  ...           1.000000     1.000000     1.000000   \n",
              "25%         2.000000  ...           3.000000     2.000000     2.000000   \n",
              "50%         4.000000  ...           4.000000     3.000000     3.000000   \n",
              "75%         7.000000  ...           7.000000     5.000000     6.000000   \n",
              "max         7.000000  ...           9.000000     9.000000     8.000000   \n",
              "\n",
              "       Shortness of Breath     Wheezing  Swallowing Difficulty  \\\n",
              "count          1000.000000  1000.000000            1000.000000   \n",
              "mean              4.240000     3.777000               3.746000   \n",
              "std               2.285087     2.041921               2.270383   \n",
              "min               1.000000     1.000000               1.000000   \n",
              "25%               2.000000     2.000000               2.000000   \n",
              "50%               4.000000     4.000000               4.000000   \n",
              "75%               6.000000     5.000000               5.000000   \n",
              "max               9.000000     8.000000               8.000000   \n",
              "\n",
              "       Clubbing of Finger Nails  Frequent Cold    Dry Cough      Snoring  \n",
              "count               1000.000000    1000.000000  1000.000000  1000.000000  \n",
              "mean                   3.923000       3.536000     3.853000     2.926000  \n",
              "std                    2.388048       1.832502     2.039007     1.474686  \n",
              "min                    1.000000       1.000000     1.000000     1.000000  \n",
              "25%                    2.000000       2.000000     2.000000     2.000000  \n",
              "50%                    4.000000       3.000000     4.000000     3.000000  \n",
              "75%                    5.000000       5.000000     6.000000     4.000000  \n",
              "max                    9.000000       7.000000     7.000000     7.000000  \n",
              "\n",
              "[8 rows x 24 columns]"
            ],
            "text/html": [
              "\n",
              "  <div id=\"df-e7a0c7e5-ae76-4f22-91c2-95dacde80a14\">\n",
              "    <div class=\"colab-df-container\">\n",
              "      <div>\n",
              "<style scoped>\n",
              "    .dataframe tbody tr th:only-of-type {\n",
              "        vertical-align: middle;\n",
              "    }\n",
              "\n",
              "    .dataframe tbody tr th {\n",
              "        vertical-align: top;\n",
              "    }\n",
              "\n",
              "    .dataframe thead th {\n",
              "        text-align: right;\n",
              "    }\n",
              "</style>\n",
              "<table border=\"1\" class=\"dataframe\">\n",
              "  <thead>\n",
              "    <tr style=\"text-align: right;\">\n",
              "      <th></th>\n",
              "      <th>index</th>\n",
              "      <th>Age</th>\n",
              "      <th>Gender</th>\n",
              "      <th>Air Pollution</th>\n",
              "      <th>Alcohol use</th>\n",
              "      <th>Dust Allergy</th>\n",
              "      <th>OccuPational Hazards</th>\n",
              "      <th>Genetic Risk</th>\n",
              "      <th>chronic Lung Disease</th>\n",
              "      <th>Balanced Diet</th>\n",
              "      <th>...</th>\n",
              "      <th>Coughing of Blood</th>\n",
              "      <th>Fatigue</th>\n",
              "      <th>Weight Loss</th>\n",
              "      <th>Shortness of Breath</th>\n",
              "      <th>Wheezing</th>\n",
              "      <th>Swallowing Difficulty</th>\n",
              "      <th>Clubbing of Finger Nails</th>\n",
              "      <th>Frequent Cold</th>\n",
              "      <th>Dry Cough</th>\n",
              "      <th>Snoring</th>\n",
              "    </tr>\n",
              "  </thead>\n",
              "  <tbody>\n",
              "    <tr>\n",
              "      <th>count</th>\n",
              "      <td>1000.000000</td>\n",
              "      <td>1000.000000</td>\n",
              "      <td>1000.000000</td>\n",
              "      <td>1000.0000</td>\n",
              "      <td>1000.000000</td>\n",
              "      <td>1000.000000</td>\n",
              "      <td>1000.000000</td>\n",
              "      <td>1000.000000</td>\n",
              "      <td>1000.000000</td>\n",
              "      <td>1000.000000</td>\n",
              "      <td>...</td>\n",
              "      <td>1000.000000</td>\n",
              "      <td>1000.000000</td>\n",
              "      <td>1000.000000</td>\n",
              "      <td>1000.000000</td>\n",
              "      <td>1000.000000</td>\n",
              "      <td>1000.000000</td>\n",
              "      <td>1000.000000</td>\n",
              "      <td>1000.000000</td>\n",
              "      <td>1000.000000</td>\n",
              "      <td>1000.000000</td>\n",
              "    </tr>\n",
              "    <tr>\n",
              "      <th>mean</th>\n",
              "      <td>499.500000</td>\n",
              "      <td>37.174000</td>\n",
              "      <td>1.402000</td>\n",
              "      <td>3.8400</td>\n",
              "      <td>4.563000</td>\n",
              "      <td>5.165000</td>\n",
              "      <td>4.840000</td>\n",
              "      <td>4.580000</td>\n",
              "      <td>4.380000</td>\n",
              "      <td>4.491000</td>\n",
              "      <td>...</td>\n",
              "      <td>4.859000</td>\n",
              "      <td>3.856000</td>\n",
              "      <td>3.855000</td>\n",
              "      <td>4.240000</td>\n",
              "      <td>3.777000</td>\n",
              "      <td>3.746000</td>\n",
              "      <td>3.923000</td>\n",
              "      <td>3.536000</td>\n",
              "      <td>3.853000</td>\n",
              "      <td>2.926000</td>\n",
              "    </tr>\n",
              "    <tr>\n",
              "      <th>std</th>\n",
              "      <td>288.819436</td>\n",
              "      <td>12.005493</td>\n",
              "      <td>0.490547</td>\n",
              "      <td>2.0304</td>\n",
              "      <td>2.620477</td>\n",
              "      <td>1.980833</td>\n",
              "      <td>2.107805</td>\n",
              "      <td>2.126999</td>\n",
              "      <td>1.848518</td>\n",
              "      <td>2.135528</td>\n",
              "      <td>...</td>\n",
              "      <td>2.427965</td>\n",
              "      <td>2.244616</td>\n",
              "      <td>2.206546</td>\n",
              "      <td>2.285087</td>\n",
              "      <td>2.041921</td>\n",
              "      <td>2.270383</td>\n",
              "      <td>2.388048</td>\n",
              "      <td>1.832502</td>\n",
              "      <td>2.039007</td>\n",
              "      <td>1.474686</td>\n",
              "    </tr>\n",
              "    <tr>\n",
              "      <th>min</th>\n",
              "      <td>0.000000</td>\n",
              "      <td>14.000000</td>\n",
              "      <td>1.000000</td>\n",
              "      <td>1.0000</td>\n",
              "      <td>1.000000</td>\n",
              "      <td>1.000000</td>\n",
              "      <td>1.000000</td>\n",
              "      <td>1.000000</td>\n",
              "      <td>1.000000</td>\n",
              "      <td>1.000000</td>\n",
              "      <td>...</td>\n",
              "      <td>1.000000</td>\n",
              "      <td>1.000000</td>\n",
              "      <td>1.000000</td>\n",
              "      <td>1.000000</td>\n",
              "      <td>1.000000</td>\n",
              "      <td>1.000000</td>\n",
              "      <td>1.000000</td>\n",
              "      <td>1.000000</td>\n",
              "      <td>1.000000</td>\n",
              "      <td>1.000000</td>\n",
              "    </tr>\n",
              "    <tr>\n",
              "      <th>25%</th>\n",
              "      <td>249.750000</td>\n",
              "      <td>27.750000</td>\n",
              "      <td>1.000000</td>\n",
              "      <td>2.0000</td>\n",
              "      <td>2.000000</td>\n",
              "      <td>4.000000</td>\n",
              "      <td>3.000000</td>\n",
              "      <td>2.000000</td>\n",
              "      <td>3.000000</td>\n",
              "      <td>2.000000</td>\n",
              "      <td>...</td>\n",
              "      <td>3.000000</td>\n",
              "      <td>2.000000</td>\n",
              "      <td>2.000000</td>\n",
              "      <td>2.000000</td>\n",
              "      <td>2.000000</td>\n",
              "      <td>2.000000</td>\n",
              "      <td>2.000000</td>\n",
              "      <td>2.000000</td>\n",
              "      <td>2.000000</td>\n",
              "      <td>2.000000</td>\n",
              "    </tr>\n",
              "    <tr>\n",
              "      <th>50%</th>\n",
              "      <td>499.500000</td>\n",
              "      <td>36.000000</td>\n",
              "      <td>1.000000</td>\n",
              "      <td>3.0000</td>\n",
              "      <td>5.000000</td>\n",
              "      <td>6.000000</td>\n",
              "      <td>5.000000</td>\n",
              "      <td>5.000000</td>\n",
              "      <td>4.000000</td>\n",
              "      <td>4.000000</td>\n",
              "      <td>...</td>\n",
              "      <td>4.000000</td>\n",
              "      <td>3.000000</td>\n",
              "      <td>3.000000</td>\n",
              "      <td>4.000000</td>\n",
              "      <td>4.000000</td>\n",
              "      <td>4.000000</td>\n",
              "      <td>4.000000</td>\n",
              "      <td>3.000000</td>\n",
              "      <td>4.000000</td>\n",
              "      <td>3.000000</td>\n",
              "    </tr>\n",
              "    <tr>\n",
              "      <th>75%</th>\n",
              "      <td>749.250000</td>\n",
              "      <td>45.000000</td>\n",
              "      <td>2.000000</td>\n",
              "      <td>6.0000</td>\n",
              "      <td>7.000000</td>\n",
              "      <td>7.000000</td>\n",
              "      <td>7.000000</td>\n",
              "      <td>7.000000</td>\n",
              "      <td>6.000000</td>\n",
              "      <td>7.000000</td>\n",
              "      <td>...</td>\n",
              "      <td>7.000000</td>\n",
              "      <td>5.000000</td>\n",
              "      <td>6.000000</td>\n",
              "      <td>6.000000</td>\n",
              "      <td>5.000000</td>\n",
              "      <td>5.000000</td>\n",
              "      <td>5.000000</td>\n",
              "      <td>5.000000</td>\n",
              "      <td>6.000000</td>\n",
              "      <td>4.000000</td>\n",
              "    </tr>\n",
              "    <tr>\n",
              "      <th>max</th>\n",
              "      <td>999.000000</td>\n",
              "      <td>73.000000</td>\n",
              "      <td>2.000000</td>\n",
              "      <td>8.0000</td>\n",
              "      <td>8.000000</td>\n",
              "      <td>8.000000</td>\n",
              "      <td>8.000000</td>\n",
              "      <td>7.000000</td>\n",
              "      <td>7.000000</td>\n",
              "      <td>7.000000</td>\n",
              "      <td>...</td>\n",
              "      <td>9.000000</td>\n",
              "      <td>9.000000</td>\n",
              "      <td>8.000000</td>\n",
              "      <td>9.000000</td>\n",
              "      <td>8.000000</td>\n",
              "      <td>8.000000</td>\n",
              "      <td>9.000000</td>\n",
              "      <td>7.000000</td>\n",
              "      <td>7.000000</td>\n",
              "      <td>7.000000</td>\n",
              "    </tr>\n",
              "  </tbody>\n",
              "</table>\n",
              "<p>8 rows × 24 columns</p>\n",
              "</div>\n",
              "      <button class=\"colab-df-convert\" onclick=\"convertToInteractive('df-e7a0c7e5-ae76-4f22-91c2-95dacde80a14')\"\n",
              "              title=\"Convert this dataframe to an interactive table.\"\n",
              "              style=\"display:none;\">\n",
              "        \n",
              "  <svg xmlns=\"http://www.w3.org/2000/svg\" height=\"24px\"viewBox=\"0 0 24 24\"\n",
              "       width=\"24px\">\n",
              "    <path d=\"M0 0h24v24H0V0z\" fill=\"none\"/>\n",
              "    <path d=\"M18.56 5.44l.94 2.06.94-2.06 2.06-.94-2.06-.94-.94-2.06-.94 2.06-2.06.94zm-11 1L8.5 8.5l.94-2.06 2.06-.94-2.06-.94L8.5 2.5l-.94 2.06-2.06.94zm10 10l.94 2.06.94-2.06 2.06-.94-2.06-.94-.94-2.06-.94 2.06-2.06.94z\"/><path d=\"M17.41 7.96l-1.37-1.37c-.4-.4-.92-.59-1.43-.59-.52 0-1.04.2-1.43.59L10.3 9.45l-7.72 7.72c-.78.78-.78 2.05 0 2.83L4 21.41c.39.39.9.59 1.41.59.51 0 1.02-.2 1.41-.59l7.78-7.78 2.81-2.81c.8-.78.8-2.07 0-2.86zM5.41 20L4 18.59l7.72-7.72 1.47 1.35L5.41 20z\"/>\n",
              "  </svg>\n",
              "      </button>\n",
              "      \n",
              "  <style>\n",
              "    .colab-df-container {\n",
              "      display:flex;\n",
              "      flex-wrap:wrap;\n",
              "      gap: 12px;\n",
              "    }\n",
              "\n",
              "    .colab-df-convert {\n",
              "      background-color: #E8F0FE;\n",
              "      border: none;\n",
              "      border-radius: 50%;\n",
              "      cursor: pointer;\n",
              "      display: none;\n",
              "      fill: #1967D2;\n",
              "      height: 32px;\n",
              "      padding: 0 0 0 0;\n",
              "      width: 32px;\n",
              "    }\n",
              "\n",
              "    .colab-df-convert:hover {\n",
              "      background-color: #E2EBFA;\n",
              "      box-shadow: 0px 1px 2px rgba(60, 64, 67, 0.3), 0px 1px 3px 1px rgba(60, 64, 67, 0.15);\n",
              "      fill: #174EA6;\n",
              "    }\n",
              "\n",
              "    [theme=dark] .colab-df-convert {\n",
              "      background-color: #3B4455;\n",
              "      fill: #D2E3FC;\n",
              "    }\n",
              "\n",
              "    [theme=dark] .colab-df-convert:hover {\n",
              "      background-color: #434B5C;\n",
              "      box-shadow: 0px 1px 3px 1px rgba(0, 0, 0, 0.15);\n",
              "      filter: drop-shadow(0px 1px 2px rgba(0, 0, 0, 0.3));\n",
              "      fill: #FFFFFF;\n",
              "    }\n",
              "  </style>\n",
              "\n",
              "      <script>\n",
              "        const buttonEl =\n",
              "          document.querySelector('#df-e7a0c7e5-ae76-4f22-91c2-95dacde80a14 button.colab-df-convert');\n",
              "        buttonEl.style.display =\n",
              "          google.colab.kernel.accessAllowed ? 'block' : 'none';\n",
              "\n",
              "        async function convertToInteractive(key) {\n",
              "          const element = document.querySelector('#df-e7a0c7e5-ae76-4f22-91c2-95dacde80a14');\n",
              "          const dataTable =\n",
              "            await google.colab.kernel.invokeFunction('convertToInteractive',\n",
              "                                                     [key], {});\n",
              "          if (!dataTable) return;\n",
              "\n",
              "          const docLinkHtml = 'Like what you see? Visit the ' +\n",
              "            '<a target=\"_blank\" href=https://colab.research.google.com/notebooks/data_table.ipynb>data table notebook</a>'\n",
              "            + ' to learn more about interactive tables.';\n",
              "          element.innerHTML = '';\n",
              "          dataTable['output_type'] = 'display_data';\n",
              "          await google.colab.output.renderOutput(dataTable, element);\n",
              "          const docLink = document.createElement('div');\n",
              "          docLink.innerHTML = docLinkHtml;\n",
              "          element.appendChild(docLink);\n",
              "        }\n",
              "      </script>\n",
              "    </div>\n",
              "  </div>\n",
              "  "
            ]
          },
          "metadata": {},
          "execution_count": 5
        }
      ]
    },
    {
      "cell_type": "markdown",
      "source": [
        "#### Checking for null values"
      ],
      "metadata": {
        "id": "fRPfy786qKID"
      }
    },
    {
      "cell_type": "code",
      "source": [
        "df.isnull().sum()"
      ],
      "metadata": {
        "colab": {
          "base_uri": "https://localhost:8080/"
        },
        "id": "9SJQ4ojeQgZi",
        "outputId": "73c0b832-a771-45f7-c957-670358ff0fc3"
      },
      "execution_count": null,
      "outputs": [
        {
          "output_type": "execute_result",
          "data": {
            "text/plain": [
              "index                       0\n",
              "Patient Id                  0\n",
              "Age                         0\n",
              "Gender                      0\n",
              "Air Pollution               0\n",
              "Alcohol use                 0\n",
              "Dust Allergy                0\n",
              "OccuPational Hazards        0\n",
              "Genetic Risk                0\n",
              "chronic Lung Disease        0\n",
              "Balanced Diet               0\n",
              "Obesity                     0\n",
              "Smoking                     0\n",
              "Passive Smoker              0\n",
              "Chest Pain                  0\n",
              "Coughing of Blood           0\n",
              "Fatigue                     0\n",
              "Weight Loss                 0\n",
              "Shortness of Breath         0\n",
              "Wheezing                    0\n",
              "Swallowing Difficulty       0\n",
              "Clubbing of Finger Nails    0\n",
              "Frequent Cold               0\n",
              "Dry Cough                   0\n",
              "Snoring                     0\n",
              "Level                       0\n",
              "dtype: int64"
            ]
          },
          "metadata": {},
          "execution_count": 6
        }
      ]
    },
    {
      "cell_type": "code",
      "source": [
        "df=df.drop(['Patient Id','index'],axis=1)"
      ],
      "metadata": {
        "id": "K7tFpc6jjfpm"
      },
      "execution_count": null,
      "outputs": []
    },
    {
      "cell_type": "markdown",
      "source": [
        "#### Cancer Level count plot\n",
        "- There are 3 levels of Cancer in the dataset : Low, Medium and High risk of cancer. Plotting the counts of it in order to check if there exists no basis to any of the classes."
      ],
      "metadata": {
        "id": "sjNTVBd7qhh4"
      }
    },
    {
      "cell_type": "code",
      "source": [
        "plt.figure(figsize = (5, 5))\n",
        "df_lung_cancer = df[df[\"Level\"]=='High']\n",
        "sns.countplot(df[\"Level\"], color ='grey')\n",
        "plt.title(\"Cancer Level\")\n",
        "plt.xticks([0, 1, 2], ('Low', 'Medium', 'High'))\n",
        "plt.ylabel('Number of Patients');\n",
        "plt.show()\n"
      ],
      "metadata": {
        "colab": {
          "base_uri": "https://localhost:8080/",
          "height": 404
        },
        "id": "p1sADXP0drL4",
        "outputId": "4ab20157-e02d-475d-87fe-20fc548c970a"
      },
      "execution_count": null,
      "outputs": [
        {
          "output_type": "stream",
          "name": "stderr",
          "text": [
            "/usr/local/lib/python3.8/dist-packages/seaborn/_decorators.py:36: FutureWarning: Pass the following variable as a keyword arg: x. From version 0.12, the only valid positional argument will be `data`, and passing other arguments without an explicit keyword will result in an error or misinterpretation.\n",
            "  warnings.warn(\n"
          ]
        },
        {
          "output_type": "display_data",
          "data": {
            "text/plain": [
              "<Figure size 360x360 with 1 Axes>"
            ],
            "image/png": "[encoded data removed]"
          },
          "metadata": {
            "needs_background": "light"
          }
        }
      ]
    },
    {
      "cell_type": "markdown",
      "source": [
        "#### Gender Distribution count plot"
      ],
      "metadata": {
        "id": "8Kq8HNARP_96"
      }
    },
    {
      "cell_type": "markdown",
      "source": [
        "- Plotting Gender vs Count of population in the dataset to check if the dataset is gender basis.\n",
        "- Male is 1 and Female 2"
      ],
      "metadata": {
        "id": "oXCvQj3e3X4o"
      }
    },
    {
      "cell_type": "code",
      "source": [
        "plt.figure(figsize = (5, 5))\n",
        "sns.catplot('Gender',data=df,kind='count',palette='Reds')\n",
        "plt.xticks([0, 1], ('Male', 'Female'))\n",
        "plt.xlabel('Gender');\n",
        "plt.ylabel('Number of Patients');\n",
        "plt.title('Gender distribution');\n",
        "plt.show()"
      ],
      "metadata": {
        "id": "W_8A4J8jeG3T",
        "colab": {
          "base_uri": "https://localhost:8080/",
          "height": 456
        },
        "outputId": "437c6730-8f93-4484-af5b-a84c85e57b4d"
      },
      "execution_count": null,
      "outputs": [
        {
          "output_type": "stream",
          "name": "stderr",
          "text": [
            "/usr/local/lib/python3.8/dist-packages/seaborn/_decorators.py:36: FutureWarning: Pass the following variable as a keyword arg: x. From version 0.12, the only valid positional argument will be `data`, and passing other arguments without an explicit keyword will result in an error or misinterpretation.\n",
            "  warnings.warn(\n"
          ]
        },
        {
          "output_type": "display_data",
          "data": {
            "text/plain": [
              "<Figure size 360x360 with 0 Axes>"
            ]
          },
          "metadata": {}
        },
        {
          "output_type": "display_data",
          "data": {
            "text/plain": [
              "<Figure size 360x360 with 1 Axes>"
            ],
            "image/png": "[encoded data removed]"
          },
          "metadata": {
            "needs_background": "light"
          }
        }
      ]
    },
    {
      "cell_type": "markdown",
      "source": [
        "#### Gender Wise Age Distribution histogram plot"
      ],
      "metadata": {
        "id": "J9piAk8aqvN3"
      }
    },
    {
      "cell_type": "markdown",
      "source": [
        "- Checked if the the balance between age and gender exists for each class "
      ],
      "metadata": {
        "id": "RTPOO7gi5pKH"
      }
    },
    {
      "cell_type": "code",
      "source": [
        "plt.figure(figsize = (5, 5))\n",
        "sns.histplot(data=df,x='Age',hue=\"Gender\",kde=True,multiple='stack',color='grey')\n",
        "plt.xlabel('Age');\n",
        "plt.ylabel('Number of Patients');\n",
        "plt.title('Gender wise Age distribution');\n",
        "\n",
        "plt.show()"
      ],
      "metadata": {
        "colab": {
          "base_uri": "https://localhost:8080/",
          "height": 350
        },
        "id": "nDwR4zQVL1hL",
        "outputId": "386b1266-8e06-465b-fa4e-e4c406b47ebd"
      },
      "execution_count": null,
      "outputs": [
        {
          "output_type": "display_data",
          "data": {
            "text/plain": [
              "<Figure size 360x360 with 1 Axes>"
            ],
            "image/png": "[encoded data removed]"
          },
          "metadata": {
            "needs_background": "light"
          }
        }
      ]
    },
    {
      "cell_type": "markdown",
      "source": [
        "#### Multiple box plots for all the attributes with level of the attribute values "
      ],
      "metadata": {
        "id": "Cc65bwyVrO89"
      }
    },
    {
      "cell_type": "code",
      "source": [
        "\n",
        "df.columns = [c.replace(' ', '_') for c in df.columns]\n",
        "\n",
        "f, axes = plt.subplots(5,5,figsize=(40,30))\n",
        "\n",
        "sns.boxplot(data = df, x = 'Air_Pollution', y = 'Level' ,ax=axes[0,0])\n",
        "sns.boxplot(data = df, x=\"Alcohol_use\",y = 'Level' , ax=axes[0,1])\n",
        "sns.boxplot(data = df,  x=\"Dust_Allergy\", y = 'Level' ,ax=axes[0,2])\n",
        "sns.boxplot(data = df,  x=\"OccuPational_Hazards\",y = 'Level' , ax=axes[0,3])\n",
        "sns.boxplot(data = df,  x=\"Genetic_Risk\",y = 'Level' , ax=axes[0,4])\n",
        "sns.boxplot(data = df,  x=\"chronic_Lung_Disease\",y = 'Level' , ax=axes[1,0])\n",
        "sns.boxplot(data = df,  x=\"Balanced_Diet\",y = 'Level' , ax=axes[1,1])\n",
        "sns.boxplot(data = df,  x=\"Obesity\", y = 'Level' ,ax=axes[1,2])\n",
        "sns.boxplot(data = df,  x=\"Smoking\",y = 'Level' , ax=axes[1,3])\n",
        "sns.boxplot(data = df,  x=\"Passive_Smoker\", y = 'Level' ,ax=axes[1,4])\n",
        "sns.boxplot(data = df,  x=\"Chest_Pain\",y = 'Level' , ax=axes[2,0])\n",
        "sns.boxplot(data = df,  x=\"Coughing_of_Blood\", y = 'Level' ,ax=axes[2,1])\n",
        "sns.boxplot(data = df, x=\"Fatigue\",y = 'Level' , ax=axes[2,2])\n",
        "sns.boxplot(data = df,  x=\"Weight_Loss\", y = 'Level' ,ax=axes[2,3])\n",
        "sns.boxplot(data = df,  x=\"Shortness_of_Breath\",y = 'Level' , ax=axes[2,4])\n",
        "sns.boxplot(data = df,  x=\"Wheezing\", y = 'Level' ,ax=axes[3,0])\n",
        "sns.boxplot(data = df,  x=\"Swallowing_Difficulty\",y = 'Level' , ax=axes[3,1])\n",
        "sns.boxplot(data = df,  x=\"Clubbing_of_Finger_Nails\",y = 'Level' , ax=axes[3,2])\n",
        "sns.boxplot(data = df,  x=\"Frequent_Cold\", y = 'Level' ,ax=axes[3,3])\n",
        "sns.boxplot(data = df,  x=\"Dry_Cough\", y = 'Level' ,ax=axes[3,4])\n",
        "sns.boxplot(data = df,  x=\"Snoring\",y = 'Level' , ax=axes[4,0])\n",
        "plt.show()\n",
        "\n",
        "df.columns = [c.replace('_', ' ') for c in df.columns]\n"
      ],
      "metadata": {
        "colab": {
          "base_uri": "https://localhost:8080/",
          "height": 753
        },
        "id": "Mq4L5TPqRo9d",
        "outputId": "0d48f0cc-adf0-45aa-99d9-3ec5185789ea"
      },
      "execution_count": null,
      "outputs": [
        {
          "output_type": "display_data",
          "data": {
            "text/plain": [
              "<Figure size 2880x2160 with 25 Axes>"
            ],
            "image/png": "[encoded data removed]"
          },
          "metadata": {
            "needs_background": "light"
          }
        }
      ]
    },
    {
      "cell_type": "markdown",
      "source": [
        "#### Multiple count plots for all the attributes with level of the attribute values "
      ],
      "metadata": {
        "id": "iuimMqgyrMSi"
      }
    },
    {
      "cell_type": "code",
      "source": [
        "df.columns = [c.replace(' ', '_') for c in df.columns]\n",
        "\n",
        "f, axes = plt.subplots(5,5,figsize=(30,30))\n",
        "\n",
        "sns.countplot(df.Air_Pollution, x='Air_Pollution',ax=axes[0,0])\n",
        "sns.countplot(df.Alcohol_use, x=\"Alcohol_use\", ax=axes[0,1])\n",
        "sns.countplot(df.Dust_Allergy, x=\"Dust_Allergy\", ax=axes[0,2])\n",
        "sns.countplot(df.OccuPational_Hazards, x=\"OccuPational_Hazards\", ax=axes[0,3])\n",
        "sns.countplot(df.Genetic_Risk, x=\"Genetic_Risk\", ax=axes[0,4])\n",
        "sns.countplot(df.chronic_Lung_Disease, x=\"chronic_Lung_Disease\", ax=axes[1,0])\n",
        "sns.countplot(df.Balanced_Diet, x=\"Balanced_Diet\", ax=axes[1,1])\n",
        "sns.countplot(df.Obesity, x=\"Obesity\", ax=axes[1,2])\n",
        "sns.countplot(df.Smoking, x=\"Smoking\", ax=axes[1,3])\n",
        "sns.countplot(df.Passive_Smoker, x=\"Passive_Smoker\", ax=axes[1,4])\n",
        "sns.countplot(df.Chest_Pain, x=\"Chest_Pain\", ax=axes[2,0])\n",
        "sns.countplot(df.Coughing_of_Blood, x=\"Coughing_of_Blood\", ax=axes[2,1])\n",
        "sns.countplot(df.Fatigue, x=\"Fatigue\", ax=axes[2,2])\n",
        "sns.countplot(df.Weight_Loss, x=\"Weight_Loss\", ax=axes[2,3])\n",
        "sns.countplot(df.Shortness_of_Breath, x=\"Shortness_of_Breath\", ax=axes[2,4])\n",
        "sns.countplot(df.Wheezing, x=\"Wheezing\", ax=axes[3,0])\n",
        "sns.countplot(df.Swallowing_Difficulty, x=\"Swallowing_Difficulty\", ax=axes[3,1])\n",
        "sns.countplot(df.Clubbing_of_Finger_Nails, x=\"Clubbing_of_Finger_Nails\", ax=axes[3,2])\n",
        "sns.countplot(df.Frequent_Cold, x=\"Frequent_Cold\", ax=axes[3,3])\n",
        "sns.countplot(df.Dry_Cough, x=\"Dry_Cough\", ax=axes[3,4])\n",
        "sns.countplot(df.Snoring, x=\"Snoring\", ax=axes[4,0])\n",
        "plt.show()\n",
        "\n",
        "\n",
        "df.columns = [c.replace('_', ' ') for c in df.columns]"
      ],
      "metadata": {
        "colab": {
          "base_uri": "https://localhost:8080/",
          "height": 1000
        },
        "id": "xXaA4jfpe6xB",
        "outputId": "ef8194fc-88ae-462b-c2cd-816c8818c5fb"
      },
      "execution_count": null,
      "outputs": [
        {
          "output_type": "stream",
          "name": "stderr",
          "text": [
            "/usr/local/lib/python3.8/dist-packages/seaborn/_decorators.py:36: FutureWarning: Pass the following variable as a keyword arg: x. From version 0.12, the only valid positional argument will be `data`, and passing other arguments without an explicit keyword will result in an error or misinterpretation.\n",
            "  warnings.warn(\n",
            "/usr/local/lib/python3.8/dist-packages/seaborn/_decorators.py:36: FutureWarning: Pass the following variable as a keyword arg: x. From version 0.12, the only valid positional argument will be `data`, and passing other arguments without an explicit keyword will result in an error or misinterpretation.\n",
            "  warnings.warn(\n",
            "/usr/local/lib/python3.8/dist-packages/seaborn/_decorators.py:36: FutureWarning: Pass the following variable as a keyword arg: x. From version 0.12, the only valid positional argument will be `data`, and passing other arguments without an explicit keyword will result in an error or misinterpretation.\n",
            "  warnings.warn(\n",
            "/usr/local/lib/python3.8/dist-packages/seaborn/_decorators.py:36: FutureWarning: Pass the following variable as a keyword arg: x. From version 0.12, the only valid positional argument will be `data`, and passing other arguments without an explicit keyword will result in an error or misinterpretation.\n",
            "  warnings.warn(\n",
            "/usr/local/lib/python3.8/dist-packages/seaborn/_decorators.py:36: FutureWarning: Pass the following variable as a keyword arg: x. From version 0.12, the only valid positional argument will be `data`, and passing other arguments without an explicit keyword will result in an error or misinterpretation.\n",
            "  warnings.warn(\n",
            "/usr/local/lib/python3.8/dist-packages/seaborn/_decorators.py:36: FutureWarning: Pass the following variable as a keyword arg: x. From version 0.12, the only valid positional argument will be `data`, and passing other arguments without an explicit keyword will result in an error or misinterpretation.\n",
            "  warnings.warn(\n",
            "/usr/local/lib/python3.8/dist-packages/seaborn/_decorators.py:36: FutureWarning: Pass the following variable as a keyword arg: x. From version 0.12, the only valid positional argument will be `data`, and passing other arguments without an explicit keyword will result in an error or misinterpretation.\n",
            "  warnings.warn(\n",
            "/usr/local/lib/python3.8/dist-packages/seaborn/_decorators.py:36: FutureWarning: Pass the following variable as a keyword arg: x. From version 0.12, the only valid positional argument will be `data`, and passing other arguments without an explicit keyword will result in an error or misinterpretation.\n",
            "  warnings.warn(\n",
            "/usr/local/lib/python3.8/dist-packages/seaborn/_decorators.py:36: FutureWarning: Pass the following variable as a keyword arg: x. From version 0.12, the only valid positional argument will be `data`, and passing other arguments without an explicit keyword will result in an error or misinterpretation.\n",
            "  warnings.warn(\n",
            "/usr/local/lib/python3.8/dist-packages/seaborn/_decorators.py:36: FutureWarning: Pass the following variable as a keyword arg: x. From version 0.12, the only valid positional argument will be `data`, and passing other arguments without an explicit keyword will result in an error or misinterpretation.\n",
            "  warnings.warn(\n",
            "/usr/local/lib/python3.8/dist-packages/seaborn/_decorators.py:36: FutureWarning: Pass the following variable as a keyword arg: x. From version 0.12, the only valid positional argument will be `data`, and passing other arguments without an explicit keyword will result in an error or misinterpretation.\n",
            "  warnings.warn(\n",
            "/usr/local/lib/python3.8/dist-packages/seaborn/_decorators.py:36: FutureWarning: Pass the following variable as a keyword arg: x. From version 0.12, the only valid positional argument will be `data`, and passing other arguments without an explicit keyword will result in an error or misinterpretation.\n",
            "  warnings.warn(\n",
            "/usr/local/lib/python3.8/dist-packages/seaborn/_decorators.py:36: FutureWarning: Pass the following variable as a keyword arg: x. From version 0.12, the only valid positional argument will be `data`, and passing other arguments without an explicit keyword will result in an error or misinterpretation.\n",
            "  warnings.warn(\n",
            "/usr/local/lib/python3.8/dist-packages/seaborn/_decorators.py:36: FutureWarning: Pass the following variable as a keyword arg: x. From version 0.12, the only valid positional argument will be `data`, and passing other arguments without an explicit keyword will result in an error or misinterpretation.\n",
            "  warnings.warn(\n",
            "/usr/local/lib/python3.8/dist-packages/seaborn/_decorators.py:36: FutureWarning: Pass the following variable as a keyword arg: x. From version 0.12, the only valid positional argument will be `data`, and passing other arguments without an explicit keyword will result in an error or misinterpretation.\n",
            "  warnings.warn(\n",
            "/usr/local/lib/python3.8/dist-packages/seaborn/_decorators.py:36: FutureWarning: Pass the following variable as a keyword arg: x. From version 0.12, the only valid positional argument will be `data`, and passing other arguments without an explicit keyword will result in an error or misinterpretation.\n",
            "  warnings.warn(\n",
            "/usr/local/lib/python3.8/dist-packages/seaborn/_decorators.py:36: FutureWarning: Pass the following variable as a keyword arg: x. From version 0.12, the only valid positional argument will be `data`, and passing other arguments without an explicit keyword will result in an error or misinterpretation.\n",
            "  warnings.warn(\n",
            "/usr/local/lib/python3.8/dist-packages/seaborn/_decorators.py:36: FutureWarning: Pass the following variable as a keyword arg: x. From version 0.12, the only valid positional argument will be `data`, and passing other arguments without an explicit keyword will result in an error or misinterpretation.\n",
            "  warnings.warn(\n",
            "/usr/local/lib/python3.8/dist-packages/seaborn/_decorators.py:36: FutureWarning: Pass the following variable as a keyword arg: x. From version 0.12, the only valid positional argument will be `data`, and passing other arguments without an explicit keyword will result in an error or misinterpretation.\n",
            "  warnings.warn(\n",
            "/usr/local/lib/python3.8/dist-packages/seaborn/_decorators.py:36: FutureWarning: Pass the following variable as a keyword arg: x. From version 0.12, the only valid positional argument will be `data`, and passing other arguments without an explicit keyword will result in an error or misinterpretation.\n",
            "  warnings.warn(\n",
            "/usr/local/lib/python3.8/dist-packages/seaborn/_decorators.py:36: FutureWarning: Pass the following variable as a keyword arg: x. From version 0.12, the only valid positional argument will be `data`, and passing other arguments without an explicit keyword will result in an error or misinterpretation.\n",
            "  warnings.warn(\n"
          ]
        },
        {
          "output_type": "display_data",
          "data": {
            "text/plain": [
              "<Figure size 2160x2160 with 25 Axes>"
            ],
            "image/png": "[encoded data removed]"
          },
          "metadata": {
            "needs_background": "light"
          }
        }
      ]
    },
    {
      "cell_type": "markdown",
      "source": [
        "#### Changing the level values to int to check correlation"
      ],
      "metadata": {
        "id": "QvTYft3lrK1S"
      }
    },
    {
      "cell_type": "markdown",
      "source": [
        "Chaning the values of Low, Meduim and High classes of the level of cancer to 0, 1 and 2 in order to check correlation."
      ],
      "metadata": {
        "id": "5SRMPDtV5z-f"
      }
    },
    {
      "cell_type": "code",
      "source": [
        "df['Level'] = df['Level'].replace(['Low', 'Medium', 'High'], ['0', '1', '2'])"
      ],
      "metadata": {
        "id": "N_sXPe1EyAFH"
      },
      "execution_count": null,
      "outputs": []
    },
    {
      "cell_type": "code",
      "source": [
        "df['Level']=df['Level'].astype(str).astype(int)"
      ],
      "metadata": {
        "id": "GkGkfTCPzt3q"
      },
      "execution_count": null,
      "outputs": []
    },
    {
      "cell_type": "code",
      "source": [
        "df.dtypes"
      ],
      "metadata": {
        "colab": {
          "base_uri": "https://localhost:8080/"
        },
        "id": "NaKJPCQBzVrB",
        "outputId": "4025e8a2-1f05-4de9-bbc4-607a91e8ff5f"
      },
      "execution_count": null,
      "outputs": [
        {
          "output_type": "execute_result",
          "data": {
            "text/plain": [
              "Age                         int64\n",
              "Gender                      int64\n",
              "Air Pollution               int64\n",
              "Alcohol use                 int64\n",
              "Dust Allergy                int64\n",
              "OccuPational Hazards        int64\n",
              "Genetic Risk                int64\n",
              "chronic Lung Disease        int64\n",
              "Balanced Diet               int64\n",
              "Obesity                     int64\n",
              "Smoking                     int64\n",
              "Passive Smoker              int64\n",
              "Chest Pain                  int64\n",
              "Coughing of Blood           int64\n",
              "Fatigue                     int64\n",
              "Weight Loss                 int64\n",
              "Shortness of Breath         int64\n",
              "Wheezing                    int64\n",
              "Swallowing Difficulty       int64\n",
              "Clubbing of Finger Nails    int64\n",
              "Frequent Cold               int64\n",
              "Dry Cough                   int64\n",
              "Snoring                     int64\n",
              "Level                       int64\n",
              "dtype: object"
            ]
          },
          "metadata": {},
          "execution_count": 15
        }
      ]
    },
    {
      "cell_type": "code",
      "source": [
        "df.head()"
      ],
      "metadata": {
        "colab": {
          "base_uri": "https://localhost:8080/",
          "height": 348
        },
        "id": "FKA7vFqFdzka",
        "outputId": "67f36c41-2991-4598-dc5c-560f324a61b7"
      },
      "execution_count": null,
      "outputs": [
        {
          "output_type": "execute_result",
          "data": {
            "text/plain": [
              "   Age  Gender  Air Pollution  Alcohol use  Dust Allergy  \\\n",
              "0   33       1              2            4             5   \n",
              "1   17       1              3            1             5   \n",
              "2   35       1              4            5             6   \n",
              "3   37       1              7            7             7   \n",
              "4   46       1              6            8             7   \n",
              "\n",
              "   OccuPational Hazards  Genetic Risk  chronic Lung Disease  Balanced Diet  \\\n",
              "0                     4             3                     2              2   \n",
              "1                     3             4                     2              2   \n",
              "2                     5             5                     4              6   \n",
              "3                     7             6                     7              7   \n",
              "4                     7             7                     6              7   \n",
              "\n",
              "   Obesity  ...  Fatigue  Weight Loss  Shortness of Breath  Wheezing  \\\n",
              "0        4  ...        3            4                    2         2   \n",
              "1        2  ...        1            3                    7         8   \n",
              "2        7  ...        8            7                    9         2   \n",
              "3        7  ...        4            2                    3         1   \n",
              "4        7  ...        3            2                    4         1   \n",
              "\n",
              "   Swallowing Difficulty  Clubbing of Finger Nails  Frequent Cold  Dry Cough  \\\n",
              "0                      3                         1              2          3   \n",
              "1                      6                         2              1          7   \n",
              "2                      1                         4              6          7   \n",
              "3                      4                         5              6          7   \n",
              "4                      4                         2              4          2   \n",
              "\n",
              "   Snoring  Level  \n",
              "0        4      0  \n",
              "1        2      1  \n",
              "2        2      2  \n",
              "3        5      2  \n",
              "4        3      2  \n",
              "\n",
              "[5 rows x 24 columns]"
            ],
            "text/html": [
              "\n",
              "  <div id=\"df-8c351c2c-1ab3-474c-84d8-60585842ec5b\">\n",
              "    <div class=\"colab-df-container\">\n",
              "      <div>\n",
              "<style scoped>\n",
              "    .dataframe tbody tr th:only-of-type {\n",
              "        vertical-align: middle;\n",
              "    }\n",
              "\n",
              "    .dataframe tbody tr th {\n",
              "        vertical-align: top;\n",
              "    }\n",
              "\n",
              "    .dataframe thead th {\n",
              "        text-align: right;\n",
              "    }\n",
              "</style>\n",
              "<table border=\"1\" class=\"dataframe\">\n",
              "  <thead>\n",
              "    <tr style=\"text-align: right;\">\n",
              "      <th></th>\n",
              "      <th>Age</th>\n",
              "      <th>Gender</th>\n",
              "      <th>Air Pollution</th>\n",
              "      <th>Alcohol use</th>\n",
              "      <th>Dust Allergy</th>\n",
              "      <th>OccuPational Hazards</th>\n",
              "      <th>Genetic Risk</th>\n",
              "      <th>chronic Lung Disease</th>\n",
              "      <th>Balanced Diet</th>\n",
              "      <th>Obesity</th>\n",
              "      <th>...</th>\n",
              "      <th>Fatigue</th>\n",
              "      <th>Weight Loss</th>\n",
              "      <th>Shortness of Breath</th>\n",
              "      <th>Wheezing</th>\n",
              "      <th>Swallowing Difficulty</th>\n",
              "      <th>Clubbing of Finger Nails</th>\n",
              "      <th>Frequent Cold</th>\n",
              "      <th>Dry Cough</th>\n",
              "      <th>Snoring</th>\n",
              "      <th>Level</th>\n",
              "    </tr>\n",
              "  </thead>\n",
              "  <tbody>\n",
              "    <tr>\n",
              "      <th>0</th>\n",
              "      <td>33</td>\n",
              "      <td>1</td>\n",
              "      <td>2</td>\n",
              "      <td>4</td>\n",
              "      <td>5</td>\n",
              "      <td>4</td>\n",
              "      <td>3</td>\n",
              "      <td>2</td>\n",
              "      <td>2</td>\n",
              "      <td>4</td>\n",
              "      <td>...</td>\n",
              "      <td>3</td>\n",
              "      <td>4</td>\n",
              "      <td>2</td>\n",
              "      <td>2</td>\n",
              "      <td>3</td>\n",
              "      <td>1</td>\n",
              "      <td>2</td>\n",
              "      <td>3</td>\n",
              "      <td>4</td>\n",
              "      <td>0</td>\n",
              "    </tr>\n",
              "    <tr>\n",
              "      <th>1</th>\n",
              "      <td>17</td>\n",
              "      <td>1</td>\n",
              "      <td>3</td>\n",
              "      <td>1</td>\n",
              "      <td>5</td>\n",
              "      <td>3</td>\n",
              "      <td>4</td>\n",
              "      <td>2</td>\n",
              "      <td>2</td>\n",
              "      <td>2</td>\n",
              "      <td>...</td>\n",
              "      <td>1</td>\n",
              "      <td>3</td>\n",
              "      <td>7</td>\n",
              "      <td>8</td>\n",
              "      <td>6</td>\n",
              "      <td>2</td>\n",
              "      <td>1</td>\n",
              "      <td>7</td>\n",
              "      <td>2</td>\n",
              "      <td>1</td>\n",
              "    </tr>\n",
              "    <tr>\n",
              "      <th>2</th>\n",
              "      <td>35</td>\n",
              "      <td>1</td>\n",
              "      <td>4</td>\n",
              "      <td>5</td>\n",
              "      <td>6</td>\n",
              "      <td>5</td>\n",
              "      <td>5</td>\n",
              "      <td>4</td>\n",
              "      <td>6</td>\n",
              "      <td>7</td>\n",
              "      <td>...</td>\n",
              "      <td>8</td>\n",
              "      <td>7</td>\n",
              "      <td>9</td>\n",
              "      <td>2</td>\n",
              "      <td>1</td>\n",
              "      <td>4</td>\n",
              "      <td>6</td>\n",
              "      <td>7</td>\n",
              "      <td>2</td>\n",
              "      <td>2</td>\n",
              "    </tr>\n",
              "    <tr>\n",
              "      <th>3</th>\n",
              "      <td>37</td>\n",
              "      <td>1</td>\n",
              "      <td>7</td>\n",
              "      <td>7</td>\n",
              "      <td>7</td>\n",
              "      <td>7</td>\n",
              "      <td>6</td>\n",
              "      <td>7</td>\n",
              "      <td>7</td>\n",
              "      <td>7</td>\n",
              "      <td>...</td>\n",
              "      <td>4</td>\n",
              "      <td>2</td>\n",
              "      <td>3</td>\n",
              "      <td>1</td>\n",
              "      <td>4</td>\n",
              "      <td>5</td>\n",
              "      <td>6</td>\n",
              "      <td>7</td>\n",
              "      <td>5</td>\n",
              "      <td>2</td>\n",
              "    </tr>\n",
              "    <tr>\n",
              "      <th>4</th>\n",
              "      <td>46</td>\n",
              "      <td>1</td>\n",
              "      <td>6</td>\n",
              "      <td>8</td>\n",
              "      <td>7</td>\n",
              "      <td>7</td>\n",
              "      <td>7</td>\n",
              "      <td>6</td>\n",
              "      <td>7</td>\n",
              "      <td>7</td>\n",
              "      <td>...</td>\n",
              "      <td>3</td>\n",
              "      <td>2</td>\n",
              "      <td>4</td>\n",
              "      <td>1</td>\n",
              "      <td>4</td>\n",
              "      <td>2</td>\n",
              "      <td>4</td>\n",
              "      <td>2</td>\n",
              "      <td>3</td>\n",
              "      <td>2</td>\n",
              "    </tr>\n",
              "  </tbody>\n",
              "</table>\n",
              "<p>5 rows × 24 columns</p>\n",
              "</div>\n",
              "      <button class=\"colab-df-convert\" onclick=\"convertToInteractive('df-8c351c2c-1ab3-474c-84d8-60585842ec5b')\"\n",
              "              title=\"Convert this dataframe to an interactive table.\"\n",
              "              style=\"display:none;\">\n",
              "        \n",
              "  <svg xmlns=\"http://www.w3.org/2000/svg\" height=\"24px\"viewBox=\"0 0 24 24\"\n",
              "       width=\"24px\">\n",
              "    <path d=\"M0 0h24v24H0V0z\" fill=\"none\"/>\n",
              "    <path d=\"M18.56 5.44l.94 2.06.94-2.06 2.06-.94-2.06-.94-.94-2.06-.94 2.06-2.06.94zm-11 1L8.5 8.5l.94-2.06 2.06-.94-2.06-.94L8.5 2.5l-.94 2.06-2.06.94zm10 10l.94 2.06.94-2.06 2.06-.94-2.06-.94-.94-2.06-.94 2.06-2.06.94z\"/><path d=\"M17.41 7.96l-1.37-1.37c-.4-.4-.92-.59-1.43-.59-.52 0-1.04.2-1.43.59L10.3 9.45l-7.72 7.72c-.78.78-.78 2.05 0 2.83L4 21.41c.39.39.9.59 1.41.59.51 0 1.02-.2 1.41-.59l7.78-7.78 2.81-2.81c.8-.78.8-2.07 0-2.86zM5.41 20L4 18.59l7.72-7.72 1.47 1.35L5.41 20z\"/>\n",
              "  </svg>\n",
              "      </button>\n",
              "      \n",
              "  <style>\n",
              "    .colab-df-container {\n",
              "      display:flex;\n",
              "      flex-wrap:wrap;\n",
              "      gap: 12px;\n",
              "    }\n",
              "\n",
              "    .colab-df-convert {\n",
              "      background-color: #E8F0FE;\n",
              "      border: none;\n",
              "      border-radius: 50%;\n",
              "      cursor: pointer;\n",
              "      display: none;\n",
              "      fill: #1967D2;\n",
              "      height: 32px;\n",
              "      padding: 0 0 0 0;\n",
              "      width: 32px;\n",
              "    }\n",
              "\n",
              "    .colab-df-convert:hover {\n",
              "      background-color: #E2EBFA;\n",
              "      box-shadow: 0px 1px 2px rgba(60, 64, 67, 0.3), 0px 1px 3px 1px rgba(60, 64, 67, 0.15);\n",
              "      fill: #174EA6;\n",
              "    }\n",
              "\n",
              "    [theme=dark] .colab-df-convert {\n",
              "      background-color: #3B4455;\n",
              "      fill: #D2E3FC;\n",
              "    }\n",
              "\n",
              "    [theme=dark] .colab-df-convert:hover {\n",
              "      background-color: #434B5C;\n",
              "      box-shadow: 0px 1px 3px 1px rgba(0, 0, 0, 0.15);\n",
              "      filter: drop-shadow(0px 1px 2px rgba(0, 0, 0, 0.3));\n",
              "      fill: #FFFFFF;\n",
              "    }\n",
              "  </style>\n",
              "\n",
              "      <script>\n",
              "        const buttonEl =\n",
              "          document.querySelector('#df-8c351c2c-1ab3-474c-84d8-60585842ec5b button.colab-df-convert');\n",
              "        buttonEl.style.display =\n",
              "          google.colab.kernel.accessAllowed ? 'block' : 'none';\n",
              "\n",
              "        async function convertToInteractive(key) {\n",
              "          const element = document.querySelector('#df-8c351c2c-1ab3-474c-84d8-60585842ec5b');\n",
              "          const dataTable =\n",
              "            await google.colab.kernel.invokeFunction('convertToInteractive',\n",
              "                                                     [key], {});\n",
              "          if (!dataTable) return;\n",
              "\n",
              "          const docLinkHtml = 'Like what you see? Visit the ' +\n",
              "            '<a target=\"_blank\" href=https://colab.research.google.com/notebooks/data_table.ipynb>data table notebook</a>'\n",
              "            + ' to learn more about interactive tables.';\n",
              "          element.innerHTML = '';\n",
              "          dataTable['output_type'] = 'display_data';\n",
              "          await google.colab.output.renderOutput(dataTable, element);\n",
              "          const docLink = document.createElement('div');\n",
              "          docLink.innerHTML = docLinkHtml;\n",
              "          element.appendChild(docLink);\n",
              "        }\n",
              "      </script>\n",
              "    </div>\n",
              "  </div>\n",
              "  "
            ]
          },
          "metadata": {},
          "execution_count": 16
        }
      ]
    },
    {
      "cell_type": "markdown",
      "source": [
        "#### Finding attributes that are highly correlated with Level"
      ],
      "metadata": {
        "id": "b6swyaXOrv8U"
      }
    },
    {
      "cell_type": "code",
      "source": [
        "correlations = df.corr()['Level'].sort_values()\n",
        "print('Most Correlated features with Level of Lung Cancer:\\n', correlations.tail(7))\n",
        "print('\\nLeast Correlated features with Level of Lung Cancer:\\n', correlations.head(7))"
      ],
      "metadata": {
        "id": "jk_hKqyEoDqJ",
        "colab": {
          "base_uri": "https://localhost:8080/"
        },
        "outputId": "72c8b35a-43a1-4a85-bf62-21aa52379dc6"
      },
      "execution_count": null,
      "outputs": [
        {
          "output_type": "stream",
          "name": "stdout",
          "text": [
            "Most Correlated features with Level of Lung Cancer:\n",
            " Passive Smoker       0.703594\n",
            "Balanced Diet        0.706273\n",
            "Dust Allergy         0.713839\n",
            "Alcohol use          0.718710\n",
            "Coughing of Blood    0.782092\n",
            "Obesity              0.827435\n",
            "Level                1.000000\n",
            "Name: Level, dtype: float64\n",
            "\n",
            "Least Correlated features with Level of Lung Cancer:\n",
            " Gender                     -0.164985\n",
            "Age                         0.060048\n",
            "Wheezing                    0.242794\n",
            "Swallowing Difficulty       0.249142\n",
            "Clubbing of Finger Nails    0.280063\n",
            "Snoring                     0.289366\n",
            "Weight Loss                 0.352738\n",
            "Name: Level, dtype: float64\n"
          ]
        }
      ]
    },
    {
      "cell_type": "markdown",
      "source": [
        "#### Finding each attributes correlation with Level"
      ],
      "metadata": {
        "id": "hoUa1rwwtcu2"
      }
    },
    {
      "cell_type": "code",
      "source": [
        "corr_df = df.corr()['Level'].sort_values()\n",
        "corr_df = corr_df.reset_index().rename(columns={'index':'Attributes','Level':'Correlation'})\n",
        "corr_df"
      ],
      "metadata": {
        "id": "IvUnjzgOsvWv",
        "colab": {
          "base_uri": "https://localhost:8080/",
          "height": 793
        },
        "outputId": "a1d4de04-506d-4c88-80d0-2db139868397"
      },
      "execution_count": null,
      "outputs": [
        {
          "output_type": "execute_result",
          "data": {
            "text/plain": [
              "                  Attributes  Correlation\n",
              "0                     Gender    -0.164985\n",
              "1                        Age     0.060048\n",
              "2                   Wheezing     0.242794\n",
              "3      Swallowing Difficulty     0.249142\n",
              "4   Clubbing of Finger Nails     0.280063\n",
              "5                    Snoring     0.289366\n",
              "6                Weight Loss     0.352738\n",
              "7                  Dry Cough     0.373968\n",
              "8              Frequent Cold     0.444017\n",
              "9        Shortness of Breath     0.497024\n",
              "10                   Smoking     0.519530\n",
              "11      chronic Lung Disease     0.609971\n",
              "12                   Fatigue     0.625114\n",
              "13             Air Pollution     0.636038\n",
              "14                Chest Pain     0.645461\n",
              "15      OccuPational Hazards     0.673255\n",
              "16              Genetic Risk     0.701303\n",
              "17            Passive Smoker     0.703594\n",
              "18             Balanced Diet     0.706273\n",
              "19              Dust Allergy     0.713839\n",
              "20               Alcohol use     0.718710\n",
              "21         Coughing of Blood     0.782092\n",
              "22                   Obesity     0.827435\n",
              "23                     Level     1.000000"
            ],
            "text/html": [
              "\n",
              "  <div id=\"df-91777fa0-d999-4b2c-a385-e1032850e92c\">\n",
              "    <div class=\"colab-df-container\">\n",
              "      <div>\n",
              "<style scoped>\n",
              "    .dataframe tbody tr th:only-of-type {\n",
              "        vertical-align: middle;\n",
              "    }\n",
              "\n",
              "    .dataframe tbody tr th {\n",
              "        vertical-align: top;\n",
              "    }\n",
              "\n",
              "    .dataframe thead th {\n",
              "        text-align: right;\n",
              "    }\n",
              "</style>\n",
              "<table border=\"1\" class=\"dataframe\">\n",
              "  <thead>\n",
              "    <tr style=\"text-align: right;\">\n",
              "      <th></th>\n",
              "      <th>Attributes</th>\n",
              "      <th>Correlation</th>\n",
              "    </tr>\n",
              "  </thead>\n",
              "  <tbody>\n",
              "    <tr>\n",
              "      <th>0</th>\n",
              "      <td>Gender</td>\n",
              "      <td>-0.164985</td>\n",
              "    </tr>\n",
              "    <tr>\n",
              "      <th>1</th>\n",
              "      <td>Age</td>\n",
              "      <td>0.060048</td>\n",
              "    </tr>\n",
              "    <tr>\n",
              "      <th>2</th>\n",
              "      <td>Wheezing</td>\n",
              "      <td>0.242794</td>\n",
              "    </tr>\n",
              "    <tr>\n",
              "      <th>3</th>\n",
              "      <td>Swallowing Difficulty</td>\n",
              "      <td>0.249142</td>\n",
              "    </tr>\n",
              "    <tr>\n",
              "      <th>4</th>\n",
              "      <td>Clubbing of Finger Nails</td>\n",
              "      <td>0.280063</td>\n",
              "    </tr>\n",
              "    <tr>\n",
              "      <th>5</th>\n",
              "      <td>Snoring</td>\n",
              "      <td>0.289366</td>\n",
              "    </tr>\n",
              "    <tr>\n",
              "      <th>6</th>\n",
              "      <td>Weight Loss</td>\n",
              "      <td>0.352738</td>\n",
              "    </tr>\n",
              "    <tr>\n",
              "      <th>7</th>\n",
              "      <td>Dry Cough</td>\n",
              "      <td>0.373968</td>\n",
              "    </tr>\n",
              "    <tr>\n",
              "      <th>8</th>\n",
              "      <td>Frequent Cold</td>\n",
              "      <td>0.444017</td>\n",
              "    </tr>\n",
              "    <tr>\n",
              "      <th>9</th>\n",
              "      <td>Shortness of Breath</td>\n",
              "      <td>0.497024</td>\n",
              "    </tr>\n",
              "    <tr>\n",
              "      <th>10</th>\n",
              "      <td>Smoking</td>\n",
              "      <td>0.519530</td>\n",
              "    </tr>\n",
              "    <tr>\n",
              "      <th>11</th>\n",
              "      <td>chronic Lung Disease</td>\n",
              "      <td>0.609971</td>\n",
              "    </tr>\n",
              "    <tr>\n",
              "      <th>12</th>\n",
              "      <td>Fatigue</td>\n",
              "      <td>0.625114</td>\n",
              "    </tr>\n",
              "    <tr>\n",
              "      <th>13</th>\n",
              "      <td>Air Pollution</td>\n",
              "      <td>0.636038</td>\n",
              "    </tr>\n",
              "    <tr>\n",
              "      <th>14</th>\n",
              "      <td>Chest Pain</td>\n",
              "      <td>0.645461</td>\n",
              "    </tr>\n",
              "    <tr>\n",
              "      <th>15</th>\n",
              "      <td>OccuPational Hazards</td>\n",
              "      <td>0.673255</td>\n",
              "    </tr>\n",
              "    <tr>\n",
              "      <th>16</th>\n",
              "      <td>Genetic Risk</td>\n",
              "      <td>0.701303</td>\n",
              "    </tr>\n",
              "    <tr>\n",
              "      <th>17</th>\n",
              "      <td>Passive Smoker</td>\n",
              "      <td>0.703594</td>\n",
              "    </tr>\n",
              "    <tr>\n",
              "      <th>18</th>\n",
              "      <td>Balanced Diet</td>\n",
              "      <td>0.706273</td>\n",
              "    </tr>\n",
              "    <tr>\n",
              "      <th>19</th>\n",
              "      <td>Dust Allergy</td>\n",
              "      <td>0.713839</td>\n",
              "    </tr>\n",
              "    <tr>\n",
              "      <th>20</th>\n",
              "      <td>Alcohol use</td>\n",
              "      <td>0.718710</td>\n",
              "    </tr>\n",
              "    <tr>\n",
              "      <th>21</th>\n",
              "      <td>Coughing of Blood</td>\n",
              "      <td>0.782092</td>\n",
              "    </tr>\n",
              "    <tr>\n",
              "      <th>22</th>\n",
              "      <td>Obesity</td>\n",
              "      <td>0.827435</td>\n",
              "    </tr>\n",
              "    <tr>\n",
              "      <th>23</th>\n",
              "      <td>Level</td>\n",
              "      <td>1.000000</td>\n",
              "    </tr>\n",
              "  </tbody>\n",
              "</table>\n",
              "</div>\n",
              "      <button class=\"colab-df-convert\" onclick=\"convertToInteractive('df-91777fa0-d999-4b2c-a385-e1032850e92c')\"\n",
              "              title=\"Convert this dataframe to an interactive table.\"\n",
              "              style=\"display:none;\">\n",
              "        \n",
              "  <svg xmlns=\"http://www.w3.org/2000/svg\" height=\"24px\"viewBox=\"0 0 24 24\"\n",
              "       width=\"24px\">\n",
              "    <path d=\"M0 0h24v24H0V0z\" fill=\"none\"/>\n",
              "    <path d=\"M18.56 5.44l.94 2.06.94-2.06 2.06-.94-2.06-.94-.94-2.06-.94 2.06-2.06.94zm-11 1L8.5 8.5l.94-2.06 2.06-.94-2.06-.94L8.5 2.5l-.94 2.06-2.06.94zm10 10l.94 2.06.94-2.06 2.06-.94-2.06-.94-.94-2.06-.94 2.06-2.06.94z\"/><path d=\"M17.41 7.96l-1.37-1.37c-.4-.4-.92-.59-1.43-.59-.52 0-1.04.2-1.43.59L10.3 9.45l-7.72 7.72c-.78.78-.78 2.05 0 2.83L4 21.41c.39.39.9.59 1.41.59.51 0 1.02-.2 1.41-.59l7.78-7.78 2.81-2.81c.8-.78.8-2.07 0-2.86zM5.41 20L4 18.59l7.72-7.72 1.47 1.35L5.41 20z\"/>\n",
              "  </svg>\n",
              "      </button>\n",
              "      \n",
              "  <style>\n",
              "    .colab-df-container {\n",
              "      display:flex;\n",
              "      flex-wrap:wrap;\n",
              "      gap: 12px;\n",
              "    }\n",
              "\n",
              "    .colab-df-convert {\n",
              "      background-color: #E8F0FE;\n",
              "      border: none;\n",
              "      border-radius: 50%;\n",
              "      cursor: pointer;\n",
              "      display: none;\n",
              "      fill: #1967D2;\n",
              "      height: 32px;\n",
              "      padding: 0 0 0 0;\n",
              "      width: 32px;\n",
              "    }\n",
              "\n",
              "    .colab-df-convert:hover {\n",
              "      background-color: #E2EBFA;\n",
              "      box-shadow: 0px 1px 2px rgba(60, 64, 67, 0.3), 0px 1px 3px 1px rgba(60, 64, 67, 0.15);\n",
              "      fill: #174EA6;\n",
              "    }\n",
              "\n",
              "    [theme=dark] .colab-df-convert {\n",
              "      background-color: #3B4455;\n",
              "      fill: #D2E3FC;\n",
              "    }\n",
              "\n",
              "    [theme=dark] .colab-df-convert:hover {\n",
              "      background-color: #434B5C;\n",
              "      box-shadow: 0px 1px 3px 1px rgba(0, 0, 0, 0.15);\n",
              "      filter: drop-shadow(0px 1px 2px rgba(0, 0, 0, 0.3));\n",
              "      fill: #FFFFFF;\n",
              "    }\n",
              "  </style>\n",
              "\n",
              "      <script>\n",
              "        const buttonEl =\n",
              "          document.querySelector('#df-91777fa0-d999-4b2c-a385-e1032850e92c button.colab-df-convert');\n",
              "        buttonEl.style.display =\n",
              "          google.colab.kernel.accessAllowed ? 'block' : 'none';\n",
              "\n",
              "        async function convertToInteractive(key) {\n",
              "          const element = document.querySelector('#df-91777fa0-d999-4b2c-a385-e1032850e92c');\n",
              "          const dataTable =\n",
              "            await google.colab.kernel.invokeFunction('convertToInteractive',\n",
              "                                                     [key], {});\n",
              "          if (!dataTable) return;\n",
              "\n",
              "          const docLinkHtml = 'Like what you see? Visit the ' +\n",
              "            '<a target=\"_blank\" href=https://colab.research.google.com/notebooks/data_table.ipynb>data table notebook</a>'\n",
              "            + ' to learn more about interactive tables.';\n",
              "          element.innerHTML = '';\n",
              "          dataTable['output_type'] = 'display_data';\n",
              "          await google.colab.output.renderOutput(dataTable, element);\n",
              "          const docLink = document.createElement('div');\n",
              "          docLink.innerHTML = docLinkHtml;\n",
              "          element.appendChild(docLink);\n",
              "        }\n",
              "      </script>\n",
              "    </div>\n",
              "  </div>\n",
              "  "
            ]
          },
          "metadata": {},
          "execution_count": 18
        }
      ]
    },
    {
      "cell_type": "markdown",
      "source": [
        "#### Correlation heat map"
      ],
      "metadata": {
        "id": "wsGH0ZQctbzn"
      }
    },
    {
      "cell_type": "code",
      "source": [
        "plt.figure(figsize=(20,10))\n",
        "sns.heatmap(df.drop('Level',axis=1).corr(),annot=True)"
      ],
      "metadata": {
        "colab": {
          "base_uri": "https://localhost:8080/",
          "height": 643
        },
        "id": "X6BqPOGweE4P",
        "outputId": "6797bf7b-798d-4c84-9271-be74ca36ce49"
      },
      "execution_count": null,
      "outputs": [
        {
          "output_type": "execute_result",
          "data": {
            "text/plain": [
              "<matplotlib.axes._subplots.AxesSubplot at 0x7f0b77a51d00>"
            ]
          },
          "metadata": {},
          "execution_count": 19
        },
        {
          "output_type": "display_data",
          "data": {
            "text/plain": [
              "<Figure size 1440x720 with 2 Axes>"
            ],
            "image/png": "[encoded data removed]"
          },
          "metadata": {
            "needs_background": "light"
          }
        }
      ]
    },
    {
      "cell_type": "markdown",
      "source": [
        "#### Applying Machine Learning models\n"
      ],
      "metadata": {
        "id": "-AFQkOIz36Ng"
      }
    },
    {
      "cell_type": "markdown",
      "source": [
        "First let's import important libraries, which helps me in the process of splitting the data in to train and test and evaluating the macine learning models we model across a common metrics "
      ],
      "metadata": {
        "id": "nMhaBwxbkhNJ"
      }
    },
    {
      "cell_type": "code",
      "source": [
        "# Provides train/test indices to split data in train/test sets. Split dataset into k consecutive folds (without shuffling by default).\n",
        "from sklearn.model_selection import train_test_split,KFold,cross_val_score\n",
        "# Build a text report showing the main classification metrics, computes subset accuracy\n",
        "from sklearn.metrics import classification_report,accuracy_score,confusion_matrix,mean_squared_error\n",
        "# THe below import Standardize features by removing the mean and scaling to unit variance.\n",
        "from sklearn.preprocessing import StandardScaler \n",
        "# Compute precision, recall, F-measure and support for each class.\n",
        "from sklearn.metrics import precision_recall_fscore_support as score"
      ],
      "metadata": {
        "id": "SRolZ3oR4GIK"
      },
      "execution_count": null,
      "outputs": []
    },
    {
      "cell_type": "code",
      "source": [
        "X=df.drop('Level',axis=1) # Created the Predictors i.e seperated the target paramenter from data and stored as X\n",
        "# Created the target variable from the data frame.\n",
        "Y=df['Level']\n",
        "# mseTracker is an dictionary object which would be used to store the MSE- Mean squared error for each of the model.\n",
        "mseTracker={}\n",
        "# accuracyTracker is an dictionary object which would be used to store the model accuries for each of the model.\n",
        "accuracyTracker={}\n",
        "# KFoldAccuries is a dataframe created and will be used for saving the max, min and mean accuraies obtained by K -fold cross validation technique \n",
        "dict = {'Model':[],\n",
        "        'Min Accuracy':[],\n",
        "        'Mean Accuracy':[],\n",
        "        'Max Accuracy':[],\n",
        "       }\n",
        "KFoldAccuries=pd.DataFrame(dict);\n",
        "# scoreTracker is an dictionary object which would be used to store the model Precision,Recall and F1-score for each of the model.\n",
        "scoreTracker=pd.DataFrame({\n",
        "    'Model':[],\n",
        "    'Precision':[],\n",
        "    'Recall':[],\n",
        "    'F1-score':[]\n",
        "})"
      ],
      "metadata": {
        "id": "bkCiNmn__wkJ"
      },
      "execution_count": null,
      "outputs": []
    },
    {
      "cell_type": "markdown",
      "source": [
        "- function getMSEForModel(params) would caluclated the values for the model Precision,Recall and F1-score based on the acutal labesl and the predicted labels and save it in scoreTracker variable using model name as the key."
      ],
      "metadata": {
        "id": "sdpaYgH6wEB2"
      }
    },
    {
      "cell_type": "code",
      "source": [
        "def getMSEForModel(modelName,y_test,y_pred):\n",
        "  mse=mean_squared_error(y_test,y_pred)\n",
        "  precision,recall,fscore,support=score(y_test,y_pred,average='macro')\n",
        "  mseTracker[modelName]=mse\n",
        "  scoreTracker.loc[len(scoreTracker.index)] = [modelName,precision,recall,fscore] \n",
        "  return mse"
      ],
      "metadata": {
        "id": "fqTDeQX3v-pF"
      },
      "execution_count": null,
      "outputs": []
    },
    {
      "cell_type": "markdown",
      "source": [
        "- function testKFold(params) would caluclated the values for the model min,max and mean accuraies based on K value given and save it in KFoldAccuries variable using model name as the index.\n",
        "- function getAccuracyForModel(params) would call the above method and also calculate the regularised accuracy score based on test labels and the predicted labels which will be passed as args to the function."
      ],
      "metadata": {
        "id": "qTEau_5AwiEU"
      }
    },
    {
      "cell_type": "code",
      "source": [
        "def testKFold(model,K):\n",
        "  kfold_validation=KFold(K)\n",
        "  results=cross_val_score(model,X_train,Y_train,cv=kfold_validation)\n",
        "  KFoldAccuries.loc[len(KFoldAccuries.index)] = [type(model).__name__,np.min(results),np.mean(results),np.max(results)] \n",
        "  min,mean,max=np.min(results),np.mean(results),np.max(results)\n",
        "  print()\n",
        "  print('Accuracy of ',type(model).__name__,' model when K Fold= ',K,': ')\n",
        "  print('Min Accuracy',min)\n",
        "  print('Max Accuracy',max)\n",
        "  print('Mean Accuracy',mean)\n",
        "  print()\n",
        "  return np.min(results),np.mean(results),np.max(results)\n",
        "\n",
        "def getAccuracyForModel(model,y_test,y_pred):\n",
        "  K=10\n",
        "  score=accuracy_score(y_test,y_pred)\n",
        "  accuracyTracker[type(model).__name__]=score\n",
        "  testKFold(model,K);\n",
        "  return accuracyTracker[type(model).__name__]"
      ],
      "metadata": {
        "id": "JTtlzqewDZeC"
      },
      "execution_count": null,
      "outputs": []
    },
    {
      "cell_type": "markdown",
      "source": [
        "- Here, we would split the data to train and test data based on the ratio given (30% test data in our case). train data would be used to train(fit) the model and test data would be used to evaluate/validate the trained model"
      ],
      "metadata": {
        "id": "4C23zD-yxFZh"
      }
    },
    {
      "cell_type": "code",
      "source": [
        "X_train,X_test,Y_train,Y_test=train_test_split(X,Y,test_size=0.3,random_state=44)"
      ],
      "metadata": {
        "id": "BSNnpWte3_wD"
      },
      "execution_count": null,
      "outputs": []
    },
    {
      "cell_type": "code",
      "source": [
        "X_train.shape,Y_train.shape"
      ],
      "metadata": {
        "colab": {
          "base_uri": "https://localhost:8080/"
        },
        "id": "LbjNu3BP4KQI",
        "outputId": "1fd5b272-e091-4b26-8846-28b1f6c5b0e9"
      },
      "execution_count": null,
      "outputs": [
        {
          "output_type": "execute_result",
          "data": {
            "text/plain": [
              "((700, 23), (700,))"
            ]
          },
          "metadata": {},
          "execution_count": 24
        }
      ]
    },
    {
      "cell_type": "markdown",
      "source": [
        "- StandardScaler removes the mean and scales each feature/variable to unit variance. This operation is performed feature-wise in an independent way. "
      ],
      "metadata": {
        "id": "81XIZCXIxbba"
      }
    },
    {
      "cell_type": "code",
      "source": [
        "sc = StandardScaler()\n",
        "X_train = sc.fit_transform(X_train)\n",
        "X_test = sc.transform(X_test)"
      ],
      "metadata": {
        "id": "Mmm1mQ0Z8oOi"
      },
      "execution_count": null,
      "outputs": []
    },
    {
      "cell_type": "markdown",
      "source": [
        "#### Logistic Regression"
      ],
      "metadata": {
        "id": "1CC8zn-w41l4"
      }
    },
    {
      "cell_type": "code",
      "source": [
        "from sklearn.linear_model import LogisticRegression"
      ],
      "metadata": {
        "id": "Cvz6zJLGDRTz"
      },
      "execution_count": null,
      "outputs": []
    },
    {
      "cell_type": "markdown",
      "source": [
        "- In the multiclass classification case, the training algorithm uses the one-vs-rest (OvR) scheme if the ‘multi_class’ option is set to ‘ovr’. which is done in the below line\n",
        "- Model is trained in the second line using .fit()"
      ],
      "metadata": {
        "id": "l5q7MnO6x4Wj"
      }
    },
    {
      "cell_type": "code",
      "source": [
        "logmodel = LogisticRegression(random_state=0, multi_class='ovr')\n",
        "logmodel.fit(X_train,Y_train)"
      ],
      "metadata": {
        "colab": {
          "base_uri": "https://localhost:8080/"
        },
        "id": "sS9cBf1W5ltJ",
        "outputId": "2485774e-96ff-4987-b2f2-e8c28d515885"
      },
      "execution_count": null,
      "outputs": [
        {
          "output_type": "execute_result",
          "data": {
            "text/plain": [
              "LogisticRegression(multi_class='ovr', random_state=0)"
            ]
          },
          "metadata": {},
          "execution_count": 27
        }
      ]
    },
    {
      "cell_type": "code",
      "source": [
        "Y_train"
      ],
      "metadata": {
        "colab": {
          "base_uri": "https://localhost:8080/"
        },
        "id": "q0HpZH85v9tH",
        "outputId": "e62c953a-2c86-4b8d-cf28-1e21ed3aa7d1"
      },
      "execution_count": null,
      "outputs": [
        {
          "output_type": "execute_result",
          "data": {
            "text/plain": [
              "357    0\n",
              "645    1\n",
              "271    0\n",
              "400    1\n",
              "342    1\n",
              "      ..\n",
              "571    1\n",
              "173    0\n",
              "753    2\n",
              "419    1\n",
              "788    2\n",
              "Name: Level, Length: 700, dtype: int64"
            ]
          },
          "metadata": {},
          "execution_count": 28
        }
      ]
    },
    {
      "cell_type": "code",
      "source": [
        "X_train"
      ],
      "metadata": {
        "colab": {
          "base_uri": "https://localhost:8080/"
        },
        "id": "zmFULH5s84UF",
        "outputId": "d5bca2ea-0265-4ab0-b715-dc94b0fea8e6"
      },
      "execution_count": null,
      "outputs": [
        {
          "output_type": "execute_result",
          "data": {
            "text/plain": [
              "array([[-1.17116393,  1.23944822,  0.08190761, ...,  0.20840258,\n",
              "        -0.4403713 , -1.34657148],\n",
              "       [ 1.31208526,  1.23944822, -1.41379651, ...,  0.20840258,\n",
              "        -0.92353731,  1.40554542],\n",
              "       [ 0.11327531,  1.23944822, -0.41666043, ...,  0.74870557,\n",
              "        -1.40670332, -1.34657148],\n",
              "       ...,\n",
              "       [ 0.627051  , -0.80681063,  1.07904368, ...,  0.20840258,\n",
              "         0.52596071,  0.02948697],\n",
              "       [ 0.71268028, -0.80681063,  1.07904368, ..., -0.33190041,\n",
              "         0.0427947 , -0.65854226],\n",
              "       [ 2.33963665, -0.80681063,  1.07904368, ..., -0.33190041,\n",
              "        -1.40670332,  0.71751619]])"
            ]
          },
          "metadata": {},
          "execution_count": 29
        }
      ]
    },
    {
      "cell_type": "markdown",
      "source": [
        "In the next line, the trained model is tested on the test data to predict the outcome based on the input."
      ],
      "metadata": {
        "id": "FHu0zwjzykxe"
      }
    },
    {
      "cell_type": "code",
      "source": [
        "Y_pred = logmodel.predict(X_test)\n",
        "Y_pred"
      ],
      "metadata": {
        "colab": {
          "base_uri": "https://localhost:8080/"
        },
        "id": "_diw38Qg7oz0",
        "outputId": "65e7aa55-92eb-4d3f-9a17-0820f0d69507"
      },
      "execution_count": null,
      "outputs": [
        {
          "output_type": "execute_result",
          "data": {
            "text/plain": [
              "array([0, 1, 0, 2, 2, 2, 1, 1, 1, 1, 1, 0, 1, 0, 0, 1, 2, 0, 1, 0, 0, 0,\n",
              "       2, 1, 1, 1, 1, 1, 1, 0, 1, 0, 2, 2, 1, 0, 0, 0, 0, 1, 2, 2, 1, 1,\n",
              "       2, 2, 1, 2, 1, 1, 0, 2, 0, 2, 1, 2, 0, 1, 0, 1, 2, 0, 0, 2, 2, 0,\n",
              "       1, 1, 1, 2, 2, 2, 1, 0, 2, 1, 2, 0, 2, 1, 0, 1, 0, 0, 0, 1, 1, 0,\n",
              "       2, 1, 2, 1, 0, 2, 2, 1, 1, 2, 1, 2, 1, 0, 1, 0, 0, 0, 2, 0, 2, 1,\n",
              "       1, 0, 2, 2, 1, 1, 1, 0, 0, 0, 1, 2, 2, 1, 0, 0, 1, 2, 0, 1, 1, 1,\n",
              "       2, 0, 2, 0, 0, 2, 2, 1, 2, 0, 1, 0, 2, 1, 1, 1, 2, 2, 2, 0, 2, 2,\n",
              "       0, 0, 1, 1, 1, 2, 1, 1, 1, 1, 1, 1, 0, 1, 1, 2, 0, 2, 1, 0, 1, 1,\n",
              "       0, 1, 1, 0, 2, 2, 1, 2, 0, 2, 1, 0, 0, 1, 2, 2, 1, 2, 2, 0, 1, 2,\n",
              "       1, 2, 0, 1, 0, 2, 1, 2, 1, 0, 2, 0, 0, 2, 0, 1, 2, 2, 0, 0, 2, 1,\n",
              "       1, 0, 1, 0, 2, 0, 1, 1, 2, 0, 2, 0, 0, 2, 2, 1, 2, 0, 2, 0, 0, 1,\n",
              "       2, 0, 1, 1, 2, 1, 0, 0, 1, 1, 2, 2, 2, 1, 1, 1, 1, 0, 0, 2, 0, 0,\n",
              "       2, 0, 2, 0, 0, 0, 0, 2, 1, 1, 2, 0, 0, 0, 2, 1, 0, 1, 0, 2, 0, 2,\n",
              "       2, 2, 2, 2, 2, 0, 2, 1, 0, 1, 0, 0, 2, 0])"
            ]
          },
          "metadata": {},
          "execution_count": 30
        }
      ]
    },
    {
      "cell_type": "markdown",
      "source": [
        "Computes confusion matrix to evaluate the accuracy of a classification."
      ],
      "metadata": {
        "id": "ZE6MuWFzy0qJ"
      }
    },
    {
      "cell_type": "code",
      "source": [
        "confusion_matrix(Y_test, Y_pred)\n"
      ],
      "metadata": {
        "id": "nAXI4SV-8vRo",
        "colab": {
          "base_uri": "https://localhost:8080/"
        },
        "outputId": "e7d8e70c-cf13-467c-ed56-12fc6cd83980"
      },
      "execution_count": null,
      "outputs": [
        {
          "output_type": "execute_result",
          "data": {
            "text/plain": [
              "array([[ 94,   1,   0],\n",
              "       [  5, 105,   0],\n",
              "       [  0,   0,  95]])"
            ]
          },
          "metadata": {},
          "execution_count": 31
        }
      ]
    },
    {
      "cell_type": "markdown",
      "source": [
        "Build a text report showing the main classification metrics such has precision,f1-score and recall values for the actual and predicted values."
      ],
      "metadata": {
        "id": "vN0Cz1iBzbUi"
      }
    },
    {
      "cell_type": "code",
      "source": [
        "print(classification_report(Y_test, Y_pred))"
      ],
      "metadata": {
        "colab": {
          "base_uri": "https://localhost:8080/"
        },
        "id": "UP8QdW_U_EZ9",
        "outputId": "f5969d1d-f3d5-4de7-e3b5-fbf9fb8e323a"
      },
      "execution_count": null,
      "outputs": [
        {
          "output_type": "stream",
          "name": "stdout",
          "text": [
            "              precision    recall  f1-score   support\n",
            "\n",
            "           0       0.95      0.99      0.97        95\n",
            "           1       0.99      0.95      0.97       110\n",
            "           2       1.00      1.00      1.00        95\n",
            "\n",
            "    accuracy                           0.98       300\n",
            "   macro avg       0.98      0.98      0.98       300\n",
            "weighted avg       0.98      0.98      0.98       300\n",
            "\n"
          ]
        }
      ]
    },
    {
      "cell_type": "code",
      "source": [
        "sns.heatmap(confusion_matrix(Y_test, Y_pred),annot=True,fmt='g')\n",
        "plt.xlabel(\"Predicted\")\n",
        "plt.ylabel(\"Actual\")\n"
      ],
      "metadata": {
        "colab": {
          "base_uri": "https://localhost:8080/",
          "height": 296
        },
        "id": "dSa2CCPSvQT9",
        "outputId": "35dc63d5-e462-4599-f67b-ead7e426cdef"
      },
      "execution_count": null,
      "outputs": [
        {
          "output_type": "execute_result",
          "data": {
            "text/plain": [
              "Text(33.0, 0.5, 'Actual')"
            ]
          },
          "metadata": {},
          "execution_count": 33
        },
        {
          "output_type": "display_data",
          "data": {
            "text/plain": [
              "<Figure size 432x288 with 2 Axes>"
            ],
            "image/png": "[encoded data removed]"
          },
          "metadata": {
            "needs_background": "light"
          }
        }
      ]
    },
    {
      "cell_type": "code",
      "source": [
        "print('Mean squared error for ',type(logmodel).__name__,': ',getMSEForModel(type(logmodel).__name__,Y_test, Y_pred))\n",
        "Accuracy=getAccuracyForModel(logmodel,Y_test,Y_pred)\n",
        "print('Accuracy of ',type(logmodel).__name__,' model: ',Accuracy)\n"
      ],
      "metadata": {
        "colab": {
          "base_uri": "https://localhost:8080/"
        },
        "id": "BqHJurxND26Q",
        "outputId": "6f9941bc-71e5-45b8-a615-1d2c59833619"
      },
      "execution_count": null,
      "outputs": [
        {
          "output_type": "stream",
          "name": "stdout",
          "text": [
            "Mean squared error for  LogisticRegression :  0.02\n",
            "\n",
            "Accuracy of  LogisticRegression  model when K Fold=  10 : \n",
            "Min Accuracy 0.9428571428571428\n",
            "Max Accuracy 1.0\n",
            "Mean Accuracy 0.9771428571428572\n",
            "\n",
            "Accuracy of  LogisticRegression  model:  0.98\n"
          ]
        }
      ]
    },
    {
      "cell_type": "markdown",
      "source": [
        "#### Linear Regression"
      ],
      "metadata": {
        "id": "E4OgpEQC_66E"
      }
    },
    {
      "cell_type": "markdown",
      "source": [
        "- LinearRegression fits a linear model with coefficients w = (w1, …, wp) to minimize the residual sum of squares between the observed targets in the dataset, and the targets predicted by the linear approximation."
      ],
      "metadata": {
        "id": "6T6wWNpizv26"
      }
    },
    {
      "cell_type": "code",
      "source": [
        "from sklearn.linear_model import LinearRegression"
      ],
      "metadata": {
        "id": "_azFPa3_A1Vx"
      },
      "execution_count": null,
      "outputs": []
    },
    {
      "cell_type": "code",
      "source": [
        "X_test.shape,Y_train.shape"
      ],
      "metadata": {
        "colab": {
          "base_uri": "https://localhost:8080/"
        },
        "id": "69X7mohbFt-y",
        "outputId": "dbb44029-cb75-4280-ff3c-af36441dcf60"
      },
      "execution_count": null,
      "outputs": [
        {
          "output_type": "execute_result",
          "data": {
            "text/plain": [
              "((300, 23), (700,))"
            ]
          },
          "metadata": {},
          "execution_count": 36
        }
      ]
    },
    {
      "cell_type": "code",
      "source": [
        "regModel = LinearRegression()\n",
        "regModel.fit(X_train,Y_train)"
      ],
      "metadata": {
        "colab": {
          "base_uri": "https://localhost:8080/"
        },
        "id": "979q3rKE_5gf",
        "outputId": "141c7e77-c33d-45e0-d60d-6506b5d6ba7a"
      },
      "execution_count": null,
      "outputs": [
        {
          "output_type": "execute_result",
          "data": {
            "text/plain": [
              "LinearRegression()"
            ]
          },
          "metadata": {},
          "execution_count": 37
        }
      ]
    },
    {
      "cell_type": "code",
      "source": [
        "#predicting the results from test data X\n",
        "y_pred = regModel.predict(X_test)"
      ],
      "metadata": {
        "id": "7wQ-D1Y1AeeY"
      },
      "execution_count": null,
      "outputs": []
    },
    {
      "cell_type": "code",
      "source": [
        "# Rounding off the values since the required values are discrete and not Continous. \n",
        "Y_pred=np.abs(np.round(y_pred))"
      ],
      "metadata": {
        "id": "X9DYI8KmGcuF"
      },
      "execution_count": null,
      "outputs": []
    },
    {
      "cell_type": "code",
      "source": [
        "confusion_matrix(Y_test, Y_pred)"
      ],
      "metadata": {
        "colab": {
          "base_uri": "https://localhost:8080/"
        },
        "id": "fllkpqpxAl7Q",
        "outputId": "254192f3-fd9c-431f-d3be-6911ac206e0b"
      },
      "execution_count": null,
      "outputs": [
        {
          "output_type": "execute_result",
          "data": {
            "text/plain": [
              "array([[ 82,  13,   0],\n",
              "       [  0, 110,   0],\n",
              "       [  0,   3,  92]])"
            ]
          },
          "metadata": {},
          "execution_count": 40
        }
      ]
    },
    {
      "cell_type": "markdown",
      "source": [
        "Build a text report showing the main classification metrics such has precision,f1-score and recall values for the actual and predicted values."
      ],
      "metadata": {
        "id": "OyZ3SvXq6f7o"
      }
    },
    {
      "cell_type": "code",
      "source": [
        "print(classification_report(Y_test, Y_pred))"
      ],
      "metadata": {
        "colab": {
          "base_uri": "https://localhost:8080/"
        },
        "id": "dTV6F3bAAv69",
        "outputId": "70b8c0fb-e355-4b73-ea90-e8454247fdcd"
      },
      "execution_count": null,
      "outputs": [
        {
          "output_type": "stream",
          "name": "stdout",
          "text": [
            "              precision    recall  f1-score   support\n",
            "\n",
            "           0       1.00      0.86      0.93        95\n",
            "           1       0.87      1.00      0.93       110\n",
            "           2       1.00      0.97      0.98        95\n",
            "\n",
            "    accuracy                           0.95       300\n",
            "   macro avg       0.96      0.94      0.95       300\n",
            "weighted avg       0.95      0.95      0.95       300\n",
            "\n"
          ]
        }
      ]
    },
    {
      "cell_type": "code",
      "source": [
        "print('Mean squared error for ',type(regModel).__name__,': ',getMSEForModel(type(regModel).__name__,Y_test, Y_pred))\n",
        "Accuracy=getAccuracyForModel(regModel,Y_test,Y_pred)\n",
        "print('Accuracy of ',type(regModel).__name__,' model: ',Accuracy)"
      ],
      "metadata": {
        "colab": {
          "base_uri": "https://localhost:8080/"
        },
        "id": "tLEqxmu5C7kQ",
        "outputId": "bc3ccbc6-05f3-42df-c651-e59677a2010b"
      },
      "execution_count": null,
      "outputs": [
        {
          "output_type": "stream",
          "name": "stdout",
          "text": [
            "Mean squared error for  LinearRegression :  0.05333333333333334\n",
            "\n",
            "Accuracy of  LinearRegression  model when K Fold=  10 : \n",
            "Min Accuracy 0.881772615649318\n",
            "Max Accuracy 0.9483815073032689\n",
            "Mean Accuracy 0.9283261585490743\n",
            "\n",
            "Accuracy of  LinearRegression  model:  0.9466666666666667\n"
          ]
        }
      ]
    },
    {
      "cell_type": "markdown",
      "source": [
        "- Plotting a heatmap of the confusion matrix with flags annot=True which plots with numbers of strength and fmt='g' signifies the values to be displayed as integer."
      ],
      "metadata": {
        "id": "pOcMFxP00LEs"
      }
    },
    {
      "cell_type": "code",
      "source": [
        "sns.heatmap(confusion_matrix(Y_test, Y_pred),annot=True,fmt='g')\n",
        "plt.xlabel(\"Predicted\")\n",
        "plt.ylabel(\"Actual\")\n"
      ],
      "metadata": {
        "colab": {
          "base_uri": "https://localhost:8080/",
          "height": 296
        },
        "id": "2s0k75R7Axl-",
        "outputId": "b8a522a5-1496-4608-9e33-762aa87bff41"
      },
      "execution_count": null,
      "outputs": [
        {
          "output_type": "execute_result",
          "data": {
            "text/plain": [
              "Text(33.0, 0.5, 'Actual')"
            ]
          },
          "metadata": {},
          "execution_count": 43
        },
        {
          "output_type": "display_data",
          "data": {
            "text/plain": [
              "<Figure size 432x288 with 2 Axes>"
            ],
            "image/png": "[encoded data removed]"
          },
          "metadata": {
            "needs_background": "light"
          }
        }
      ]
    },
    {
      "cell_type": "markdown",
      "source": [
        "#### Gaussian Naive Bayes"
      ],
      "metadata": {
        "id": "H5mF4cQZDMyB"
      }
    },
    {
      "cell_type": "markdown",
      "source": [
        "- Gaussian Naïve Bayes: GN Bayes’s rule provides us with the formula for the probability of Y given some feature X."
      ],
      "metadata": {
        "id": "3pYpUD050uCk"
      }
    },
    {
      "cell_type": "code",
      "source": [
        "from sklearn.naive_bayes import GaussianNB"
      ],
      "metadata": {
        "id": "Ea6WsW-PDL16"
      },
      "execution_count": null,
      "outputs": []
    },
    {
      "cell_type": "code",
      "source": [
        "model = GaussianNB()\n",
        "model.fit(X_train,Y_train)"
      ],
      "metadata": {
        "colab": {
          "base_uri": "https://localhost:8080/"
        },
        "id": "kdwfGI-BB57Y",
        "outputId": "befbed79-21b5-44c1-8345-d1a416f2d974"
      },
      "execution_count": null,
      "outputs": [
        {
          "output_type": "execute_result",
          "data": {
            "text/plain": [
              "GaussianNB()"
            ]
          },
          "metadata": {},
          "execution_count": 45
        }
      ]
    },
    {
      "cell_type": "code",
      "source": [
        "Y_pred = model.predict(X_test)\n",
        "Y_pred"
      ],
      "metadata": {
        "colab": {
          "base_uri": "https://localhost:8080/"
        },
        "id": "S1sC2KASB57b",
        "outputId": "b8b77fd7-8271-44a0-f135-2cf3eb1fcce4"
      },
      "execution_count": null,
      "outputs": [
        {
          "output_type": "execute_result",
          "data": {
            "text/plain": [
              "array([0, 1, 0, 2, 2, 2, 1, 1, 1, 1, 1, 0, 2, 0, 2, 1, 2, 0, 2, 0, 0, 2,\n",
              "       2, 1, 1, 1, 1, 1, 2, 0, 1, 0, 2, 2, 1, 0, 0, 0, 1, 1, 2, 2, 1, 1,\n",
              "       2, 2, 2, 2, 1, 1, 0, 2, 0, 2, 2, 2, 0, 1, 0, 1, 2, 0, 0, 2, 2, 0,\n",
              "       1, 1, 1, 2, 2, 2, 1, 0, 2, 1, 2, 0, 2, 1, 0, 1, 0, 1, 0, 1, 2, 0,\n",
              "       2, 1, 2, 1, 0, 2, 2, 2, 1, 2, 1, 2, 1, 0, 1, 0, 0, 0, 2, 0, 1, 1,\n",
              "       1, 0, 2, 2, 1, 1, 1, 2, 0, 0, 1, 2, 2, 2, 0, 2, 1, 2, 0, 1, 1, 2,\n",
              "       2, 0, 2, 0, 0, 2, 2, 2, 2, 0, 1, 2, 2, 1, 1, 1, 2, 2, 2, 0, 2, 2,\n",
              "       0, 0, 1, 1, 1, 1, 1, 1, 2, 1, 1, 1, 0, 1, 1, 2, 0, 2, 1, 0, 1, 1,\n",
              "       0, 1, 1, 0, 2, 1, 1, 2, 0, 2, 1, 2, 0, 2, 2, 2, 2, 2, 2, 0, 1, 2,\n",
              "       1, 2, 0, 1, 0, 2, 1, 2, 2, 0, 2, 0, 0, 2, 1, 1, 2, 2, 2, 2, 2, 1,\n",
              "       1, 0, 1, 0, 2, 0, 1, 1, 2, 0, 2, 2, 1, 2, 2, 2, 2, 0, 2, 0, 1, 1,\n",
              "       2, 0, 2, 1, 2, 1, 0, 0, 1, 1, 2, 2, 2, 2, 1, 1, 1, 0, 0, 2, 1, 0,\n",
              "       2, 0, 2, 2, 0, 0, 0, 2, 1, 2, 2, 0, 0, 0, 2, 1, 0, 1, 0, 2, 0, 2,\n",
              "       2, 2, 2, 2, 2, 0, 2, 1, 0, 1, 0, 0, 2, 0])"
            ]
          },
          "metadata": {},
          "execution_count": 46
        }
      ]
    },
    {
      "cell_type": "code",
      "source": [
        "confusion_matrix(Y_test, Y_pred)"
      ],
      "metadata": {
        "colab": {
          "base_uri": "https://localhost:8080/"
        },
        "id": "_diCWlStB57c",
        "outputId": "34e665b6-6fdd-407d-d7ef-b3ce2a3296f1"
      },
      "execution_count": null,
      "outputs": [
        {
          "output_type": "execute_result",
          "data": {
            "text/plain": [
              "array([[83,  7,  5],\n",
              "       [ 0, 87, 23],\n",
              "       [ 0,  3, 92]])"
            ]
          },
          "metadata": {},
          "execution_count": 47
        }
      ]
    },
    {
      "cell_type": "code",
      "source": [
        "print(classification_report(Y_test, Y_pred))"
      ],
      "metadata": {
        "colab": {
          "base_uri": "https://localhost:8080/"
        },
        "id": "yks8WTJrB57d",
        "outputId": "e8dd3ec6-1edb-40f3-a93f-1216418a746e"
      },
      "execution_count": null,
      "outputs": [
        {
          "output_type": "stream",
          "name": "stdout",
          "text": [
            "              precision    recall  f1-score   support\n",
            "\n",
            "           0       1.00      0.87      0.93        95\n",
            "           1       0.90      0.79      0.84       110\n",
            "           2       0.77      0.97      0.86        95\n",
            "\n",
            "    accuracy                           0.87       300\n",
            "   macro avg       0.89      0.88      0.88       300\n",
            "weighted avg       0.89      0.87      0.87       300\n",
            "\n"
          ]
        }
      ]
    },
    {
      "cell_type": "code",
      "source": [
        "print('Mean squared error for ',type(model).__name__,': ',getMSEForModel(type(model).__name__,Y_test, Y_pred))\n",
        "Accuracy=getAccuracyForModel(model,Y_test,Y_pred)\n",
        "print('Accuracy of ',type(model).__name__,' model: ',Accuracy)"
      ],
      "metadata": {
        "colab": {
          "base_uri": "https://localhost:8080/"
        },
        "id": "6MLRLLm3JGyW",
        "outputId": "b388a08c-2e78-47b2-c3a4-6e0de25c5a35"
      },
      "execution_count": null,
      "outputs": [
        {
          "output_type": "stream",
          "name": "stdout",
          "text": [
            "Mean squared error for  GaussianNB :  0.17666666666666667\n",
            "\n",
            "Accuracy of  GaussianNB  model when K Fold=  10 : \n",
            "Min Accuracy 0.8571428571428571\n",
            "Max Accuracy 0.9714285714285714\n",
            "Mean Accuracy 0.9\n",
            "\n",
            "Accuracy of  GaussianNB  model:  0.8733333333333333\n"
          ]
        }
      ]
    },
    {
      "cell_type": "code",
      "source": [
        "sns.heatmap(confusion_matrix(Y_test, Y_pred),annot=True,fmt='g')\n",
        "plt.xlabel(\"Predicted\")\n",
        "plt.ylabel(\"Actual\")"
      ],
      "metadata": {
        "colab": {
          "base_uri": "https://localhost:8080/",
          "height": 296
        },
        "id": "0BYpCMjdB57d",
        "outputId": "cf173b08-c612-4b34-f3a1-f4a65f349f70"
      },
      "execution_count": null,
      "outputs": [
        {
          "output_type": "execute_result",
          "data": {
            "text/plain": [
              "Text(33.0, 0.5, 'Actual')"
            ]
          },
          "metadata": {},
          "execution_count": 50
        },
        {
          "output_type": "display_data",
          "data": {
            "text/plain": [
              "<Figure size 432x288 with 2 Axes>"
            ],
            "image/png": "[encoded data removed]"
          },
          "metadata": {
            "needs_background": "light"
          }
        }
      ]
    },
    {
      "cell_type": "markdown",
      "source": [
        "#### Bernoulli Naive Bayes"
      ],
      "metadata": {
        "id": "7Ml4Fk18B81v"
      }
    },
    {
      "cell_type": "markdown",
      "source": [
        "- In the multivariate Bernoulli event model, features are independent Booleans (binary variables) describing inputs. Like the multinomial model, this model is popular for document classification tasks\n",
        "\n",
        "- https://scikit-learn.org/stable/modules/generated/sklearn.naive_bayes.BernoulliNB.html"
      ],
      "metadata": {
        "id": "VYdN6J4T6ws-"
      }
    },
    {
      "cell_type": "code",
      "source": [
        "from sklearn.naive_bayes import BernoulliNB"
      ],
      "metadata": {
        "id": "3nrahvkTB81w"
      },
      "execution_count": null,
      "outputs": []
    },
    {
      "cell_type": "markdown",
      "source": [
        "- Naive Bayes classifier for multivariate Bernoulli models.\n",
        "- Model is trained in the second line using .fit()"
      ],
      "metadata": {
        "id": "O2s6KW667acl"
      }
    },
    {
      "cell_type": "code",
      "source": [
        "model = BernoulliNB()\n",
        "model.fit(X_train,Y_train)"
      ],
      "metadata": {
        "colab": {
          "base_uri": "https://localhost:8080/"
        },
        "id": "UP9tU3QKB81x",
        "outputId": "d905bd64-8bce-4a90-d232-e13677095873"
      },
      "execution_count": null,
      "outputs": [
        {
          "output_type": "execute_result",
          "data": {
            "text/plain": [
              "BernoulliNB()"
            ]
          },
          "metadata": {},
          "execution_count": 52
        }
      ]
    },
    {
      "cell_type": "markdown",
      "source": [
        "In the next line, the trained model is tested on the test data to predict the outcome based on the input."
      ],
      "metadata": {
        "id": "-WO5DF9x7mhg"
      }
    },
    {
      "cell_type": "code",
      "source": [
        "Y_pred = model.predict(X_test)\n",
        "Y_pred"
      ],
      "metadata": {
        "colab": {
          "base_uri": "https://localhost:8080/"
        },
        "id": "QQa2rjPfB81y",
        "outputId": "aef6a616-3e39-4fb4-a802-0e924511e24a"
      },
      "execution_count": null,
      "outputs": [
        {
          "output_type": "execute_result",
          "data": {
            "text/plain": [
              "array([0, 1, 0, 2, 2, 2, 1, 0, 1, 1, 1, 0, 2, 0, 2, 1, 2, 0, 2, 0, 0, 2,\n",
              "       2, 1, 1, 1, 1, 1, 2, 0, 1, 0, 2, 2, 1, 0, 0, 0, 0, 1, 2, 2, 1, 1,\n",
              "       2, 2, 2, 2, 1, 1, 0, 2, 0, 2, 2, 2, 0, 1, 0, 1, 2, 0, 0, 2, 2, 0,\n",
              "       1, 1, 1, 2, 2, 2, 1, 0, 2, 1, 2, 0, 2, 1, 0, 1, 0, 1, 0, 1, 2, 0,\n",
              "       2, 1, 2, 1, 0, 2, 2, 2, 1, 2, 1, 2, 0, 0, 1, 0, 0, 0, 2, 0, 2, 1,\n",
              "       1, 0, 2, 2, 1, 1, 1, 2, 0, 0, 1, 2, 2, 2, 0, 2, 1, 2, 0, 1, 1, 2,\n",
              "       2, 0, 2, 0, 0, 2, 2, 2, 2, 0, 1, 2, 2, 1, 1, 1, 2, 2, 2, 0, 2, 2,\n",
              "       0, 0, 1, 1, 1, 2, 1, 1, 2, 1, 1, 1, 0, 1, 1, 2, 0, 2, 1, 0, 1, 1,\n",
              "       0, 1, 1, 0, 2, 2, 1, 2, 0, 2, 1, 2, 0, 2, 2, 2, 2, 2, 2, 0, 1, 2,\n",
              "       1, 2, 0, 1, 0, 2, 1, 2, 2, 0, 2, 0, 0, 2, 0, 1, 2, 2, 2, 2, 2, 1,\n",
              "       1, 0, 0, 0, 2, 0, 1, 1, 2, 0, 2, 2, 1, 2, 2, 2, 2, 0, 2, 0, 1, 1,\n",
              "       2, 0, 2, 1, 2, 1, 0, 0, 1, 1, 2, 2, 2, 2, 1, 1, 1, 0, 0, 2, 1, 0,\n",
              "       2, 0, 2, 2, 0, 0, 0, 2, 1, 2, 2, 0, 0, 0, 2, 1, 0, 1, 0, 2, 0, 2,\n",
              "       2, 2, 2, 2, 2, 0, 2, 1, 0, 1, 0, 0, 2, 0])"
            ]
          },
          "metadata": {},
          "execution_count": 53
        }
      ]
    },
    {
      "cell_type": "markdown",
      "source": [
        "Computes confusion matrix to evaluate the accuracy of a classification."
      ],
      "metadata": {
        "id": "PN4umPqK7tdN"
      }
    },
    {
      "cell_type": "code",
      "source": [
        "confusion_matrix(Y_test, Y_pred)"
      ],
      "metadata": {
        "colab": {
          "base_uri": "https://localhost:8080/"
        },
        "id": "yrBdVR9rB81z",
        "outputId": "49c52dbc-a4cc-4e8f-b013-ae5682bcd34b"
      },
      "execution_count": null,
      "outputs": [
        {
          "output_type": "execute_result",
          "data": {
            "text/plain": [
              "array([[85,  5,  5],\n",
              "       [ 3, 84, 23],\n",
              "       [ 0,  0, 95]])"
            ]
          },
          "metadata": {},
          "execution_count": 54
        }
      ]
    },
    {
      "cell_type": "markdown",
      "source": [
        "Build a text report showing the main classification metrics such has precision,f1-score and recall values for the actual and predicted values."
      ],
      "metadata": {
        "id": "XhNrn_bD7xXT"
      }
    },
    {
      "cell_type": "code",
      "source": [
        "print(classification_report(Y_test, Y_pred))"
      ],
      "metadata": {
        "colab": {
          "base_uri": "https://localhost:8080/"
        },
        "id": "bc42SSJ6B81z",
        "outputId": "9bb0270d-6528-40e7-c1e0-4e8abda79fd5"
      },
      "execution_count": null,
      "outputs": [
        {
          "output_type": "stream",
          "name": "stdout",
          "text": [
            "              precision    recall  f1-score   support\n",
            "\n",
            "           0       0.97      0.89      0.93        95\n",
            "           1       0.94      0.76      0.84       110\n",
            "           2       0.77      1.00      0.87        95\n",
            "\n",
            "    accuracy                           0.88       300\n",
            "   macro avg       0.89      0.89      0.88       300\n",
            "weighted avg       0.90      0.88      0.88       300\n",
            "\n"
          ]
        }
      ]
    },
    {
      "cell_type": "markdown",
      "source": [
        "- Plotting a heatmap of the confusion matrix with flags annot=True which plots with numbers of strength and fmt='g' signifies the values to be displayed as integer."
      ],
      "metadata": {
        "id": "lN8rqhO973m5"
      }
    },
    {
      "cell_type": "code",
      "source": [
        "sns.heatmap(confusion_matrix(Y_test, Y_pred),annot=True,fmt='g')\n",
        "plt.xlabel(\"Predicted\")\n",
        "plt.ylabel(\"Actual\")"
      ],
      "metadata": {
        "colab": {
          "base_uri": "https://localhost:8080/",
          "height": 296
        },
        "id": "tHXVIUoVB81z",
        "outputId": "043bf017-231c-46eb-e1a9-1acbb59c2406"
      },
      "execution_count": null,
      "outputs": [
        {
          "output_type": "execute_result",
          "data": {
            "text/plain": [
              "Text(33.0, 0.5, 'Actual')"
            ]
          },
          "metadata": {},
          "execution_count": 56
        },
        {
          "output_type": "display_data",
          "data": {
            "text/plain": [
              "<Figure size 432x288 with 2 Axes>"
            ],
            "image/png": "[encoded data removed]"
          },
          "metadata": {
            "needs_background": "light"
          }
        }
      ]
    },
    {
      "cell_type": "code",
      "source": [
        "print('Mean squared error for ',type(model).__name__,': ',getMSEForModel(type(model).__name__,Y_test, Y_pred))\n",
        "Accuracy=getAccuracyForModel(model,Y_test,Y_pred)\n",
        "print('Accuracy of ',type(model).__name__,' model: ',Accuracy)"
      ],
      "metadata": {
        "colab": {
          "base_uri": "https://localhost:8080/"
        },
        "id": "UWRv4wLhIdCR",
        "outputId": "3bb7caa8-0f1f-4770-b914-a05be513209a"
      },
      "execution_count": null,
      "outputs": [
        {
          "output_type": "stream",
          "name": "stdout",
          "text": [
            "Mean squared error for  BernoulliNB :  0.17\n",
            "\n",
            "Accuracy of  BernoulliNB  model when K Fold=  10 : \n",
            "Min Accuracy 0.8285714285714286\n",
            "Max Accuracy 0.9428571428571428\n",
            "Mean Accuracy 0.8942857142857144\n",
            "\n",
            "Accuracy of  BernoulliNB  model:  0.88\n"
          ]
        }
      ]
    },
    {
      "cell_type": "markdown",
      "source": [
        "#### Random Forest"
      ],
      "metadata": {
        "id": "5_o3ugsvCDit"
      }
    },
    {
      "cell_type": "markdown",
      "source": [
        "- A random forest is a meta estimator that fits a number of classifying decision trees on various sub-samples of the dataset and uses averaging to improve the predictive accuracy and control over-fitting. \n",
        "- The sub-sample size is controlled with the max_samples parameter if bootstrap=True (default), otherwise the whole dataset is used to build each tree."
      ],
      "metadata": {
        "id": "-EJ-OG0Z8Q-q"
      }
    },
    {
      "cell_type": "code",
      "source": [
        "from sklearn.ensemble import RandomForestRegressor"
      ],
      "metadata": {
        "id": "YCTf7VEJCDiv"
      },
      "execution_count": null,
      "outputs": []
    },
    {
      "cell_type": "markdown",
      "source": [
        "- https://scikit-learn.org/stable/modules/generated/sklearn.ensemble.RandomForestRegressor.html\n",
        "- Model is trained in the second line using .fit(), params being training data"
      ],
      "metadata": {
        "id": "ze4uJ2z48WG6"
      }
    },
    {
      "cell_type": "code",
      "source": [
        "model = RandomForestRegressor()\n",
        "model.fit(X_train,Y_train)"
      ],
      "metadata": {
        "colab": {
          "base_uri": "https://localhost:8080/"
        },
        "id": "U5NeC0vPCDix",
        "outputId": "11255ef5-a0be-4fd3-d38f-99ace1104a2d"
      },
      "execution_count": null,
      "outputs": [
        {
          "output_type": "execute_result",
          "data": {
            "text/plain": [
              "RandomForestRegressor()"
            ]
          },
          "metadata": {},
          "execution_count": 59
        }
      ]
    },
    {
      "cell_type": "markdown",
      "source": [
        "In the next line, the trained model is tested on the test data to predict the outcome based on the input."
      ],
      "metadata": {
        "id": "g4hHncuO8kx3"
      }
    },
    {
      "cell_type": "code",
      "source": [
        "Y_pred = model.predict(X_test)\n",
        "Y_pred"
      ],
      "metadata": {
        "colab": {
          "base_uri": "https://localhost:8080/"
        },
        "id": "Yb3UsYFLCDix",
        "outputId": "52828231-bd1f-41cf-bcb7-8e2bccecacc0"
      },
      "execution_count": null,
      "outputs": [
        {
          "output_type": "execute_result",
          "data": {
            "text/plain": [
              "array([0.  , 1.  , 0.  , 2.  , 2.  , 2.  , 1.  , 1.  , 1.  , 1.  , 1.  ,\n",
              "       0.  , 1.  , 0.  , 1.  , 1.  , 2.  , 0.  , 1.  , 0.  , 0.  , 0.  ,\n",
              "       2.  , 1.  , 1.  , 1.  , 1.  , 1.  , 1.  , 0.  , 1.  , 0.  , 2.  ,\n",
              "       2.  , 1.  , 0.  , 0.  , 0.  , 0.  , 1.  , 2.  , 2.  , 1.  , 1.  ,\n",
              "       2.  , 2.  , 1.  , 2.  , 1.  , 1.  , 0.  , 2.  , 0.  , 2.  , 1.  ,\n",
              "       2.  , 0.  , 1.  , 0.  , 1.  , 2.  , 0.  , 0.  , 2.  , 2.  , 0.  ,\n",
              "       0.  , 1.  , 1.  , 2.  , 2.  , 2.  , 1.  , 0.  , 2.  , 1.  , 2.  ,\n",
              "       0.  , 2.  , 1.  , 0.  , 1.  , 0.  , 0.  , 0.  , 1.  , 1.  , 0.  ,\n",
              "       2.  , 1.  , 2.  , 1.  , 0.  , 2.  , 2.  , 1.  , 1.  , 2.  , 1.  ,\n",
              "       2.  , 1.  , 0.  , 1.  , 0.  , 0.  , 0.  , 2.  , 0.01, 2.  , 1.  ,\n",
              "       1.  , 0.  , 2.  , 2.  , 1.  , 1.  , 1.  , 1.  , 0.  , 0.  , 1.  ,\n",
              "       2.  , 2.  , 1.  , 0.  , 1.  , 1.  , 2.  , 0.  , 1.  , 1.  , 1.  ,\n",
              "       2.  , 0.  , 2.  , 0.  , 0.  , 2.  , 2.  , 1.  , 2.  , 0.  , 1.  ,\n",
              "       0.  , 2.  , 1.  , 1.  , 1.  , 2.  , 2.  , 2.  , 0.  , 2.  , 2.  ,\n",
              "       0.  , 0.01, 1.  , 1.  , 1.  , 2.  , 1.  , 1.  , 1.  , 1.  , 1.  ,\n",
              "       1.  , 0.  , 1.  , 1.  , 2.  , 0.  , 2.  , 1.  , 0.  , 1.  , 1.  ,\n",
              "       0.  , 1.  , 1.  , 0.  , 2.  , 2.  , 1.  , 2.  , 0.  , 2.  , 1.  ,\n",
              "       0.  , 0.  , 1.  , 2.  , 2.  , 1.  , 2.  , 2.  , 0.  , 1.  , 2.  ,\n",
              "       1.  , 2.  , 0.  , 1.  , 0.  , 2.  , 1.  , 2.  , 1.  , 0.  , 2.  ,\n",
              "       0.  , 0.  , 2.  , 0.  , 1.  , 2.  , 2.  , 1.  , 0.  , 2.  , 1.  ,\n",
              "       1.  , 0.  , 1.  , 0.  , 2.  , 0.  , 1.  , 1.  , 2.  , 0.  , 2.  ,\n",
              "       0.  , 0.  , 2.  , 2.  , 1.  , 2.  , 0.01, 2.  , 0.  , 0.  , 1.  ,\n",
              "       2.  , 0.01, 1.  , 1.  , 2.  , 1.  , 0.  , 0.  , 1.  , 1.  , 2.  ,\n",
              "       2.  , 2.  , 1.  , 1.  , 1.  , 1.  , 0.  , 0.  , 2.  , 0.  , 0.  ,\n",
              "       2.  , 0.  , 2.  , 1.  , 0.  , 0.  , 0.  , 2.  , 1.  , 1.  , 2.  ,\n",
              "       0.  , 0.  , 0.  , 2.  , 1.  , 0.01, 1.  , 0.  , 2.  , 0.  , 2.  ,\n",
              "       2.  , 2.  , 2.  , 2.  , 2.  , 0.  , 2.  , 1.  , 0.  , 1.  , 0.  ,\n",
              "       0.  , 2.  , 0.  ])"
            ]
          },
          "metadata": {},
          "execution_count": 60
        }
      ]
    },
    {
      "cell_type": "markdown",
      "source": [
        "- Rounding off the values since the required values are discrete and not Continous. "
      ],
      "metadata": {
        "id": "GeccxfKC8wfo"
      }
    },
    {
      "cell_type": "code",
      "source": [
        "Y_pred=np.abs(np.round(Y_pred))"
      ],
      "metadata": {
        "id": "TKCmjoCVNUj8"
      },
      "execution_count": null,
      "outputs": []
    },
    {
      "cell_type": "markdown",
      "source": [
        "- Computes confusion matrix to evaluate the accuracy of a classification."
      ],
      "metadata": {
        "id": "9X8MaCX-81qv"
      }
    },
    {
      "cell_type": "code",
      "source": [
        "confusion_matrix(Y_test, Y_pred)"
      ],
      "metadata": {
        "colab": {
          "base_uri": "https://localhost:8080/"
        },
        "id": "lEhrGGdJCDiy",
        "outputId": "4cf2a846-e9a3-499c-d34a-9dce2ffa9fac"
      },
      "execution_count": null,
      "outputs": [
        {
          "output_type": "execute_result",
          "data": {
            "text/plain": [
              "array([[ 95,   0,   0],\n",
              "       [  0, 110,   0],\n",
              "       [  0,   0,  95]])"
            ]
          },
          "metadata": {},
          "execution_count": 62
        }
      ]
    },
    {
      "cell_type": "markdown",
      "source": [
        "- Build a text report showing the main classification metrics such has precision,f1-score and recall values for the actual and predicted values."
      ],
      "metadata": {
        "id": "U_joynmh86WW"
      }
    },
    {
      "cell_type": "code",
      "source": [
        "print(classification_report(Y_test, Y_pred))"
      ],
      "metadata": {
        "colab": {
          "base_uri": "https://localhost:8080/"
        },
        "id": "-uKhGEXmCDiy",
        "outputId": "433be642-cb0a-4b1b-ff88-8dde3e4bc896"
      },
      "execution_count": null,
      "outputs": [
        {
          "output_type": "stream",
          "name": "stdout",
          "text": [
            "              precision    recall  f1-score   support\n",
            "\n",
            "           0       1.00      1.00      1.00        95\n",
            "           1       1.00      1.00      1.00       110\n",
            "           2       1.00      1.00      1.00        95\n",
            "\n",
            "    accuracy                           1.00       300\n",
            "   macro avg       1.00      1.00      1.00       300\n",
            "weighted avg       1.00      1.00      1.00       300\n",
            "\n"
          ]
        }
      ]
    },
    {
      "cell_type": "markdown",
      "source": [
        "Plotting a heatmap of the confusion matrix with flags annot=True which plots with numbers of strength and fmt='g' signifies the values to be displayed as integer."
      ],
      "metadata": {
        "id": "C9BwAs269Egn"
      }
    },
    {
      "cell_type": "code",
      "source": [
        "sns.heatmap(confusion_matrix(Y_test, Y_pred),annot=True,fmt='g')\n",
        "plt.xlabel(\"Predicted\")\n",
        "plt.ylabel(\"Actual\")"
      ],
      "metadata": {
        "colab": {
          "base_uri": "https://localhost:8080/",
          "height": 296
        },
        "id": "wauNN2g4CDiy",
        "outputId": "5a766859-e488-498c-b4e4-8c2fb22ac81a"
      },
      "execution_count": null,
      "outputs": [
        {
          "output_type": "execute_result",
          "data": {
            "text/plain": [
              "Text(33.0, 0.5, 'Actual')"
            ]
          },
          "metadata": {},
          "execution_count": 64
        },
        {
          "output_type": "display_data",
          "data": {
            "text/plain": [
              "<Figure size 432x288 with 2 Axes>"
            ],
            "image/png": "[encoded data removed]"
          },
          "metadata": {
            "needs_background": "light"
          }
        }
      ]
    },
    {
      "cell_type": "code",
      "source": [
        "print('Mean squared error for ',type(model).__name__,': ',getMSEForModel(type(model).__name__,Y_test, Y_pred))\n",
        "Accuracy=getAccuracyForModel(model,Y_test,Y_pred)\n",
        "print('Accuracy of ',type(model).__name__,' model: ',Accuracy)"
      ],
      "metadata": {
        "colab": {
          "base_uri": "https://localhost:8080/"
        },
        "id": "oGC_0fhOJnZs",
        "outputId": "b7796fcf-f3f6-4dc8-d6e5-4b4a29cb445a"
      },
      "execution_count": null,
      "outputs": [
        {
          "output_type": "stream",
          "name": "stdout",
          "text": [
            "Mean squared error for  RandomForestRegressor :  0.0\n",
            "\n",
            "Accuracy of  RandomForestRegressor  model when K Fold=  10 : \n",
            "Min Accuracy 0.9999259153318077\n",
            "Max Accuracy 1.0\n",
            "Mean Accuracy 0.9999838611629587\n",
            "\n",
            "Accuracy of  RandomForestRegressor  model:  1.0\n"
          ]
        }
      ]
    },
    {
      "cell_type": "markdown",
      "source": [
        "#### Support Vector Regressor"
      ],
      "metadata": {
        "id": "9y2HCR7kCJCf"
      }
    },
    {
      "cell_type": "markdown",
      "source": [
        "- Support Vector Regression is a supervised learning algorithm that is used to predict discrete values. Support Vector Regression uses the same principle as the SVMs. The basic idea behind SVR is to find the best fit line."
      ],
      "metadata": {
        "id": "vSqR939G9NfQ"
      }
    },
    {
      "cell_type": "code",
      "source": [
        "from sklearn.svm import SVR"
      ],
      "metadata": {
        "id": "Gc4HO3jkCJCh"
      },
      "execution_count": null,
      "outputs": []
    },
    {
      "cell_type": "markdown",
      "source": [
        "https://scikit-learn.org/stable/modules/generated/sklearn.svm.SVR.html"
      ],
      "metadata": {
        "id": "PqmbaWzs9Z1I"
      }
    },
    {
      "cell_type": "code",
      "source": [
        "model = SVR()\n",
        "model.fit(X_train,Y_train)"
      ],
      "metadata": {
        "colab": {
          "base_uri": "https://localhost:8080/"
        },
        "id": "6mAouD8LCJCi",
        "outputId": "fd72fa78-1618-4245-f577-592feea611ea"
      },
      "execution_count": null,
      "outputs": [
        {
          "output_type": "execute_result",
          "data": {
            "text/plain": [
              "SVR()"
            ]
          },
          "metadata": {},
          "execution_count": 67
        }
      ]
    },
    {
      "cell_type": "markdown",
      "source": [
        "In the next line, the trained model is tested on the test data to predict the outcome based on the input."
      ],
      "metadata": {
        "id": "jkDXOvUe9n2Z"
      }
    },
    {
      "cell_type": "code",
      "source": [
        "Y_pred = model.predict(X_test)\n",
        "Y_pred"
      ],
      "metadata": {
        "colab": {
          "base_uri": "https://localhost:8080/"
        },
        "id": "kc5e-N4iCJCi",
        "outputId": "7b123cc1-1ba1-4e79-ac17-747d1cd14847"
      },
      "execution_count": null,
      "outputs": [
        {
          "output_type": "execute_result",
          "data": {
            "text/plain": [
              "array([ 0.10018962,  1.08932667,  0.14031015,  1.93158903,  1.90009331,\n",
              "        1.93532798,  1.08242566,  0.9005558 ,  0.92461188,  1.0928405 ,\n",
              "        0.90032584,  0.07905234,  0.96750557,  0.10011419,  1.10007035,\n",
              "        1.07199126,  1.90009331,  0.01662455,  0.90023417,  0.09981244,\n",
              "       -0.01876518,  0.10010542,  1.92797392,  0.90004423,  1.08932667,\n",
              "        1.099955  ,  1.04011925,  1.099955  ,  0.96750557,  0.05290534,\n",
              "        0.88662853,  0.0860155 ,  1.97875316,  1.90028378,  1.09983073,\n",
              "        0.0489168 ,  0.10011419,  0.10018765,  0.09999971,  1.08932667,\n",
              "        1.94518243,  1.89975598,  0.9105472 ,  0.9105472 ,  1.92244098,\n",
              "        1.90028378,  0.99978964,  1.90010111,  1.06944686,  1.04370216,\n",
              "        0.01662455,  1.94518243,  0.10019488,  1.99713504,  1.1004002 ,\n",
              "        2.09118349,  0.09999166,  1.0928405 ,  0.07347262,  1.0928405 ,\n",
              "        1.99713504,  0.01662455,  0.10018765,  1.93649293,  1.90714511,\n",
              "        0.05290534,  0.31205495,  1.099955  ,  1.04011925,  1.89977144,\n",
              "        1.93534085,  1.97875316,  1.03739222, -0.02843562,  2.03024129,\n",
              "        0.90004423,  1.93870322, -0.01876518,  1.90003469,  0.90032584,\n",
              "        0.10018962,  0.90004423,  0.10012645,  0.10018796,  0.09962739,\n",
              "        0.95591005,  0.99978964,  0.10018765,  1.89981474,  1.09983073,\n",
              "        2.03055013,  0.91850437,  0.10018962,  1.90034223,  2.09118349,\n",
              "        0.96750557,  0.90664381,  1.91398722,  1.08242566,  1.90003469,\n",
              "        0.90002191,  0.07905234,  1.10001214,  0.01917503,  0.10012795,\n",
              "        0.05290534,  1.91394825,  0.1001454 ,  1.90007035,  0.9105472 ,\n",
              "        1.0928405 ,  0.10018962,  1.89991963,  1.93649293,  1.07199126,\n",
              "        1.04011925,  1.06944686,  1.10007035,  0.10019488,  0.10018765,\n",
              "        0.9105472 ,  1.90917666,  1.89991963,  0.99978964,  0.10012645,\n",
              "        0.89970356,  0.9447414 ,  1.90028378,  0.01917503,  1.04011925,\n",
              "        0.9105472 ,  0.89960107,  1.94247446,  0.09962739,  1.90028378,\n",
              "        0.09999166, -0.03002989,  1.93534085,  2.03055013,  1.1004002 ,\n",
              "        1.89965756,  0.09962739,  0.90014771,  0.10010542,  1.89964339,\n",
              "        1.06944686,  1.0349675 ,  0.89962591,  1.90714511,  1.89975598,\n",
              "        2.02659567,  0.01662455,  1.90003469,  1.93649293,  0.10012795,\n",
              "        0.1001454 ,  0.90664381,  1.07199126,  1.0998813 ,  1.90007035,\n",
              "        0.90032584,  1.06944686,  1.1004002 ,  0.89962591,  1.0928405 ,\n",
              "        0.92461188,  0.10031122,  1.06944686,  0.90014771,  1.89991963,\n",
              "        0.10018765,  1.89977144,  1.0998813 , -0.03002989,  0.90004423,\n",
              "        1.099955  ,  0.1326066 ,  1.08242566,  0.9105472 , -0.02843562,\n",
              "        1.90028378,  1.90007035,  0.90014771,  1.91398722,  0.09981244,\n",
              "        1.89964339,  0.92461188,  0.10010542,  0.0489168 ,  0.96750557,\n",
              "        2.0871718 ,  1.92797392,  0.96824509,  1.90032222,  1.91398722,\n",
              "        0.10019488,  1.10001214,  1.93534085,  1.07199126,  2.09118349,\n",
              "       -0.03002989,  0.90664381,  0.0860155 ,  1.83411253,  0.90198949,\n",
              "        2.02659567,  0.99978964,  0.10012645,  1.89964339,  0.10019488,\n",
              "        0.10019488,  1.90010111,  0.09999971,  1.0349675 ,  1.92465348,\n",
              "        1.90010111,  1.10007035,  0.10010542,  1.93532798,  0.91850437,\n",
              "        0.92461188,  0.10018962,  0.90002191,  0.07860688,  1.90010111,\n",
              "        0.01662455,  0.89847541,  0.95591005,  1.93532798,  0.10018962,\n",
              "        1.89977144,  0.10010542,  0.10018796,  1.89991963,  1.89981474,\n",
              "        0.89960107,  1.89975598,  0.1001454 ,  1.94518243,  0.09999166,\n",
              "        0.10018796,  1.07199126,  1.93318298,  0.1001454 ,  0.96750557,\n",
              "        1.09983073,  1.90009331,  1.099955  ,  0.16465382,  0.01662455,\n",
              "        0.90004423,  0.89053864,  2.0871718 ,  1.93649293,  1.91875472,\n",
              "        1.1004002 ,  1.04011925,  1.08242566,  0.89962591,  0.0860155 ,\n",
              "        0.0998124 ,  1.89964339,  0.10018796,  0.0489168 ,  2.09118349,\n",
              "       -0.02843562,  1.93318298,  1.10007035,  0.09962739, -0.02272222,\n",
              "        0.09962739,  1.93534085,  1.0998813 ,  0.99978964,  1.94247446,\n",
              "        0.10031122,  0.0998124 ,  0.10018765,  1.89965756,  0.90198949,\n",
              "        0.1001454 ,  1.0349675 ,  0.10012795,  1.90714511,  0.07159846,\n",
              "        1.89965756,  1.96081133,  1.90034223,  1.93318298,  1.89965756,\n",
              "        1.93318298, -0.02272222,  1.91875472,  0.90112664,  0.10031122,\n",
              "        0.91850437,  0.01662455,  0.07905234,  1.94247446,  0.01917503])"
            ]
          },
          "metadata": {},
          "execution_count": 68
        }
      ]
    },
    {
      "cell_type": "code",
      "source": [
        "Y_pred=np.abs(np.round(Y_pred))"
      ],
      "metadata": {
        "id": "Vd6iDpfIN3TP"
      },
      "execution_count": null,
      "outputs": []
    },
    {
      "cell_type": "markdown",
      "source": [
        "Computes confusion matrix to evaluate the accuracy of a classification."
      ],
      "metadata": {
        "id": "Qv6vhE_e9utp"
      }
    },
    {
      "cell_type": "code",
      "source": [
        "confusion_matrix(Y_test, Y_pred)"
      ],
      "metadata": {
        "colab": {
          "base_uri": "https://localhost:8080/"
        },
        "id": "lPauRo8kCJCj",
        "outputId": "db32c0a8-b42a-482c-86df-c1f96b65f606"
      },
      "execution_count": null,
      "outputs": [
        {
          "output_type": "execute_result",
          "data": {
            "text/plain": [
              "array([[ 95,   0,   0],\n",
              "       [  0, 110,   0],\n",
              "       [  0,   0,  95]])"
            ]
          },
          "metadata": {},
          "execution_count": 70
        }
      ]
    },
    {
      "cell_type": "markdown",
      "source": [
        "Build a text report showing the main classification metrics such has precision,f1-score and recall values for the actual and predicted values."
      ],
      "metadata": {
        "id": "M1OG0o8a9zSg"
      }
    },
    {
      "cell_type": "code",
      "source": [
        "print(classification_report(Y_test, Y_pred))"
      ],
      "metadata": {
        "colab": {
          "base_uri": "https://localhost:8080/"
        },
        "id": "9lUej06jCJCj",
        "outputId": "3001ffe7-a5e5-4eb9-fe11-914ea986b3bf"
      },
      "execution_count": null,
      "outputs": [
        {
          "output_type": "stream",
          "name": "stdout",
          "text": [
            "              precision    recall  f1-score   support\n",
            "\n",
            "           0       1.00      1.00      1.00        95\n",
            "           1       1.00      1.00      1.00       110\n",
            "           2       1.00      1.00      1.00        95\n",
            "\n",
            "    accuracy                           1.00       300\n",
            "   macro avg       1.00      1.00      1.00       300\n",
            "weighted avg       1.00      1.00      1.00       300\n",
            "\n"
          ]
        }
      ]
    },
    {
      "cell_type": "markdown",
      "source": [
        "Plotting a heatmap of the confusion matrix with flags annot=True which plots with numbers of strength and fmt='g' signifies the values to be displayed as integer."
      ],
      "metadata": {
        "id": "_iD0LZoj92Ug"
      }
    },
    {
      "cell_type": "code",
      "source": [
        "sns.heatmap(confusion_matrix(Y_test, Y_pred),annot=True,fmt='g')\n",
        "plt.xlabel(\"Predicted\")\n",
        "plt.ylabel(\"Actual\")"
      ],
      "metadata": {
        "colab": {
          "base_uri": "https://localhost:8080/",
          "height": 296
        },
        "id": "33ba6C2-CJCj",
        "outputId": "47d694da-26e2-4e30-c167-6d2c39d58baf"
      },
      "execution_count": null,
      "outputs": [
        {
          "output_type": "execute_result",
          "data": {
            "text/plain": [
              "Text(33.0, 0.5, 'Actual')"
            ]
          },
          "metadata": {},
          "execution_count": 72
        },
        {
          "output_type": "display_data",
          "data": {
            "text/plain": [
              "<Figure size 432x288 with 2 Axes>"
            ],
            "image/png": "[encoded data removed]"
          },
          "metadata": {
            "needs_background": "light"
          }
        }
      ]
    },
    {
      "cell_type": "code",
      "source": [
        "print('Mean squared error for ',type(model).__name__,': ',getMSEForModel(type(model).__name__,Y_test, Y_pred))\n",
        "Accuracy=getAccuracyForModel(model,Y_test,Y_pred)\n",
        "print('Accuracy of ',type(model).__name__,' model: ',Accuracy)"
      ],
      "metadata": {
        "colab": {
          "base_uri": "https://localhost:8080/"
        },
        "id": "P0GkVa9DJxkm",
        "outputId": "b8e1c1b9-47e9-46d6-f682-8577c9be9f4f"
      },
      "execution_count": null,
      "outputs": [
        {
          "output_type": "stream",
          "name": "stdout",
          "text": [
            "Mean squared error for  SVR :  0.0\n",
            "\n",
            "Accuracy of  SVR  model when K Fold=  10 : \n",
            "Min Accuracy 0.9876571941146587\n",
            "Max Accuracy 0.9910158456963087\n",
            "Mean Accuracy 0.9890937885012787\n",
            "\n",
            "Accuracy of  SVR  model:  1.0\n"
          ]
        }
      ]
    },
    {
      "cell_type": "markdown",
      "source": [
        "#### Stochastic Gradient Descent"
      ],
      "metadata": {
        "id": "q0WhozVACOck"
      }
    },
    {
      "cell_type": "markdown",
      "source": [
        "- SGD stands for Stochastic Gradient Descent: the gradient of the loss is estimated each sample at a time and the model is updated along the way with a decreasing strength schedule (aka learning rate)."
      ],
      "metadata": {
        "id": "YNKXXTYT98cb"
      }
    },
    {
      "cell_type": "code",
      "source": [
        "from sklearn.linear_model import SGDRegressor"
      ],
      "metadata": {
        "id": "LvCnYmFgCOcm"
      },
      "execution_count": null,
      "outputs": []
    },
    {
      "cell_type": "markdown",
      "source": [
        "- The regularizer is a penalty added to the loss function that shrinks model parameters towards the zero vector using either the squared euclidean norm L2 or the absolute norm L1 or a combination of both (Elastic Net).\n",
        "- n_iter_no_changeint, default=5\n",
        "Number of iterations with no improvement to wait before stopping fitting.\n",
        "- The ‘squared_error’ refers to the ordinary least squares fit."
      ],
      "metadata": {
        "id": "r8cEx-DP-DJy"
      }
    },
    {
      "cell_type": "code",
      "source": [
        "model = SGDRegressor(loss='squared_error', max_iter=10000, random_state=42)\n",
        "model.fit(X_train,Y_train)"
      ],
      "metadata": {
        "colab": {
          "base_uri": "https://localhost:8080/"
        },
        "id": "NkEsq3wzCOco",
        "outputId": "02b59ccc-7a9d-44ae-b83d-a8addea80e19"
      },
      "execution_count": null,
      "outputs": [
        {
          "output_type": "execute_result",
          "data": {
            "text/plain": [
              "SGDRegressor(max_iter=10000, random_state=42)"
            ]
          },
          "metadata": {},
          "execution_count": 75
        }
      ]
    },
    {
      "cell_type": "code",
      "source": [
        "Y_pred = model.predict(X_test)\n",
        "Y_pred"
      ],
      "metadata": {
        "colab": {
          "base_uri": "https://localhost:8080/"
        },
        "id": "Ezv3NMCcCOcp",
        "outputId": "4fa9c777-6e17-4a01-d063-86871de6fd5c"
      },
      "execution_count": null,
      "outputs": [
        {
          "output_type": "execute_result",
          "data": {
            "text/plain": [
              "array([ 0.08988378,  1.29591088,  0.40685769,  1.81255102,  1.83399355,\n",
              "        1.89251739,  1.03008872,  0.77855454,  0.91987363,  0.95234243,\n",
              "        1.00428016,  0.00547725,  1.06156542,  0.13320124,  1.0838803 ,\n",
              "        1.02453851,  1.83399355,  0.45561617,  0.97660386, -0.04786942,\n",
              "        0.11377569,  0.92369319,  2.0519667 ,  0.93564295,  1.29591088,\n",
              "        0.9540075 ,  0.93735687,  0.9540075 ,  1.06156542,  0.11858185,\n",
              "        1.01205045, -0.13715047,  2.03078685,  1.77289789,  0.96954951,\n",
              "       -0.1488927 ,  0.13320124,  0.1209944 ,  0.15597001,  1.29591088,\n",
              "        1.76401756,  1.925892  ,  0.71893105,  0.71893105,  2.00792838,\n",
              "        1.77289789,  1.07044575,  1.61338786,  0.94679223,  0.93902194,\n",
              "        0.45561617,  1.76401756, -0.32115114,  2.11852351,  1.43831523,\n",
              "        2.15867167,  0.15177131,  0.95234243,  0.15651989,  0.95234243,\n",
              "        2.11852351,  0.45561617,  0.1209944 ,  1.84376888,  1.89951762,\n",
              "        0.11858185,  0.7987223 ,  0.9540075 ,  0.93735687,  1.59729226,\n",
              "        1.80700081,  2.03078685,  0.93569181, -0.5532062 ,  2.38840987,\n",
              "        0.93564295,  1.8092209 ,  0.11377569,  1.79855719,  1.00428016,\n",
              "        0.08988378,  0.93564295, -0.10800267,  0.88423888, -0.04400582,\n",
              "        0.91210334,  1.07044575,  0.1209944 ,  2.13748327,  0.96954951,\n",
              "        2.38896489,  0.80888779,  0.08988378,  2.04799249,  2.15867167,\n",
              "        1.06156542,  0.80500264,  1.89365732,  1.03008872,  1.79855719,\n",
              "        0.64752235,  0.00547725,  1.06283638,  0.14541947,  0.08416383,\n",
              "        0.11858185,  1.89840757,  0.23689587,  1.94374159,  0.71893105,\n",
              "        0.95234243,  0.08988378,  1.90250776,  1.84376888,  1.02453851,\n",
              "        0.93735687,  0.94679223,  1.0838803 , -0.32115114,  0.1209944 ,\n",
              "        0.71893105,  1.8041074 ,  1.90250776,  1.07044575, -0.10800267,\n",
              "        0.96041904,  0.91432342,  1.77289789,  0.14541947,  0.93735687,\n",
              "        0.71893105,  0.87490247,  1.92318023, -0.04400582,  1.77289789,\n",
              "        0.15177131, -0.06422648,  1.80700081,  2.38896489,  1.43831523,\n",
              "        2.02301656, -0.04400582,  0.8011175 ,  0.92369319,  1.88518381,\n",
              "        0.94679223,  0.9301416 ,  0.8534565 ,  1.89951762,  1.925892  ,\n",
              "        2.38674481,  0.45561617,  1.79855719,  1.84376888,  0.08416383,\n",
              "        0.23689587,  0.80500264,  1.02453851,  1.05284601,  1.94374159,\n",
              "        1.00428016,  0.94679223,  1.43831523,  0.8534565 ,  0.95234243,\n",
              "        0.91987363,  0.31531731,  0.94679223,  0.8011175 ,  1.90250776,\n",
              "        0.1209944 ,  1.59729226,  1.05284601, -0.06422648,  0.93564295,\n",
              "        0.9540075 ,  0.23728788,  1.03008872,  0.71893105, -0.5532062 ,\n",
              "        1.77289789,  1.94374159,  0.8011175 ,  1.89365732, -0.04786942,\n",
              "        1.88518381,  0.91987363,  0.92369319, -0.1488927 ,  1.06156542,\n",
              "        2.16533192,  2.0519667 ,  1.06212044,  2.00348821,  1.89365732,\n",
              "       -0.32115114,  1.06283638,  1.80700081,  1.02453851,  2.15867167,\n",
              "       -0.06422648,  0.80500264, -0.13715047,  1.61893807,  0.93453291,\n",
              "        2.38674481,  1.07044575, -0.10800267,  1.88518381, -0.32115114,\n",
              "       -0.32115114,  1.61338786,  0.15597001,  0.9301416 ,  2.00903842,\n",
              "        1.61338786,  1.0838803 ,  0.92369319,  1.89251739,  0.80888779,\n",
              "        0.91987363,  0.08988378,  0.64752235,  0.09154884,  1.61338786,\n",
              "        0.45561617,  0.94008311,  0.91210334,  1.89251739,  0.08988378,\n",
              "        1.59729226,  0.92369319,  0.88423888,  1.90250776,  2.13748327,\n",
              "        0.87490247,  1.925892  ,  0.23689587,  1.76401756,  0.15177131,\n",
              "        0.88423888,  1.02453851,  1.90253766,  0.23689587,  1.06156542,\n",
              "        0.96954951,  1.83399355,  0.9540075 ,  0.04990837,  0.45561617,\n",
              "        0.93564295,  1.01538057,  2.16533192,  1.84376888,  1.88918727,\n",
              "        1.43831523,  0.93735687,  1.03008872,  0.8534565 , -0.13715047,\n",
              "        0.07978672,  1.88518381,  0.88423888, -0.1488927 ,  2.15867167,\n",
              "       -0.5532062 ,  1.90253766,  1.0838803 , -0.04400582, -0.29695069,\n",
              "       -0.04400582,  1.80700081,  1.05284601,  1.07044575,  1.92318023,\n",
              "        0.31531731,  0.07978672,  0.1209944 ,  2.02301656,  0.93453291,\n",
              "        0.23689587,  0.9301416 ,  0.08416383,  1.89951762,  0.40555783,\n",
              "        2.02301656,  1.84564899,  2.04799249,  1.90253766,  2.02301656,\n",
              "        1.90253766, -0.29695069,  1.88918727,  0.71560092,  0.31531731,\n",
              "        0.80888779,  0.45561617,  0.00547725,  1.92318023,  0.14541947])"
            ]
          },
          "metadata": {},
          "execution_count": 76
        }
      ]
    },
    {
      "cell_type": "code",
      "source": [
        "Y_pred=np.abs(np.round(Y_pred))"
      ],
      "metadata": {
        "id": "mrz_dmm5PVUq"
      },
      "execution_count": null,
      "outputs": []
    },
    {
      "cell_type": "code",
      "source": [
        "confusion_matrix(Y_test, Y_pred)"
      ],
      "metadata": {
        "colab": {
          "base_uri": "https://localhost:8080/"
        },
        "id": "XlXaIZW3COcp",
        "outputId": "ff61c87e-027a-4a0b-89c5-9edc6bec579b"
      },
      "execution_count": null,
      "outputs": [
        {
          "output_type": "execute_result",
          "data": {
            "text/plain": [
              "array([[ 82,  13,   0],\n",
              "       [  0, 110,   0],\n",
              "       [  0,   0,  95]])"
            ]
          },
          "metadata": {},
          "execution_count": 78
        }
      ]
    },
    {
      "cell_type": "code",
      "source": [
        "print(classification_report(Y_test, Y_pred))"
      ],
      "metadata": {
        "colab": {
          "base_uri": "https://localhost:8080/"
        },
        "id": "anI3ps4sCOcp",
        "outputId": "127b84fd-6210-4ff4-8763-13f162747646"
      },
      "execution_count": null,
      "outputs": [
        {
          "output_type": "stream",
          "name": "stdout",
          "text": [
            "              precision    recall  f1-score   support\n",
            "\n",
            "           0       1.00      0.86      0.93        95\n",
            "           1       0.89      1.00      0.94       110\n",
            "           2       1.00      1.00      1.00        95\n",
            "\n",
            "    accuracy                           0.96       300\n",
            "   macro avg       0.96      0.95      0.96       300\n",
            "weighted avg       0.96      0.96      0.96       300\n",
            "\n"
          ]
        }
      ]
    },
    {
      "cell_type": "markdown",
      "source": [
        "Plotting a heatmap of the confusion matrix with flags annot=True which plots with numbers of strength and fmt='g' signifies the values to be displayed as integer."
      ],
      "metadata": {
        "id": "uFXabhCo-gei"
      }
    },
    {
      "cell_type": "code",
      "source": [
        "sns.heatmap(confusion_matrix(Y_test, Y_pred),annot=True,fmt='g')\n",
        "plt.xlabel(\"Predicted\")\n",
        "plt.ylabel(\"Actual\")"
      ],
      "metadata": {
        "colab": {
          "base_uri": "https://localhost:8080/",
          "height": 296
        },
        "id": "NtqUCD3ECOcq",
        "outputId": "d1699dfe-473d-42a8-be2a-bd60c670cd81"
      },
      "execution_count": null,
      "outputs": [
        {
          "output_type": "execute_result",
          "data": {
            "text/plain": [
              "Text(33.0, 0.5, 'Actual')"
            ]
          },
          "metadata": {},
          "execution_count": 80
        },
        {
          "output_type": "display_data",
          "data": {
            "text/plain": [
              "<Figure size 432x288 with 2 Axes>"
            ],
            "image/png": "[encoded data removed]"
          },
          "metadata": {
            "needs_background": "light"
          }
        }
      ]
    },
    {
      "cell_type": "code",
      "source": [
        "print('Mean squared error for ',type(model).__name__,': ',getMSEForModel(type(model).__name__,Y_test, Y_pred))\n",
        "Accuracy=getAccuracyForModel(model,Y_test,Y_pred)\n",
        "print('Accuracy of ',type(model).__name__,' model: ',Accuracy)"
      ],
      "metadata": {
        "colab": {
          "base_uri": "https://localhost:8080/"
        },
        "id": "OLgoDYaQJ1i7",
        "outputId": "d6f5dba4-1db7-4b81-b46a-95bbd291093e"
      },
      "execution_count": null,
      "outputs": [
        {
          "output_type": "stream",
          "name": "stdout",
          "text": [
            "Mean squared error for  SGDRegressor :  0.043333333333333335\n",
            "\n",
            "Accuracy of  SGDRegressor  model when K Fold=  10 : \n",
            "Min Accuracy 0.8679346670449447\n",
            "Max Accuracy 0.9367918066392555\n",
            "Mean Accuracy 0.9194975013048818\n",
            "\n",
            "Accuracy of  SGDRegressor  model:  0.9566666666666667\n"
          ]
        }
      ]
    },
    {
      "cell_type": "markdown",
      "source": [
        "#### Ridge"
      ],
      "metadata": {
        "id": "BU-qUxcACTDJ"
      }
    },
    {
      "cell_type": "markdown",
      "source": [
        "- Linear least squares with l2 regularization."
      ],
      "metadata": {
        "id": "HYiMu7G7-pkq"
      }
    },
    {
      "cell_type": "code",
      "source": [
        "from sklearn.linear_model import Ridge"
      ],
      "metadata": {
        "id": "HYZzWgK0CTDL"
      },
      "execution_count": null,
      "outputs": []
    },
    {
      "cell_type": "markdown",
      "source": [
        "Minimizes the objective function:\n",
        "\n",
        "\n",
        "\n",
        "```\n",
        "||y - Xw||^2_2 + alpha * ||w||^2_2\n",
        "```\n",
        "\n"
      ],
      "metadata": {
        "id": "c4q-cLIF-sAR"
      }
    },
    {
      "cell_type": "code",
      "source": [
        "model = Ridge(alpha=0.5, solver='sag', random_state=42)\n",
        "model.fit(X_train,Y_train)"
      ],
      "metadata": {
        "colab": {
          "base_uri": "https://localhost:8080/"
        },
        "id": "l3Mp2qQtCTDM",
        "outputId": "fcd18e66-7de9-4ed7-fc5e-07dc853712b9"
      },
      "execution_count": null,
      "outputs": [
        {
          "output_type": "execute_result",
          "data": {
            "text/plain": [
              "Ridge(alpha=0.5, random_state=42, solver='sag')"
            ]
          },
          "metadata": {},
          "execution_count": 83
        }
      ]
    },
    {
      "cell_type": "markdown",
      "source": [
        "This model solves a regression model where the loss function is the linear least squares function and regularization is given by the l2-norm."
      ],
      "metadata": {
        "id": "392KLfWn-5gp"
      }
    },
    {
      "cell_type": "code",
      "source": [
        "Y_pred = model.predict(X_test)\n",
        "Y_pred"
      ],
      "metadata": {
        "colab": {
          "base_uri": "https://localhost:8080/"
        },
        "id": "AVXR5BJ0CTDN",
        "outputId": "6897c688-80ab-497f-f94c-ffe511253300"
      },
      "execution_count": null,
      "outputs": [
        {
          "output_type": "execute_result",
          "data": {
            "text/plain": [
              "array([-0.00581864,  1.35873741,  0.33065218,  1.8314894 ,  1.85715113,\n",
              "        1.91379917,  1.03032221,  1.00455229,  0.9509293 ,  0.95241128,\n",
              "        1.04203674, -0.09692608,  0.99480379,  0.01797802,  1.11387621,\n",
              "        1.01932511,  1.85715113,  0.42667349,  0.90259664, -0.09941055,\n",
              "        0.12781682,  0.94319452,  2.02093484,  0.92142847,  1.35873741,\n",
              "        0.9557104 ,  0.92271913,  0.9557104 ,  0.99480379,  0.32525941,\n",
              "        1.05743267, -0.09432221,  2.00453046,  1.81223148,  0.91072046,\n",
              "       -0.07882425,  0.01797802,  0.11451344,  0.26272794,  1.35873741,\n",
              "        1.79463613,  1.83026847,  0.77537912,  0.77537912,  1.96309766,\n",
              "        1.81223148,  1.01239914,  1.50790125,  0.94141418,  0.92601825,\n",
              "        0.42667349,  1.79463613, -0.41852904,  2.10223615,  1.32419529,\n",
              "        2.23271847,  0.10887146,  0.95241128,  0.14860465,  0.95241128,\n",
              "        2.10223615,  0.42667349,  0.11451344,  1.89381487,  1.94496436,\n",
              "        0.32525941,  0.64188121,  0.9557104 ,  0.92271913,  1.47600968,\n",
              "        1.82049231,  2.00453046,  0.91942   , -0.5720469 ,  2.34498739,\n",
              "        0.92142847,  1.82489114,  0.12781682,  1.68352326,  1.04203674,\n",
              "       -0.00581864,  0.92142847, -0.05012635,  0.73518807, -0.14752142,\n",
              "        0.93553337,  1.01239914,  0.11451344,  2.1142417 ,  0.91072046,\n",
              "        2.3460871 ,  0.87748365, -0.00581864,  2.03862144,  2.23271847,\n",
              "        0.99480379,  0.86978569,  1.92218221,  1.03032221,  1.68352326,\n",
              "        0.821801  , -0.09692608,  1.01942325,  0.12661047,  0.06236989,\n",
              "        0.32525941,  1.94276494,  0.1918051 ,  2.02966618,  0.77537912,\n",
              "        0.95241128, -0.00581864,  1.93359393,  1.89381487,  1.01932511,\n",
              "        0.92271913,  0.94141418,  1.11387621, -0.41852904,  0.11451344,\n",
              "        0.77537912,  1.69452035,  1.93359393,  1.01239914, -0.05012635,\n",
              "        0.93325993,  0.93993221,  1.81223148,  0.12661047,  0.92271913,\n",
              "        0.77537912,  0.83995307,  1.97502492, -0.14752142,  1.81223148,\n",
              "        0.10887146,  0.03795576,  1.82049231,  2.3460871 ,  1.32419529,\n",
              "        1.98913453, -0.14752142,  0.86208772,  0.94319452,  1.77902954,\n",
              "        0.94141418,  0.90842291,  0.83471986,  1.94496436,  1.83026847,\n",
              "        2.34168827,  0.42667349,  1.68352326,  1.89381487,  0.06236989,\n",
              "        0.1918051 ,  0.86978569,  1.01932511,  0.99962848,  2.02966618,\n",
              "        1.04203674,  0.94141418,  1.32419529,  0.83471986,  0.95241128,\n",
              "        0.9509293 ,  0.31824666,  0.94141418,  0.86208772,  1.93359393,\n",
              "        0.11451344,  1.47600968,  0.99962848,  0.03795576,  0.92142847,\n",
              "        0.9557104 ,  0.20217832,  1.03032221,  0.77537912, -0.5720469 ,\n",
              "        1.81223148,  2.02966618,  0.86208772,  1.92218221, -0.09941055,\n",
              "        1.77902954,  0.9509293 ,  0.94319452, -0.07882425,  0.99480379,\n",
              "        2.24591498,  2.02093484,  0.9959035 ,  1.95429998,  1.92218221,\n",
              "       -0.41852904,  1.01942325,  1.82049231,  1.01932511,  2.23271847,\n",
              "        0.03795576,  0.86978569, -0.09432221,  1.51889834,  0.91922905,\n",
              "        2.34168827,  1.01239914, -0.05012635,  1.77902954, -0.41852904,\n",
              "       -0.41852904,  1.50790125,  0.26272794,  0.90842291,  1.96529707,\n",
              "        1.50790125,  1.11387621,  0.94319452,  1.91379917,  0.87748365,\n",
              "        0.9509293 , -0.00581864,  0.821801  , -0.00251951,  1.50790125,\n",
              "        0.42667349,  0.93022614,  0.93553337,  1.91379917, -0.00581864,\n",
              "        1.47600968,  0.94319452,  0.73518807,  1.93359393,  2.1142417 ,\n",
              "        0.83995307,  1.83026847,  0.1918051 ,  1.79463613,  0.10887146,\n",
              "        0.73518807,  1.01932511,  1.93977756,  0.1918051 ,  0.99480379,\n",
              "        0.91072046,  1.85715113,  0.9557104 ,  0.04979902,  0.42667349,\n",
              "        0.92142847,  1.06403093,  2.24591498,  1.89381487,  1.90720091,\n",
              "        1.32419529,  0.92271913,  1.03032221,  0.83471986, -0.09432221,\n",
              "        0.02807992,  1.77902954,  0.73518807, -0.07882425,  2.23271847,\n",
              "       -0.5720469 ,  1.93977756,  1.11387621, -0.14752142, -0.1801723 ,\n",
              "       -0.14752142,  1.82049231,  0.99962848,  1.01239914,  1.97502492,\n",
              "        0.31824666,  0.02807992,  0.11451344,  1.98913453,  0.91922905,\n",
              "        0.1918051 ,  0.90842291,  0.06236989,  1.94496436,  0.21812382,\n",
              "        1.98913453,  1.88024502,  2.03862144,  1.93977756,  1.98913453,\n",
              "        1.93977756, -0.1801723 ,  1.90720091,  0.76878087,  0.31824666,\n",
              "        0.87748365,  0.42667349, -0.09692608,  1.97502492,  0.12661047])"
            ]
          },
          "metadata": {},
          "execution_count": 84
        }
      ]
    },
    {
      "cell_type": "code",
      "source": [
        "Y_pred=np.abs(np.round(Y_pred))"
      ],
      "metadata": {
        "id": "jh_Fmn49PtNj"
      },
      "execution_count": null,
      "outputs": []
    },
    {
      "cell_type": "markdown",
      "source": [
        "Computes confusion matrix to evaluate the accuracy of a classification."
      ],
      "metadata": {
        "id": "U1gPScOxAJEk"
      }
    },
    {
      "cell_type": "code",
      "source": [
        "confusion_matrix(Y_test, Y_pred)"
      ],
      "metadata": {
        "colab": {
          "base_uri": "https://localhost:8080/"
        },
        "id": "TEssbGeZCTDN",
        "outputId": "f64b8287-38e1-4960-bded-99dbbf44b3a1"
      },
      "execution_count": null,
      "outputs": [
        {
          "output_type": "execute_result",
          "data": {
            "text/plain": [
              "array([[ 82,  13,   0],\n",
              "       [  0, 110,   0],\n",
              "       [  0,   3,  92]])"
            ]
          },
          "metadata": {},
          "execution_count": 86
        }
      ]
    },
    {
      "cell_type": "code",
      "source": [
        "print(classification_report(Y_test, Y_pred))"
      ],
      "metadata": {
        "colab": {
          "base_uri": "https://localhost:8080/"
        },
        "id": "QjS6cq9hCTDO",
        "outputId": "b7babfa5-8ade-40da-d65b-991ea1c9e008"
      },
      "execution_count": null,
      "outputs": [
        {
          "output_type": "stream",
          "name": "stdout",
          "text": [
            "              precision    recall  f1-score   support\n",
            "\n",
            "           0       1.00      0.86      0.93        95\n",
            "           1       0.87      1.00      0.93       110\n",
            "           2       1.00      0.97      0.98        95\n",
            "\n",
            "    accuracy                           0.95       300\n",
            "   macro avg       0.96      0.94      0.95       300\n",
            "weighted avg       0.95      0.95      0.95       300\n",
            "\n"
          ]
        }
      ]
    },
    {
      "cell_type": "markdown",
      "source": [
        "Plotting a heatmap of the confusion matrix with flags annot=True which plots with numbers of strength and fmt='g' signifies the values to be displayed as integer."
      ],
      "metadata": {
        "id": "BhBO1NxsAMF4"
      }
    },
    {
      "cell_type": "code",
      "source": [
        "sns.heatmap(confusion_matrix(Y_test, Y_pred),annot=True,fmt='g')\n",
        "plt.xlabel(\"Predicted\")\n",
        "plt.ylabel(\"Actual\")"
      ],
      "metadata": {
        "colab": {
          "base_uri": "https://localhost:8080/",
          "height": 296
        },
        "id": "LVk0Y0CdCTDO",
        "outputId": "6e51e0cf-3ca5-4665-ea83-0ebdf4ceefe8"
      },
      "execution_count": null,
      "outputs": [
        {
          "output_type": "execute_result",
          "data": {
            "text/plain": [
              "Text(33.0, 0.5, 'Actual')"
            ]
          },
          "metadata": {},
          "execution_count": 88
        },
        {
          "output_type": "display_data",
          "data": {
            "text/plain": [
              "<Figure size 432x288 with 2 Axes>"
            ],
            "image/png": "[encoded data removed]"
          },
          "metadata": {
            "needs_background": "light"
          }
        }
      ]
    },
    {
      "cell_type": "code",
      "source": [
        "print('Mean squared error for ',type(model).__name__,': ',getMSEForModel(type(model).__name__,Y_test, Y_pred))\n",
        "Accuracy=getAccuracyForModel(model,Y_test,Y_pred)\n",
        "print('Accuracy of ',type(model).__name__,' model: ',Accuracy)"
      ],
      "metadata": {
        "colab": {
          "base_uri": "https://localhost:8080/"
        },
        "id": "RJz3EcobJ49t",
        "outputId": "5f76e62e-a1ea-488f-af2b-2b13e97687a2"
      },
      "execution_count": null,
      "outputs": [
        {
          "output_type": "stream",
          "name": "stdout",
          "text": [
            "Mean squared error for  Ridge :  0.05333333333333334\n",
            "\n",
            "Accuracy of  Ridge  model when K Fold=  10 : \n",
            "Min Accuracy 0.8815834856707034\n",
            "Max Accuracy 0.9484677209661919\n",
            "Mean Accuracy 0.9283184444840555\n",
            "\n",
            "Accuracy of  Ridge  model:  0.9466666666666667\n"
          ]
        }
      ]
    },
    {
      "cell_type": "markdown",
      "source": [
        "#### DEEP LEARNING"
      ],
      "metadata": {
        "id": "JrhfzzDVC0dk"
      }
    },
    {
      "cell_type": "markdown",
      "source": [
        "Building Neural Network Model"
      ],
      "metadata": {
        "id": "z5YW0VoZ_lHN"
      }
    },
    {
      "cell_type": "code",
      "source": [
        "X=df.drop('Level',axis=1)\n",
        "Y=pd.get_dummies(df['Level'])"
      ],
      "metadata": {
        "id": "HLNnSv-0_1H1"
      },
      "execution_count": null,
      "outputs": []
    },
    {
      "cell_type": "markdown",
      "source": [
        "Importing libs for deep learning model"
      ],
      "metadata": {
        "id": "fD9Yf_CAAOSV"
      }
    },
    {
      "cell_type": "code",
      "source": [
        "import keras\n",
        "from keras.models import Sequential\n",
        "from keras.layers import Dense, Dropout, Activation"
      ],
      "metadata": {
        "id": "qgvwr-QN_oxl"
      },
      "execution_count": null,
      "outputs": []
    },
    {
      "cell_type": "code",
      "source": [
        "# sequential model to initialise our ann and dense module to build the layers\n",
        "from keras.models import Sequential\n",
        "from keras.layers import Dense, Dropout, Activation\n",
        "from sklearn.metrics import classification_report"
      ],
      "metadata": {
        "id": "Fi-NKtiuAaVh"
      },
      "execution_count": null,
      "outputs": []
    },
    {
      "cell_type": "markdown",
      "source": [
        "Splitting dataset in to train and test"
      ],
      "metadata": {
        "id": "--WTL_mNAUBX"
      }
    },
    {
      "cell_type": "code",
      "source": [
        "X_train,X_test,Y_train,Y_test=train_test_split(X,Y,test_size=0.3,stratify=Y,random_state=12)"
      ],
      "metadata": {
        "id": "HABlftY3__q4"
      },
      "execution_count": null,
      "outputs": []
    },
    {
      "cell_type": "code",
      "source": [
        "X_train.shape,Y_train.shape"
      ],
      "metadata": {
        "id": "BgwtInPSAMbI",
        "colab": {
          "base_uri": "https://localhost:8080/"
        },
        "outputId": "6fa4db09-288b-4721-f8ed-a7022dfd2085"
      },
      "execution_count": null,
      "outputs": [
        {
          "output_type": "execute_result",
          "data": {
            "text/plain": [
              "((700, 23), (700, 3))"
            ]
          },
          "metadata": {},
          "execution_count": 93
        }
      ]
    },
    {
      "cell_type": "code",
      "source": [
        "X_train.shape[1]"
      ],
      "metadata": {
        "id": "shvfT_iqBdSl",
        "colab": {
          "base_uri": "https://localhost:8080/"
        },
        "outputId": "1b05104b-77e6-44f0-8139-a80edc334c4d"
      },
      "execution_count": null,
      "outputs": [
        {
          "output_type": "execute_result",
          "data": {
            "text/plain": [
              "23"
            ]
          },
          "metadata": {},
          "execution_count": 94
        }
      ]
    },
    {
      "cell_type": "code",
      "source": [
        "dlModel = Sequential()\n",
        "# Adding the input layer and the first hidden layer\n",
        "dlModel.add(Dense(units = 8, kernel_initializer = 'uniform', activation = 'relu', input_dim = X.shape[1]))\n",
        "\n",
        "# Adding the second hidden layer\n",
        "dlModel.add(Dense(units = 16, kernel_initializer = 'uniform', activation = 'relu'))\n",
        "dlModel.add(Dense(units = 8, activation = \"relu\"))\n",
        "\n",
        "# Adding the output layer\n",
        "dlModel.add(Dense(units = 3, kernel_initializer = 'uniform', activation = 'softmax'))\n",
        "\n",
        "# Compiling the ANN | means applying SGD on the whole ANN\n",
        "dlModel.compile(optimizer = 'adam', loss = 'categorical_crossentropy', \n",
        "                   metrics = ['accuracy'])\n"
      ],
      "metadata": {
        "id": "yW95axi4YHvL"
      },
      "execution_count": null,
      "outputs": []
    },
    {
      "cell_type": "code",
      "source": [
        "history = dlModel.fit(X_train, Y_train, epochs = 50, validation_split = 0.3)"
      ],
      "metadata": {
        "id": "VpuIiLRe_6yZ",
        "colab": {
          "base_uri": "https://localhost:8080/"
        },
        "outputId": "5cdeddbd-8be3-4fba-a8fe-28355b66a7da"
      },
      "execution_count": null,
      "outputs": [
        {
          "output_type": "stream",
          "name": "stdout",
          "text": [
            "Epoch 1/50\n",
            "16/16 [==============================] - 1s 41ms/step - loss: 1.0973 - accuracy: 0.3640 - val_loss: 1.0956 - val_accuracy: 0.3697\n",
            "Epoch 2/50\n",
            "16/16 [==============================] - 0s 5ms/step - loss: 1.0929 - accuracy: 0.3640 - val_loss: 1.0891 - val_accuracy: 0.3697\n",
            "Epoch 3/50\n",
            "16/16 [==============================] - 0s 5ms/step - loss: 1.0816 - accuracy: 0.3640 - val_loss: 1.0736 - val_accuracy: 0.3697\n",
            "Epoch 4/50\n",
            "16/16 [==============================] - 0s 5ms/step - loss: 1.0593 - accuracy: 0.3640 - val_loss: 1.0443 - val_accuracy: 0.3697\n",
            "Epoch 5/50\n",
            "16/16 [==============================] - 0s 4ms/step - loss: 1.0195 - accuracy: 0.3640 - val_loss: 0.9990 - val_accuracy: 0.3744\n",
            "Epoch 6/50\n",
            "16/16 [==============================] - 0s 5ms/step - loss: 0.9584 - accuracy: 0.4274 - val_loss: 0.9220 - val_accuracy: 0.5450\n",
            "Epoch 7/50\n",
            "16/16 [==============================] - 0s 6ms/step - loss: 0.8759 - accuracy: 0.5746 - val_loss: 0.8403 - val_accuracy: 0.5782\n",
            "Epoch 8/50\n",
            "16/16 [==============================] - 0s 4ms/step - loss: 0.7959 - accuracy: 0.6074 - val_loss: 0.7899 - val_accuracy: 0.5924\n",
            "Epoch 9/50\n",
            "16/16 [==============================] - 0s 4ms/step - loss: 0.7374 - accuracy: 0.6217 - val_loss: 0.7426 - val_accuracy: 0.6493\n",
            "Epoch 10/50\n",
            "16/16 [==============================] - 0s 5ms/step - loss: 0.6938 - accuracy: 0.6687 - val_loss: 0.7151 - val_accuracy: 0.6588\n",
            "Epoch 11/50\n",
            "16/16 [==============================] - 0s 5ms/step - loss: 0.6585 - accuracy: 0.6912 - val_loss: 0.7041 - val_accuracy: 0.6919\n",
            "Epoch 12/50\n",
            "16/16 [==============================] - 0s 5ms/step - loss: 0.6333 - accuracy: 0.6973 - val_loss: 0.6600 - val_accuracy: 0.6635\n",
            "Epoch 13/50\n",
            "16/16 [==============================] - 0s 4ms/step - loss: 0.6103 - accuracy: 0.7239 - val_loss: 0.6387 - val_accuracy: 0.6682\n",
            "Epoch 14/50\n",
            "16/16 [==============================] - 0s 6ms/step - loss: 0.5926 - accuracy: 0.7178 - val_loss: 0.6241 - val_accuracy: 0.7062\n",
            "Epoch 15/50\n",
            "16/16 [==============================] - 0s 4ms/step - loss: 0.5772 - accuracy: 0.7219 - val_loss: 0.6098 - val_accuracy: 0.7441\n",
            "Epoch 16/50\n",
            "16/16 [==============================] - 0s 5ms/step - loss: 0.5566 - accuracy: 0.7382 - val_loss: 0.5994 - val_accuracy: 0.6777\n",
            "Epoch 17/50\n",
            "16/16 [==============================] - 0s 4ms/step - loss: 0.5412 - accuracy: 0.7423 - val_loss: 0.5769 - val_accuracy: 0.7393\n",
            "Epoch 18/50\n",
            "16/16 [==============================] - 0s 4ms/step - loss: 0.5280 - accuracy: 0.7423 - val_loss: 0.5696 - val_accuracy: 0.7014\n",
            "Epoch 19/50\n",
            "16/16 [==============================] - 0s 4ms/step - loss: 0.5180 - accuracy: 0.7710 - val_loss: 0.5902 - val_accuracy: 0.6825\n",
            "Epoch 20/50\n",
            "16/16 [==============================] - 0s 4ms/step - loss: 0.5107 - accuracy: 0.7853 - val_loss: 0.5800 - val_accuracy: 0.7014\n",
            "Epoch 21/50\n",
            "16/16 [==============================] - 0s 4ms/step - loss: 0.4948 - accuracy: 0.7996 - val_loss: 0.5329 - val_accuracy: 0.7725\n",
            "Epoch 22/50\n",
            "16/16 [==============================] - 0s 5ms/step - loss: 0.4835 - accuracy: 0.7873 - val_loss: 0.5605 - val_accuracy: 0.7251\n",
            "Epoch 23/50\n",
            "16/16 [==============================] - 0s 4ms/step - loss: 0.4768 - accuracy: 0.7955 - val_loss: 0.5375 - val_accuracy: 0.7393\n",
            "Epoch 24/50\n",
            "16/16 [==============================] - 0s 4ms/step - loss: 0.4588 - accuracy: 0.8160 - val_loss: 0.5130 - val_accuracy: 0.7725\n",
            "Epoch 25/50\n",
            "16/16 [==============================] - 0s 5ms/step - loss: 0.4480 - accuracy: 0.8364 - val_loss: 0.5018 - val_accuracy: 0.8009\n",
            "Epoch 26/50\n",
            "16/16 [==============================] - 0s 4ms/step - loss: 0.4333 - accuracy: 0.8528 - val_loss: 0.4884 - val_accuracy: 0.8246\n",
            "Epoch 27/50\n",
            "16/16 [==============================] - 0s 4ms/step - loss: 0.4244 - accuracy: 0.8405 - val_loss: 0.4715 - val_accuracy: 0.8104\n",
            "Epoch 28/50\n",
            "16/16 [==============================] - 0s 4ms/step - loss: 0.4125 - accuracy: 0.8425 - val_loss: 0.4749 - val_accuracy: 0.8246\n",
            "Epoch 29/50\n",
            "16/16 [==============================] - 0s 5ms/step - loss: 0.3954 - accuracy: 0.8609 - val_loss: 0.4682 - val_accuracy: 0.8199\n",
            "Epoch 30/50\n",
            "16/16 [==============================] - 0s 5ms/step - loss: 0.4069 - accuracy: 0.8364 - val_loss: 0.4415 - val_accuracy: 0.8341\n",
            "Epoch 31/50\n",
            "16/16 [==============================] - 0s 4ms/step - loss: 0.3845 - accuracy: 0.8548 - val_loss: 0.4738 - val_accuracy: 0.8057\n",
            "Epoch 32/50\n",
            "16/16 [==============================] - 0s 4ms/step - loss: 0.3820 - accuracy: 0.8569 - val_loss: 0.4269 - val_accuracy: 0.8389\n",
            "Epoch 33/50\n",
            "16/16 [==============================] - 0s 4ms/step - loss: 0.3715 - accuracy: 0.8589 - val_loss: 0.4210 - val_accuracy: 0.8389\n",
            "Epoch 34/50\n",
            "16/16 [==============================] - 0s 4ms/step - loss: 0.3698 - accuracy: 0.8548 - val_loss: 0.4294 - val_accuracy: 0.8389\n",
            "Epoch 35/50\n",
            "16/16 [==============================] - 0s 4ms/step - loss: 0.3552 - accuracy: 0.8671 - val_loss: 0.4049 - val_accuracy: 0.8483\n",
            "Epoch 36/50\n",
            "16/16 [==============================] - 0s 4ms/step - loss: 0.3441 - accuracy: 0.8671 - val_loss: 0.3974 - val_accuracy: 0.8483\n",
            "Epoch 37/50\n",
            "16/16 [==============================] - 0s 4ms/step - loss: 0.3319 - accuracy: 0.8609 - val_loss: 0.3916 - val_accuracy: 0.8483\n",
            "Epoch 38/50\n",
            "16/16 [==============================] - 0s 4ms/step - loss: 0.3291 - accuracy: 0.8732 - val_loss: 0.3834 - val_accuracy: 0.8626\n",
            "Epoch 39/50\n",
            "16/16 [==============================] - 0s 4ms/step - loss: 0.3151 - accuracy: 0.8773 - val_loss: 0.3837 - val_accuracy: 0.8389\n",
            "Epoch 40/50\n",
            "16/16 [==============================] - 0s 4ms/step - loss: 0.3048 - accuracy: 0.8814 - val_loss: 0.3871 - val_accuracy: 0.8294\n",
            "Epoch 41/50\n",
            "16/16 [==============================] - 0s 4ms/step - loss: 0.3185 - accuracy: 0.8834 - val_loss: 0.4486 - val_accuracy: 0.8104\n",
            "Epoch 42/50\n",
            "16/16 [==============================] - 0s 6ms/step - loss: 0.3134 - accuracy: 0.8793 - val_loss: 0.3875 - val_accuracy: 0.8389\n",
            "Epoch 43/50\n",
            "16/16 [==============================] - 0s 5ms/step - loss: 0.2996 - accuracy: 0.8753 - val_loss: 0.3540 - val_accuracy: 0.8246\n",
            "Epoch 44/50\n",
            "16/16 [==============================] - 0s 5ms/step - loss: 0.2791 - accuracy: 0.9059 - val_loss: 0.3869 - val_accuracy: 0.8341\n",
            "Epoch 45/50\n",
            "16/16 [==============================] - 0s 5ms/step - loss: 0.2725 - accuracy: 0.9039 - val_loss: 0.3653 - val_accuracy: 0.8483\n",
            "Epoch 46/50\n",
            "16/16 [==============================] - 0s 5ms/step - loss: 0.2708 - accuracy: 0.8896 - val_loss: 0.3344 - val_accuracy: 0.8483\n",
            "Epoch 47/50\n",
            "16/16 [==============================] - 0s 5ms/step - loss: 0.2594 - accuracy: 0.8957 - val_loss: 0.3374 - val_accuracy: 0.8626\n",
            "Epoch 48/50\n",
            "16/16 [==============================] - 0s 5ms/step - loss: 0.2567 - accuracy: 0.9080 - val_loss: 0.3226 - val_accuracy: 0.8720\n",
            "Epoch 49/50\n",
            "16/16 [==============================] - 0s 5ms/step - loss: 0.2410 - accuracy: 0.9018 - val_loss: 0.3238 - val_accuracy: 0.9052\n",
            "Epoch 50/50\n",
            "16/16 [==============================] - 0s 5ms/step - loss: 0.2532 - accuracy: 0.9223 - val_loss: 0.3036 - val_accuracy: 0.8957\n"
          ]
        }
      ]
    },
    {
      "cell_type": "code",
      "source": [
        "plt.figure(figsize = (8,5))\n",
        "plt.plot(history.history[\"accuracy\"], label= \"Training loss\")\n",
        "plt.plot(history.history[\"val_accuracy\"], label= \"Validation loss\")\n",
        "plt.title(\"Training VS Validation loss\", fontsize = 20)\n",
        "plt.xlabel(\"No. of Epochs\")\n",
        "plt.ylabel(\"Loss\")\n",
        "plt.legend()\n",
        "plt.show()"
      ],
      "metadata": {
        "id": "xcgHuyHKLzUS",
        "colab": {
          "base_uri": "https://localhost:8080/",
          "height": 355
        },
        "outputId": "e9f330eb-31b0-4eab-d67a-1b486485ab88"
      },
      "execution_count": null,
      "outputs": [
        {
          "output_type": "display_data",
          "data": {
            "text/plain": [
              "<Figure size 576x360 with 1 Axes>"
            ],
            "image/png": "[encoded data removed]"
          },
          "metadata": {
            "needs_background": "light"
          }
        }
      ]
    },
    {
      "cell_type": "code",
      "source": [
        "plt.figure(figsize = (8,5))\n",
        "plt.plot(history.history[\"loss\"], label= \"Training loss\")\n",
        "plt.plot(history.history[\"val_loss\"], label= \"Validation loss\")\n",
        "plt.title(\"Training VS Validation loss\", fontsize = 20)\n",
        "plt.xlabel(\"No. of Epochs\")\n",
        "plt.ylabel(\"Loss\")\n",
        "plt.legend()\n",
        "plt.show()"
      ],
      "metadata": {
        "id": "4Z9uIIEw17tr",
        "colab": {
          "base_uri": "https://localhost:8080/",
          "height": 355
        },
        "outputId": "07682ae3-3883-482d-aae1-ac6c4a8870b9"
      },
      "execution_count": null,
      "outputs": [
        {
          "output_type": "display_data",
          "data": {
            "text/plain": [
              "<Figure size 576x360 with 1 Axes>"
            ],
            "image/png": "[encoded data removed]"
          },
          "metadata": {
            "needs_background": "light"
          }
        }
      ]
    },
    {
      "cell_type": "code",
      "source": [
        "score, acc = dlModel.evaluate(X_train, Y_train,batch_size=10)\n",
        "print('Train score:', score)\n",
        "print('Train accuracy:', acc)"
      ],
      "metadata": {
        "id": "nLj74VCB2xHR",
        "colab": {
          "base_uri": "https://localhost:8080/"
        },
        "outputId": "f2a19f99-7f3e-4c41-da80-828a4f2bb319"
      },
      "execution_count": null,
      "outputs": [
        {
          "output_type": "stream",
          "name": "stdout",
          "text": [
            "70/70 [==============================] - 0s 2ms/step - loss: 0.2560 - accuracy: 0.9200\n",
            "Train score: 0.25604990124702454\n",
            "Train accuracy: 0.9200000166893005\n"
          ]
        }
      ]
    },
    {
      "cell_type": "code",
      "source": [
        "# Predicting the Test set results\n",
        "y_pred = dlModel.predict(X_test)"
      ],
      "metadata": {
        "id": "3ebQ93lu2xAY",
        "colab": {
          "base_uri": "https://localhost:8080/"
        },
        "outputId": "0f844e54-200a-4c98-f039-698b362473dd"
      },
      "execution_count": null,
      "outputs": [
        {
          "output_type": "stream",
          "name": "stdout",
          "text": [
            "10/10 [==============================] - 0s 2ms/step\n"
          ]
        }
      ]
    },
    {
      "cell_type": "code",
      "source": [
        "score, acc = dlModel.evaluate(X_test, Y_test,batch_size=10)\n",
        "\n",
        "print('Test score:', score)\n",
        "print('Test accuracy:', acc)"
      ],
      "metadata": {
        "id": "yK5ejASO2w9J",
        "colab": {
          "base_uri": "https://localhost:8080/"
        },
        "outputId": "2c575197-2458-41ea-fe8c-d2db2d8e1615"
      },
      "execution_count": null,
      "outputs": [
        {
          "output_type": "stream",
          "name": "stdout",
          "text": [
            "30/30 [==============================] - 0s 1ms/step - loss: 0.2394 - accuracy: 0.9200\n",
            "Test score: 0.2394431084394455\n",
            "Test accuracy: 0.9200000166893005\n"
          ]
        }
      ]
    },
    {
      "cell_type": "code",
      "source": [
        "# Making the Confusion Matrix\n",
        "from sklearn.metrics import confusion_matrix\n",
        "cm = confusion_matrix(Y_test.values.argmax(axis=1), y_pred.argmax(axis=1))\n",
        "print(cm)"
      ],
      "metadata": {
        "id": "q324_WZT2SiE",
        "colab": {
          "base_uri": "https://localhost:8080/"
        },
        "outputId": "94b5f037-1dc4-4f00-f978-7332212be4bb"
      },
      "execution_count": null,
      "outputs": [
        {
          "output_type": "stream",
          "name": "stdout",
          "text": [
            "[[ 87   4   0]\n",
            " [ 16  81   3]\n",
            " [  0   1 108]]\n"
          ]
        }
      ]
    },
    {
      "cell_type": "code",
      "source": [
        "p = sns.heatmap(pd.DataFrame(cm), annot=True ,fmt='g')\n",
        "plt.title('Confusion matrix', y=1.1)\n",
        "plt.ylabel('Actual label')\n",
        "plt.xlabel('Predicted label')"
      ],
      "metadata": {
        "id": "6iECWDL73AZO",
        "colab": {
          "base_uri": "https://localhost:8080/",
          "height": 312
        },
        "outputId": "dfffda99-478f-4bb2-af9a-f3cd34ae9632"
      },
      "execution_count": null,
      "outputs": [
        {
          "output_type": "execute_result",
          "data": {
            "text/plain": [
              "Text(0.5, 15.0, 'Predicted label')"
            ]
          },
          "metadata": {},
          "execution_count": 103
        },
        {
          "output_type": "display_data",
          "data": {
            "text/plain": [
              "<Figure size 432x288 with 2 Axes>"
            ],
            "image/png": "[encoded data removed]"
          },
          "metadata": {
            "needs_background": "light"
          }
        }
      ]
    },
    {
      "cell_type": "code",
      "source": [
        "from sklearn.metrics import classification_report\n",
        "print(classification_report(Y_test.values.argmax(axis=1), y_pred.argmax(axis=1)))"
      ],
      "metadata": {
        "id": "SrwrTvwU3M0Z",
        "colab": {
          "base_uri": "https://localhost:8080/"
        },
        "outputId": "4add3443-e3d1-4ec7-f816-751856962e31"
      },
      "execution_count": null,
      "outputs": [
        {
          "output_type": "stream",
          "name": "stdout",
          "text": [
            "              precision    recall  f1-score   support\n",
            "\n",
            "           0       0.84      0.96      0.90        91\n",
            "           1       0.94      0.81      0.87       100\n",
            "           2       0.97      0.99      0.98       109\n",
            "\n",
            "    accuracy                           0.92       300\n",
            "   macro avg       0.92      0.92      0.92       300\n",
            "weighted avg       0.92      0.92      0.92       300\n",
            "\n"
          ]
        }
      ]
    },
    {
      "cell_type": "markdown",
      "source": [
        "#### Analysis"
      ],
      "metadata": {
        "id": "6X5hswlfQUa_"
      }
    },
    {
      "cell_type": "code",
      "source": [
        "print('Accuray of every model on this dataset')\n",
        "accuracyTracker"
      ],
      "metadata": {
        "colab": {
          "base_uri": "https://localhost:8080/"
        },
        "id": "Blh9xOrEQWM9",
        "outputId": "5e654353-488a-4884-a49a-56c664ba1637"
      },
      "execution_count": null,
      "outputs": [
        {
          "output_type": "stream",
          "name": "stdout",
          "text": [
            "Accuray of every model on this dataset\n"
          ]
        },
        {
          "output_type": "execute_result",
          "data": {
            "text/plain": [
              "{'LogisticRegression': 0.98,\n",
              " 'LinearRegression': 0.9466666666666667,\n",
              " 'GaussianNB': 0.8733333333333333,\n",
              " 'BernoulliNB': 0.88,\n",
              " 'RandomForestRegressor': 1.0,\n",
              " 'SVR': 1.0,\n",
              " 'SGDRegressor': 0.9566666666666667,\n",
              " 'Ridge': 0.9466666666666667}"
            ]
          },
          "metadata": {},
          "execution_count": 105
        }
      ]
    },
    {
      "cell_type": "code",
      "source": [
        "print('MSE of every model on this dataset')\n",
        "mseTracker"
      ],
      "metadata": {
        "colab": {
          "base_uri": "https://localhost:8080/"
        },
        "id": "KhdyTUuuQevf",
        "outputId": "6b810505-d908-41d5-8a25-2fba49942c62"
      },
      "execution_count": null,
      "outputs": [
        {
          "output_type": "stream",
          "name": "stdout",
          "text": [
            "MSE of every model on this dataset\n"
          ]
        },
        {
          "output_type": "execute_result",
          "data": {
            "text/plain": [
              "{'LogisticRegression': 0.02,\n",
              " 'LinearRegression': 0.05333333333333334,\n",
              " 'GaussianNB': 0.17666666666666667,\n",
              " 'BernoulliNB': 0.17,\n",
              " 'RandomForestRegressor': 0.0,\n",
              " 'SVR': 0.0,\n",
              " 'SGDRegressor': 0.043333333333333335,\n",
              " 'Ridge': 0.05333333333333334}"
            ]
          },
          "metadata": {},
          "execution_count": 106
        }
      ]
    },
    {
      "cell_type": "code",
      "source": [
        "print('Min, Max and Mean accuraies of all models obtained by K Fold =10')\n",
        "KFoldAccuries"
      ],
      "metadata": {
        "id": "WsPJfu_4QhY6",
        "colab": {
          "base_uri": "https://localhost:8080/",
          "height": 314
        },
        "outputId": "cf229c21-6e81-450c-fb38-4eb7ef36dd54"
      },
      "execution_count": null,
      "outputs": [
        {
          "output_type": "stream",
          "name": "stdout",
          "text": [
            "Min, Max and Mean accuraies of all models obtained by K Fold =10\n"
          ]
        },
        {
          "output_type": "execute_result",
          "data": {
            "text/plain": [
              "                   Model  Min Accuracy  Mean Accuracy  Max Accuracy\n",
              "0     LogisticRegression      0.942857       0.977143      1.000000\n",
              "1       LinearRegression      0.881773       0.928326      0.948382\n",
              "2             GaussianNB      0.857143       0.900000      0.971429\n",
              "3            BernoulliNB      0.828571       0.894286      0.942857\n",
              "4  RandomForestRegressor      0.999926       0.999984      1.000000\n",
              "5                    SVR      0.987657       0.989094      0.991016\n",
              "6           SGDRegressor      0.867935       0.919498      0.936792\n",
              "7                  Ridge      0.881583       0.928318      0.948468"
            ],
            "text/html": [
              "\n",
              "  <div id=\"df-9554a49b-008e-4876-900f-ffd2351f4ec8\">\n",
              "    <div class=\"colab-df-container\">\n",
              "      <div>\n",
              "<style scoped>\n",
              "    .dataframe tbody tr th:only-of-type {\n",
              "        vertical-align: middle;\n",
              "    }\n",
              "\n",
              "    .dataframe tbody tr th {\n",
              "        vertical-align: top;\n",
              "    }\n",
              "\n",
              "    .dataframe thead th {\n",
              "        text-align: right;\n",
              "    }\n",
              "</style>\n",
              "<table border=\"1\" class=\"dataframe\">\n",
              "  <thead>\n",
              "    <tr style=\"text-align: right;\">\n",
              "      <th></th>\n",
              "      <th>Model</th>\n",
              "      <th>Min Accuracy</th>\n",
              "      <th>Mean Accuracy</th>\n",
              "      <th>Max Accuracy</th>\n",
              "    </tr>\n",
              "  </thead>\n",
              "  <tbody>\n",
              "    <tr>\n",
              "      <th>0</th>\n",
              "      <td>LogisticRegression</td>\n",
              "      <td>0.942857</td>\n",
              "      <td>0.977143</td>\n",
              "      <td>1.000000</td>\n",
              "    </tr>\n",
              "    <tr>\n",
              "      <th>1</th>\n",
              "      <td>LinearRegression</td>\n",
              "      <td>0.881773</td>\n",
              "      <td>0.928326</td>\n",
              "      <td>0.948382</td>\n",
              "    </tr>\n",
              "    <tr>\n",
              "      <th>2</th>\n",
              "      <td>GaussianNB</td>\n",
              "      <td>0.857143</td>\n",
              "      <td>0.900000</td>\n",
              "      <td>0.971429</td>\n",
              "    </tr>\n",
              "    <tr>\n",
              "      <th>3</th>\n",
              "      <td>BernoulliNB</td>\n",
              "      <td>0.828571</td>\n",
              "      <td>0.894286</td>\n",
              "      <td>0.942857</td>\n",
              "    </tr>\n",
              "    <tr>\n",
              "      <th>4</th>\n",
              "      <td>RandomForestRegressor</td>\n",
              "      <td>0.999926</td>\n",
              "      <td>0.999984</td>\n",
              "      <td>1.000000</td>\n",
              "    </tr>\n",
              "    <tr>\n",
              "      <th>5</th>\n",
              "      <td>SVR</td>\n",
              "      <td>0.987657</td>\n",
              "      <td>0.989094</td>\n",
              "      <td>0.991016</td>\n",
              "    </tr>\n",
              "    <tr>\n",
              "      <th>6</th>\n",
              "      <td>SGDRegressor</td>\n",
              "      <td>0.867935</td>\n",
              "      <td>0.919498</td>\n",
              "      <td>0.936792</td>\n",
              "    </tr>\n",
              "    <tr>\n",
              "      <th>7</th>\n",
              "      <td>Ridge</td>\n",
              "      <td>0.881583</td>\n",
              "      <td>0.928318</td>\n",
              "      <td>0.948468</td>\n",
              "    </tr>\n",
              "  </tbody>\n",
              "</table>\n",
              "</div>\n",
              "      <button class=\"colab-df-convert\" onclick=\"convertToInteractive('df-9554a49b-008e-4876-900f-ffd2351f4ec8')\"\n",
              "              title=\"Convert this dataframe to an interactive table.\"\n",
              "              style=\"display:none;\">\n",
              "        \n",
              "  <svg xmlns=\"http://www.w3.org/2000/svg\" height=\"24px\"viewBox=\"0 0 24 24\"\n",
              "       width=\"24px\">\n",
              "    <path d=\"M0 0h24v24H0V0z\" fill=\"none\"/>\n",
              "    <path d=\"M18.56 5.44l.94 2.06.94-2.06 2.06-.94-2.06-.94-.94-2.06-.94 2.06-2.06.94zm-11 1L8.5 8.5l.94-2.06 2.06-.94-2.06-.94L8.5 2.5l-.94 2.06-2.06.94zm10 10l.94 2.06.94-2.06 2.06-.94-2.06-.94-.94-2.06-.94 2.06-2.06.94z\"/><path d=\"M17.41 7.96l-1.37-1.37c-.4-.4-.92-.59-1.43-.59-.52 0-1.04.2-1.43.59L10.3 9.45l-7.72 7.72c-.78.78-.78 2.05 0 2.83L4 21.41c.39.39.9.59 1.41.59.51 0 1.02-.2 1.41-.59l7.78-7.78 2.81-2.81c.8-.78.8-2.07 0-2.86zM5.41 20L4 18.59l7.72-7.72 1.47 1.35L5.41 20z\"/>\n",
              "  </svg>\n",
              "      </button>\n",
              "      \n",
              "  <style>\n",
              "    .colab-df-container {\n",
              "      display:flex;\n",
              "      flex-wrap:wrap;\n",
              "      gap: 12px;\n",
              "    }\n",
              "\n",
              "    .colab-df-convert {\n",
              "      background-color: #E8F0FE;\n",
              "      border: none;\n",
              "      border-radius: 50%;\n",
              "      cursor: pointer;\n",
              "      display: none;\n",
              "      fill: #1967D2;\n",
              "      height: 32px;\n",
              "      padding: 0 0 0 0;\n",
              "      width: 32px;\n",
              "    }\n",
              "\n",
              "    .colab-df-convert:hover {\n",
              "      background-color: #E2EBFA;\n",
              "      box-shadow: 0px 1px 2px rgba(60, 64, 67, 0.3), 0px 1px 3px 1px rgba(60, 64, 67, 0.15);\n",
              "      fill: #174EA6;\n",
              "    }\n",
              "\n",
              "    [theme=dark] .colab-df-convert {\n",
              "      background-color: #3B4455;\n",
              "      fill: #D2E3FC;\n",
              "    }\n",
              "\n",
              "    [theme=dark] .colab-df-convert:hover {\n",
              "      background-color: #434B5C;\n",
              "      box-shadow: 0px 1px 3px 1px rgba(0, 0, 0, 0.15);\n",
              "      filter: drop-shadow(0px 1px 2px rgba(0, 0, 0, 0.3));\n",
              "      fill: #FFFFFF;\n",
              "    }\n",
              "  </style>\n",
              "\n",
              "      <script>\n",
              "        const buttonEl =\n",
              "          document.querySelector('#df-9554a49b-008e-4876-900f-ffd2351f4ec8 button.colab-df-convert');\n",
              "        buttonEl.style.display =\n",
              "          google.colab.kernel.accessAllowed ? 'block' : 'none';\n",
              "\n",
              "        async function convertToInteractive(key) {\n",
              "          const element = document.querySelector('#df-9554a49b-008e-4876-900f-ffd2351f4ec8');\n",
              "          const dataTable =\n",
              "            await google.colab.kernel.invokeFunction('convertToInteractive',\n",
              "                                                     [key], {});\n",
              "          if (!dataTable) return;\n",
              "\n",
              "          const docLinkHtml = 'Like what you see? Visit the ' +\n",
              "            '<a target=\"_blank\" href=https://colab.research.google.com/notebooks/data_table.ipynb>data table notebook</a>'\n",
              "            + ' to learn more about interactive tables.';\n",
              "          element.innerHTML = '';\n",
              "          dataTable['output_type'] = 'display_data';\n",
              "          await google.colab.output.renderOutput(dataTable, element);\n",
              "          const docLink = document.createElement('div');\n",
              "          docLink.innerHTML = docLinkHtml;\n",
              "          element.appendChild(docLink);\n",
              "        }\n",
              "      </script>\n",
              "    </div>\n",
              "  </div>\n",
              "  "
            ]
          },
          "metadata": {},
          "execution_count": 107
        }
      ]
    },
    {
      "cell_type": "code",
      "source": [
        "RESULT=KFoldAccuries.copy()\n",
        "B=pd.DataFrame(mseTracker.items(), columns=['Model', 'MSE'])\n",
        "B['Accuracy'] = B['Model'].map(accuracyTracker)\n",
        "B=pd.merge(B,scoreTracker,on='Model')\n",
        "RESULT=pd.merge(RESULT,B,on='Model')"
      ],
      "metadata": {
        "id": "sKF3L4Pf7Q5C"
      },
      "execution_count": null,
      "outputs": []
    },
    {
      "cell_type": "markdown",
      "source": [
        "Consolidated results of all metrics amoung different models"
      ],
      "metadata": {
        "id": "21N1hscsAwPZ"
      }
    },
    {
      "cell_type": "code",
      "source": [
        "RESULT"
      ],
      "metadata": {
        "colab": {
          "base_uri": "https://localhost:8080/",
          "height": 297
        },
        "id": "yaE-oWlYAzAL",
        "outputId": "a973ba89-38ba-402b-fd73-553aaf6738ce"
      },
      "execution_count": null,
      "outputs": [
        {
          "output_type": "execute_result",
          "data": {
            "text/plain": [
              "                   Model  Min Accuracy  Mean Accuracy  Max Accuracy       MSE  \\\n",
              "0     LogisticRegression      0.942857       0.977143      1.000000  0.020000   \n",
              "1       LinearRegression      0.881773       0.928326      0.948382  0.053333   \n",
              "2             GaussianNB      0.857143       0.900000      0.971429  0.176667   \n",
              "3            BernoulliNB      0.828571       0.894286      0.942857  0.170000   \n",
              "4  RandomForestRegressor      0.999926       0.999984      1.000000  0.000000   \n",
              "5                    SVR      0.987657       0.989094      0.991016  0.000000   \n",
              "6           SGDRegressor      0.867935       0.919498      0.936792  0.043333   \n",
              "7                  Ridge      0.881583       0.928318      0.948468  0.053333   \n",
              "\n",
              "   Accuracy  Precision    Recall  F1-score  \n",
              "0  0.980000   0.980020  0.981340  0.980431  \n",
              "1  0.946667   0.957672  0.943860  0.947571  \n",
              "2  0.873333   0.887858  0.877671  0.876326  \n",
              "3  0.880000   0.894029  0.886124  0.881581  \n",
              "4  1.000000   1.000000  1.000000  1.000000  \n",
              "5  1.000000   1.000000  1.000000  1.000000  \n",
              "6  0.956667   0.964770  0.954386  0.956920  \n",
              "7  0.946667   0.957672  0.943860  0.947571  "
            ],
            "text/html": [
              "\n",
              "  <div id=\"df-3da43633-e2dd-46b5-a595-9ecf2633faee\">\n",
              "    <div class=\"colab-df-container\">\n",
              "      <div>\n",
              "<style scoped>\n",
              "    .dataframe tbody tr th:only-of-type {\n",
              "        vertical-align: middle;\n",
              "    }\n",
              "\n",
              "    .dataframe tbody tr th {\n",
              "        vertical-align: top;\n",
              "    }\n",
              "\n",
              "    .dataframe thead th {\n",
              "        text-align: right;\n",
              "    }\n",
              "</style>\n",
              "<table border=\"1\" class=\"dataframe\">\n",
              "  <thead>\n",
              "    <tr style=\"text-align: right;\">\n",
              "      <th></th>\n",
              "      <th>Model</th>\n",
              "      <th>Min Accuracy</th>\n",
              "      <th>Mean Accuracy</th>\n",
              "      <th>Max Accuracy</th>\n",
              "      <th>MSE</th>\n",
              "      <th>Accuracy</th>\n",
              "      <th>Precision</th>\n",
              "      <th>Recall</th>\n",
              "      <th>F1-score</th>\n",
              "    </tr>\n",
              "  </thead>\n",
              "  <tbody>\n",
              "    <tr>\n",
              "      <th>0</th>\n",
              "      <td>LogisticRegression</td>\n",
              "      <td>0.942857</td>\n",
              "      <td>0.977143</td>\n",
              "      <td>1.000000</td>\n",
              "      <td>0.020000</td>\n",
              "      <td>0.980000</td>\n",
              "      <td>0.980020</td>\n",
              "      <td>0.981340</td>\n",
              "      <td>0.980431</td>\n",
              "    </tr>\n",
              "    <tr>\n",
              "      <th>1</th>\n",
              "      <td>LinearRegression</td>\n",
              "      <td>0.881773</td>\n",
              "      <td>0.928326</td>\n",
              "      <td>0.948382</td>\n",
              "      <td>0.053333</td>\n",
              "      <td>0.946667</td>\n",
              "      <td>0.957672</td>\n",
              "      <td>0.943860</td>\n",
              "      <td>0.947571</td>\n",
              "    </tr>\n",
              "    <tr>\n",
              "      <th>2</th>\n",
              "      <td>GaussianNB</td>\n",
              "      <td>0.857143</td>\n",
              "      <td>0.900000</td>\n",
              "      <td>0.971429</td>\n",
              "      <td>0.176667</td>\n",
              "      <td>0.873333</td>\n",
              "      <td>0.887858</td>\n",
              "      <td>0.877671</td>\n",
              "      <td>0.876326</td>\n",
              "    </tr>\n",
              "    <tr>\n",
              "      <th>3</th>\n",
              "      <td>BernoulliNB</td>\n",
              "      <td>0.828571</td>\n",
              "      <td>0.894286</td>\n",
              "      <td>0.942857</td>\n",
              "      <td>0.170000</td>\n",
              "      <td>0.880000</td>\n",
              "      <td>0.894029</td>\n",
              "      <td>0.886124</td>\n",
              "      <td>0.881581</td>\n",
              "    </tr>\n",
              "    <tr>\n",
              "      <th>4</th>\n",
              "      <td>RandomForestRegressor</td>\n",
              "      <td>0.999926</td>\n",
              "      <td>0.999984</td>\n",
              "      <td>1.000000</td>\n",
              "      <td>0.000000</td>\n",
              "      <td>1.000000</td>\n",
              "      <td>1.000000</td>\n",
              "      <td>1.000000</td>\n",
              "      <td>1.000000</td>\n",
              "    </tr>\n",
              "    <tr>\n",
              "      <th>5</th>\n",
              "      <td>SVR</td>\n",
              "      <td>0.987657</td>\n",
              "      <td>0.989094</td>\n",
              "      <td>0.991016</td>\n",
              "      <td>0.000000</td>\n",
              "      <td>1.000000</td>\n",
              "      <td>1.000000</td>\n",
              "      <td>1.000000</td>\n",
              "      <td>1.000000</td>\n",
              "    </tr>\n",
              "    <tr>\n",
              "      <th>6</th>\n",
              "      <td>SGDRegressor</td>\n",
              "      <td>0.867935</td>\n",
              "      <td>0.919498</td>\n",
              "      <td>0.936792</td>\n",
              "      <td>0.043333</td>\n",
              "      <td>0.956667</td>\n",
              "      <td>0.964770</td>\n",
              "      <td>0.954386</td>\n",
              "      <td>0.956920</td>\n",
              "    </tr>\n",
              "    <tr>\n",
              "      <th>7</th>\n",
              "      <td>Ridge</td>\n",
              "      <td>0.881583</td>\n",
              "      <td>0.928318</td>\n",
              "      <td>0.948468</td>\n",
              "      <td>0.053333</td>\n",
              "      <td>0.946667</td>\n",
              "      <td>0.957672</td>\n",
              "      <td>0.943860</td>\n",
              "      <td>0.947571</td>\n",
              "    </tr>\n",
              "  </tbody>\n",
              "</table>\n",
              "</div>\n",
              "      <button class=\"colab-df-convert\" onclick=\"convertToInteractive('df-3da43633-e2dd-46b5-a595-9ecf2633faee')\"\n",
              "              title=\"Convert this dataframe to an interactive table.\"\n",
              "              style=\"display:none;\">\n",
              "        \n",
              "  <svg xmlns=\"http://www.w3.org/2000/svg\" height=\"24px\"viewBox=\"0 0 24 24\"\n",
              "       width=\"24px\">\n",
              "    <path d=\"M0 0h24v24H0V0z\" fill=\"none\"/>\n",
              "    <path d=\"M18.56 5.44l.94 2.06.94-2.06 2.06-.94-2.06-.94-.94-2.06-.94 2.06-2.06.94zm-11 1L8.5 8.5l.94-2.06 2.06-.94-2.06-.94L8.5 2.5l-.94 2.06-2.06.94zm10 10l.94 2.06.94-2.06 2.06-.94-2.06-.94-.94-2.06-.94 2.06-2.06.94z\"/><path d=\"M17.41 7.96l-1.37-1.37c-.4-.4-.92-.59-1.43-.59-.52 0-1.04.2-1.43.59L10.3 9.45l-7.72 7.72c-.78.78-.78 2.05 0 2.83L4 21.41c.39.39.9.59 1.41.59.51 0 1.02-.2 1.41-.59l7.78-7.78 2.81-2.81c.8-.78.8-2.07 0-2.86zM5.41 20L4 18.59l7.72-7.72 1.47 1.35L5.41 20z\"/>\n",
              "  </svg>\n",
              "      </button>\n",
              "      \n",
              "  <style>\n",
              "    .colab-df-container {\n",
              "      display:flex;\n",
              "      flex-wrap:wrap;\n",
              "      gap: 12px;\n",
              "    }\n",
              "\n",
              "    .colab-df-convert {\n",
              "      background-color: #E8F0FE;\n",
              "      border: none;\n",
              "      border-radius: 50%;\n",
              "      cursor: pointer;\n",
              "      display: none;\n",
              "      fill: #1967D2;\n",
              "      height: 32px;\n",
              "      padding: 0 0 0 0;\n",
              "      width: 32px;\n",
              "    }\n",
              "\n",
              "    .colab-df-convert:hover {\n",
              "      background-color: #E2EBFA;\n",
              "      box-shadow: 0px 1px 2px rgba(60, 64, 67, 0.3), 0px 1px 3px 1px rgba(60, 64, 67, 0.15);\n",
              "      fill: #174EA6;\n",
              "    }\n",
              "\n",
              "    [theme=dark] .colab-df-convert {\n",
              "      background-color: #3B4455;\n",
              "      fill: #D2E3FC;\n",
              "    }\n",
              "\n",
              "    [theme=dark] .colab-df-convert:hover {\n",
              "      background-color: #434B5C;\n",
              "      box-shadow: 0px 1px 3px 1px rgba(0, 0, 0, 0.15);\n",
              "      filter: drop-shadow(0px 1px 2px rgba(0, 0, 0, 0.3));\n",
              "      fill: #FFFFFF;\n",
              "    }\n",
              "  </style>\n",
              "\n",
              "      <script>\n",
              "        const buttonEl =\n",
              "          document.querySelector('#df-3da43633-e2dd-46b5-a595-9ecf2633faee button.colab-df-convert');\n",
              "        buttonEl.style.display =\n",
              "          google.colab.kernel.accessAllowed ? 'block' : 'none';\n",
              "\n",
              "        async function convertToInteractive(key) {\n",
              "          const element = document.querySelector('#df-3da43633-e2dd-46b5-a595-9ecf2633faee');\n",
              "          const dataTable =\n",
              "            await google.colab.kernel.invokeFunction('convertToInteractive',\n",
              "                                                     [key], {});\n",
              "          if (!dataTable) return;\n",
              "\n",
              "          const docLinkHtml = 'Like what you see? Visit the ' +\n",
              "            '<a target=\"_blank\" href=https://colab.research.google.com/notebooks/data_table.ipynb>data table notebook</a>'\n",
              "            + ' to learn more about interactive tables.';\n",
              "          element.innerHTML = '';\n",
              "          dataTable['output_type'] = 'display_data';\n",
              "          await google.colab.output.renderOutput(dataTable, element);\n",
              "          const docLink = document.createElement('div');\n",
              "          docLink.innerHTML = docLinkHtml;\n",
              "          element.appendChild(docLink);\n",
              "        }\n",
              "      </script>\n",
              "    </div>\n",
              "  </div>\n",
              "  "
            ]
          },
          "metadata": {},
          "execution_count": 109
        }
      ]
    },
    {
      "cell_type": "markdown",
      "source": [
        "Result: \n",
        "- Random Forest Regressor is giving the best result. The deep learning model is an optimum model as the train and test accuraies are good.\n",
        "- We have used Models like Logistic Regression, SVM, Naïve Bayes, Random Forest. By evaluating the model, we found that the best models are Random Forest and SVM for this dataset.\n",
        "- As a future work we would like to collect more data from many real-world sources, labs and hospitals across the globe and develop the machine learning model to achieve highest accuracy and prevent overfitting of data."
      ],
      "metadata": {
        "id": "wUytoGZPA3mQ"
      }
    }
  ]
}